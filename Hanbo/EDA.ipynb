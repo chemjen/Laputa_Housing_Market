{
 "cells": [
  {
   "cell_type": "markdown",
   "metadata": {},
   "source": [
    "# Machine Learning Project - Predicting Housing Price In Ames, Iowa\n",
    "\n",
    "> We have the duty of **formulating**, of **summarizing**, and of **communicating our conclusions**, in intelligible form, in recognition of the right of other free minds to utilize them in making their own decisions.\n",
    ">\n",
    "> --_Ronald Fisher_\n",
    "\n",
    "This Jupyter notebook incorporates exploratory data analysis, the process of dropping variables/columns, data imputation. The main objective is to get a general sense of the data, perform part of the feature engineering and data transformation.\n",
    "\n",
    "<a id='top'></a>\n",
    "## Table of Contents\n",
    "\n",
    "* [1. Exploratory Data Analysis](#EDA)\n",
    " * [1.0 Dataframe Overview](#Overview)\n",
    " * [1.1 Missingness](#Missingness)\n",
    " * [1.2 Inbalances](#Inbalance)\n",
    " * [1.3 Correlation Check](#Correlation)\n",
    "* [2. Exploring Variables](#Variable_Exploration)\n",
    " * [2.1 Take a look at SalePrice](#SalePrice)\n",
    "* [3. Feature Engineering](#feature)\n",
    "\n",
    "\n"
   ]
  },
  {
   "cell_type": "markdown",
   "metadata": {},
   "source": [
    "<a id='EDA'></a>\n",
    "\n",
    "## 1. Exploratory Data Analysis"
   ]
  },
  {
   "cell_type": "markdown",
   "metadata": {},
   "source": [
    "<a id='Overview'></a>\n",
    "\n",
    "### 1.0 Dataframe Overview"
   ]
  },
  {
   "cell_type": "code",
   "execution_count": 1,
   "metadata": {},
   "outputs": [],
   "source": [
    "# Import Data Analysis Packages\n",
    "\n",
    "import numpy as np\n",
    "import pandas as pd\n",
    "import matplotlib.pyplot as plt\n",
    "import seaborn as sns\n",
    "%matplotlib inline\n",
    "pd.set_option('display.max_rows', 100)\n",
    "pd.set_option('display.max_columns', 80)\n",
    "from statsmodels.graphics.gofplots import qqplot\n",
    "from sklearn.preprocessing import power_transform\n",
    "from scipy import stats\n",
    "from  matplotlib.ticker import PercentFormatter"
   ]
  },
  {
   "cell_type": "code",
   "execution_count": 2,
   "metadata": {},
   "outputs": [],
   "source": [
    "# Import Data\n",
    "filePath  = './data/'\n",
    "df_train = pd.read_csv(filePath + \"train.csv\")\n",
    "df_test = pd.read_csv(filePath + \"test.csv\")"
   ]
  },
  {
   "cell_type": "code",
   "execution_count": 3,
   "metadata": {},
   "outputs": [
    {
     "name": "stdout",
     "output_type": "stream",
     "text": [
      "(1460, 81)\n",
      "(1459, 80)\n"
     ]
    }
   ],
   "source": [
    "print(df_train.shape) # training dataframe contains 1460 observations with 81 variables, including SalePrice\n",
    "print(df_test.shape)  # test dataframe contains 1459 observations with 80 variables"
   ]
  },
  {
   "cell_type": "code",
   "execution_count": 4,
   "metadata": {},
   "outputs": [],
   "source": [
    "# df_train.head()"
   ]
  },
  {
   "cell_type": "code",
   "execution_count": 5,
   "metadata": {},
   "outputs": [],
   "source": [
    "# df_test.head()"
   ]
  },
  {
   "cell_type": "code",
   "execution_count": 6,
   "metadata": {},
   "outputs": [
    {
     "data": {
      "text/plain": [
       "object     43\n",
       "int64      35\n",
       "float64     3\n",
       "dtype: int64"
      ]
     },
     "execution_count": 6,
     "metadata": {},
     "output_type": "execute_result"
    }
   ],
   "source": [
    "df_train.dtypes.value_counts() \n",
    "# Out of 81 variables, we have 43 categorical/qualitative variables, 38 quantitative variables\n",
    "# test dataset has one less variable SalePrice"
   ]
  },
  {
   "cell_type": "code",
   "execution_count": 7,
   "metadata": {},
   "outputs": [
    {
     "name": "stdout",
     "output_type": "stream",
     "text": [
      "['MSZoning', 'Street', 'Alley', 'LotShape', 'LandContour', 'Utilities', 'LotConfig', 'LandSlope', 'Neighborhood', 'Condition1', 'Condition2', 'BldgType', 'HouseStyle', 'RoofStyle', 'RoofMatl', 'Exterior1st', 'Exterior2nd', 'MasVnrType', 'ExterQual', 'ExterCond', 'Foundation', 'BsmtQual', 'BsmtCond', 'BsmtExposure', 'BsmtFinType1', 'BsmtFinType2', 'Heating', 'HeatingQC', 'CentralAir', 'Electrical', 'KitchenQual', 'Functional', 'FireplaceQu', 'GarageType', 'GarageFinish', 'GarageQual', 'GarageCond', 'PavedDrive', 'PoolQC', 'Fence', 'MiscFeature', 'SaleType', 'SaleCondition']\n"
     ]
    }
   ],
   "source": [
    "# list of categorical variables\n",
    "obj_list = list(df_train.columns[df_train.dtypes == 'object'])\n",
    "print(obj_list)"
   ]
  },
  {
   "cell_type": "code",
   "execution_count": 8,
   "metadata": {},
   "outputs": [
    {
     "name": "stdout",
     "output_type": "stream",
     "text": [
      "['MSSubClass', 'LotFrontage', 'LotArea', 'OverallQual', 'OverallCond', 'YearBuilt', 'YearRemodAdd', 'MasVnrArea', 'BsmtFinSF1', 'BsmtFinSF2', 'BsmtUnfSF', 'TotalBsmtSF', '1stFlrSF', '2ndFlrSF', 'LowQualFinSF', 'GrLivArea', 'BsmtFullBath', 'BsmtHalfBath', 'FullBath', 'HalfBath', 'BedroomAbvGr', 'KitchenAbvGr', 'TotRmsAbvGrd', 'Fireplaces', 'GarageYrBlt', 'GarageCars', 'GarageArea', 'WoodDeckSF', 'OpenPorchSF', 'EnclosedPorch', '3SsnPorch', 'ScreenPorch', 'PoolArea', 'MiscVal', 'MoSold', 'YrSold']\n"
     ]
    }
   ],
   "source": [
    "# list of quantitative variables Id/Saleprice would be need to be removed later \n",
    "num_list = list(df_train.columns[df_train.dtypes != 'object'])\n",
    "num_list.remove('Id')\n",
    "num_list.remove('SalePrice')\n",
    "print(num_list)"
   ]
  },
  {
   "cell_type": "code",
   "execution_count": 9,
   "metadata": {},
   "outputs": [],
   "source": [
    "train_saleprice = df_train.SalePrice"
   ]
  },
  {
   "cell_type": "code",
   "execution_count": 10,
   "metadata": {},
   "outputs": [],
   "source": [
    "train_id = df_train.Id\n",
    "df_train.drop('Id', axis = 1, inplace = True)\n",
    "test_id = df_test.Id\n",
    "df_test.drop('Id', axis = 1, inplace = True)"
   ]
  },
  {
   "cell_type": "code",
   "execution_count": 11,
   "metadata": {},
   "outputs": [],
   "source": [
    "# df_train[num_list].describe()"
   ]
  },
  {
   "cell_type": "markdown",
   "metadata": {},
   "source": [
    "[Back To Top](#top)"
   ]
  },
  {
   "cell_type": "markdown",
   "metadata": {},
   "source": [
    "<a id='Missingness'></a>\n",
    "### 1.1 Missingness"
   ]
  },
  {
   "cell_type": "code",
   "execution_count": 908,
   "metadata": {},
   "outputs": [
    {
     "name": "stdout",
     "output_type": "stream",
     "text": [
      "Total NaN in training Dataframe:  6965\n",
      "Percent Missingness in Dataframe:  5.889565364451209\n",
      "・ω・・ω・・ω・・ω・・ω・・ω・・ω・・ω・・ω・・ω・・ω・・ω・・ω・・ω・・ω・・ω・・ω・・ω・・ω・・ω・\n",
      "Total NaN in testing Dataframe:  7000\n",
      "Percent Missingness in Dataframe:  5.9972583961617545\n"
     ]
    }
   ],
   "source": [
    "# Overall Missingness training set\n",
    "total_nan = df_train.isnull().sum().sum()\n",
    "print(\"Total NaN in training Dataframe: \" , total_nan)\n",
    "print(\"Percent Missingness in Dataframe: \", 100*total_nan/(len(df_train.index)*len(df_train.columns)))\n",
    "# Overall Missingness test set \n",
    "print('・ω・'*20)\n",
    "total_nan = df_test.isnull().sum().sum()\n",
    "print(\"Total NaN in testing Dataframe: \" , total_nan)\n",
    "print(\"Percent Missingness in Dataframe: \", 100*total_nan/(len(df_test.index)*len(df_test.columns)))\n",
    "# There seems to be more missing data with the test data"
   ]
  },
  {
   "cell_type": "code",
   "execution_count": 909,
   "metadata": {},
   "outputs": [],
   "source": [
    "# Missingness of categorical variables\n",
    "obj_miss_percent_train = {}\n",
    "for i in range(len(obj_list)):\n",
    "#     print('-'*55)\n",
    "#     print(df_train[obj_list[i]].value_counts())\n",
    "    missing_value = df_train[obj_list[i]].isnull().sum()\n",
    "    missing_percentage = missing_value/len(df_train)\n",
    "    obj_miss_percent_train[obj_list[i]] = missing_percentage\n",
    "#     print('Number of missing values in %s is %d'%(obj_list[i], missing_value))\n",
    "#     print('Percentage of missing values for %s is %.2f'%(obj_list[i], missing_percentage))"
   ]
  },
  {
   "cell_type": "code",
   "execution_count": 910,
   "metadata": {},
   "outputs": [],
   "source": [
    "# Missingness of categorical variables\n",
    "obj_miss_percent_test = {}\n",
    "for i in range(len(obj_list)):\n",
    "#     print('-'*55)\n",
    "#     print(df_train[obj_list[i]].value_counts())\n",
    "    missing_value = df_test[obj_list[i]].isnull().sum()\n",
    "    missing_percentage = missing_value/len(df_test)\n",
    "    obj_miss_percent_test[obj_list[i]] = missing_percentage\n",
    "#     print('Number of missing values in %s is %d'%(obj_list[i], missing_value))\n",
    "#     print('Percentage of missing values for %s is %.2f'%(obj_list[i], missing_percentage))"
   ]
  },
  {
   "cell_type": "code",
   "execution_count": 911,
   "metadata": {},
   "outputs": [],
   "source": [
    "# Missingness of numerical variables (training)\n",
    "num_miss_percent_train = {}\n",
    "for i in range(len(num_list)):\n",
    "#     print('-'*55)\n",
    "#     print(df_train[num_list[i]].value_counts())\n",
    "    missing_value = df_train[num_list[i]].isnull().sum()\n",
    "    missing_percentage = missing_value/len(df_train)\n",
    "    num_miss_percent_train[num_list[i]] =  missing_percentage\n",
    "#     print('Number of missing values in %s is %d'%(num_list[i], missing_value))\n",
    "#     print('Percentage of missing values for %s is %.2f'%(num_list[i], missing_percentage))"
   ]
  },
  {
   "cell_type": "code",
   "execution_count": 912,
   "metadata": {},
   "outputs": [],
   "source": [
    "# Missingness of numerical variables (testing)\n",
    "num_miss_percent_test = {}\n",
    "for i in range(len(num_list)):\n",
    "#     print('-'*55)\n",
    "#     print(df_train[num_list[i]].value_counts())\n",
    "    missing_value = df_test[num_list[i]].isnull().sum()\n",
    "    missing_percentage = missing_value/len(df_test)\n",
    "    num_miss_percent_test[num_list[i]] =  missing_percentage\n",
    "#     print('Number of missing values in %s is %d'%(num_list[i], missing_value))\n",
    "#     print('Percentage of missing values for %s is %.2f'%(num_list[i], missing_percentage))"
   ]
  },
  {
   "cell_type": "code",
   "execution_count": 913,
   "metadata": {},
   "outputs": [],
   "source": [
    "perc_missing_train = {**obj_miss_percent_train, **num_miss_percent_train}\n",
    "perc_missing_train = pd.DataFrame(perc_missing_train.items(), columns=['Variable', 'Missingness'])\n",
    "perc_missing_train = perc_missing_train[perc_missing_train.Missingness > 0]\n",
    "perc_missing_train.sort_values('Missingness', ascending = False, inplace = True)"
   ]
  },
  {
   "cell_type": "code",
   "execution_count": 914,
   "metadata": {},
   "outputs": [],
   "source": [
    "perc_missing_test = {**obj_miss_percent_test, **num_miss_percent_test}\n",
    "perc_missing_test = pd.DataFrame(perc_missing_test.items(), columns=['Variable', 'Missingness'])\n",
    "perc_missing_test = perc_missing_test[perc_missing_test.Missingness > 0]\n",
    "perc_missing_test.sort_values('Missingness', ascending = False, inplace = True)"
   ]
  },
  {
   "cell_type": "code",
   "execution_count": 915,
   "metadata": {},
   "outputs": [],
   "source": [
    "# for those variables with missing values, we print the value counts\n",
    "\n",
    "# for i in range(len(perc_missing)):\n",
    "#     print(perc_missing.index[i])\n",
    "#     print('-'*15)\n",
    "#     print(df_train[perc_missing.index[i]].value_counts())\n",
    "#     print('-'*55)"
   ]
  },
  {
   "cell_type": "code",
   "execution_count": 916,
   "metadata": {},
   "outputs": [
    {
     "data": {
      "text/plain": [
       "<matplotlib.lines.Line2D at 0x1a29dbc8d0>"
      ]
     },
     "execution_count": 916,
     "metadata": {},
     "output_type": "execute_result"
    },
    {
     "data": {
      "image/png": "[encoded data removed]",
      "text/plain": [
       "<Figure size 864x576 with 1 Axes>"
      ]
     },
     "metadata": {},
     "output_type": "display_data"
    }
   ],
   "source": [
    "sns.set(style=\"whitegrid\")\n",
    "fig, ax = plt.subplots(figsize=(12,8))\n",
    "ax.xaxis.set_major_formatter(PercentFormatter(1))\n",
    "perc_bar = sns.barplot(y = 'Variable', x = 'Missingness', data = perc_missing_train, ax = ax)\n",
    "perc_bar.set(title = 'Percentage of Missingness (Training)')\n",
    "plt.axvline(x = 0.4, color='red')"
   ]
  },
  {
   "cell_type": "code",
   "execution_count": 917,
   "metadata": {},
   "outputs": [
    {
     "data": {
      "text/plain": [
       "<matplotlib.lines.Line2D at 0x1a2bfa76d0>"
      ]
     },
     "execution_count": 917,
     "metadata": {},
     "output_type": "execute_result"
    },
    {
     "data": {
      "image/png": "[encoded data removed]",
      "text/plain": [
       "<Figure size 864x576 with 1 Axes>"
      ]
     },
     "metadata": {},
     "output_type": "display_data"
    }
   ],
   "source": [
    "sns.set(style=\"whitegrid\")\n",
    "fig, ax = plt.subplots(figsize=(12,8))\n",
    "ax.xaxis.set_major_formatter(PercentFormatter(1))\n",
    "perc_bar = sns.barplot(y = 'Variable', x = 'Missingness', data = perc_missing_test, ax = ax)\n",
    "perc_bar.set(title = 'Percentage of Missingness (Testing)')\n",
    "plt.axvline(x = 0.4, color='red')"
   ]
  },
  {
   "cell_type": "code",
   "execution_count": 918,
   "metadata": {},
   "outputs": [
    {
     "name": "stdout",
     "output_type": "stream",
     "text": [
      "Number of variables having missing values is 19\n"
     ]
    }
   ],
   "source": [
    "# Number of missing variables for training set\n",
    "print('Number of variables having missing values is ' + str(len(perc_missing_train)))"
   ]
  },
  {
   "cell_type": "code",
   "execution_count": 919,
   "metadata": {},
   "outputs": [
    {
     "name": "stdout",
     "output_type": "stream",
     "text": [
      "Number of variables having missing values is 33\n"
     ]
    }
   ],
   "source": [
    "# Number of missing variables for testing set\n",
    "print('Number of variables having missing values is ' + str(len(perc_missing_test)))"
   ]
  },
  {
   "cell_type": "markdown",
   "metadata": {},
   "source": [
    "By looking at the barplot above, we decided to first drop the columns with greater than 40% missingness, the dropped columns are as follows. NAs mostly mean that the corresponding house doesn't have certain things, pools, fences for example. We may add those variables back for predicting those houses with higher values."
   ]
  },
  {
   "cell_type": "code",
   "execution_count": 920,
   "metadata": {},
   "outputs": [
    {
     "data": {
      "text/plain": [
       "{'AlleyAlley',\n",
       " 'FenceFence',\n",
       " 'FireplaceQuFireplaceQu',\n",
       " 'MiscFeatureMiscFeature',\n",
       " 'PoolQCPoolQC'}"
      ]
     },
     "execution_count": 920,
     "metadata": {},
     "output_type": "execute_result"
    }
   ],
   "source": [
    "dropped_columns_train = perc_missing_train[perc_missing_train.Missingness > 0.4].Variable.values\n",
    "dropped_columns_test = perc_missing_test[perc_missing_test.Missingness > 0.4].Variable.values\n",
    "dropped_columns = set(dropped_columns_train + dropped_columns_test)\n",
    "dropped_columns"
   ]
  },
  {
   "cell_type": "markdown",
   "metadata": {},
   "source": [
    "Other check for missingness, the following function checks None, negatives or empty strings"
   ]
  },
  {
   "cell_type": "code",
   "execution_count": 921,
   "metadata": {},
   "outputs": [],
   "source": [
    "def data_eval(df):\n",
    "    for i in range(len(df.columns)):\n",
    "        print('-'*50)\n",
    "        print('Column Name: ', df.columns[i])\n",
    "        if (df[df.columns[i]].dtypes == 'float64' or df[df.columns[i]].dtypes == 'int64') and \\\n",
    "        df[df.columns[i]][df[df.columns[i]]<0].count()>0:\n",
    "            print('Number of negatives: ', df[df.columns[i]][df[df.columns[i]]<0].count())\n",
    "        if df[df.columns[i]][df[df.columns[i]]=='None'].count() > 0:\n",
    "            print('Number of None strings: ', df[df.columns[i]][df[df.columns[i]]=='None'].count())\n",
    "        if df[df.columns[i]][df[df.columns[i]]==''].count() > 0:\n",
    "            print('Number of empty strings: ', df[df.columns[i]][df[df.columns[i]]==''].count())\n",
    "        else:\n",
    "            print('Column ' + df.columns[i] + ' has no negatives, empty strings or Nones')"
   ]
  },
  {
   "cell_type": "code",
   "execution_count": 922,
   "metadata": {},
   "outputs": [],
   "source": [
    "# data_eval(df_train) # It turns out that the dataframe is quite clean, with none of those"
   ]
  },
  {
   "cell_type": "code",
   "execution_count": 923,
   "metadata": {},
   "outputs": [],
   "source": [
    "# helper function to obtain the number of missing values for each row\n",
    "def row_na_list(df, value):\n",
    "    l=[]\n",
    "    for i in range(len(df.index)) :\n",
    "        if df.iloc[i].isnull().sum() > value:\n",
    "            l.append([i, df.iloc[i].isnull().sum()])\n",
    "    return l\n",
    "\n",
    "# value=10\n",
    "# row_na = row_na_list(df_train,value)\n",
    "# print('Number of Rows with missingness greater than ' + str(value) + ': ' + str(len(row_na)))\n",
    "# print('Minimum percentage missingness: ', 100*(value+1)/len(df_train.columns))\n",
    "# for i in range(len(row_na)):\n",
    "#     print('-'*50)\n",
    "#     print('Row ' + str(row_na[i][0]) + ' with ' +str(100*row_na[i][1]/len(df_train.columns)) \n",
    "#           + ' percent missingness')\n",
    "#     print('Number of missing entries in row: ', row_na[i][1])"
   ]
  },
  {
   "cell_type": "markdown",
   "metadata": {},
   "source": [
    "[Back To Top](#top)"
   ]
  },
  {
   "cell_type": "markdown",
   "metadata": {},
   "source": [
    "<a id='Inbalance'></a>\n",
    "### 1.2 Inbalances\n",
    "\n",
    "We noticed that for some variables, if we do a value count, one single value accounts for more than 80% of all the values, we decided to remove those variables for now as they don't add much information to the regression. In the later stage of the project, we will consider them case by case if we need to add them back to the model."
   ]
  },
  {
   "cell_type": "code",
   "execution_count": 924,
   "metadata": {},
   "outputs": [],
   "source": [
    "def inbalance_check(df, value):\n",
    "    inbalance_columns = []\n",
    "    for i in range(df.shape[1]):\n",
    "        if df[df.columns[i]].value_counts(normalize = True).values[0] > value:\n",
    "            inbalance_columns.append((df.columns[i],df[df.columns[i]].value_counts(normalize = True).values[0]))\n",
    "    return inbalance_columns"
   ]
  },
  {
   "cell_type": "code",
   "execution_count": 925,
   "metadata": {},
   "outputs": [],
   "source": [
    "inbalance_columns = inbalance_check(df_train, 0.9)\n",
    "inbalance_df = pd.DataFrame(inbalance_columns, columns = [\"variable\", \"proportion\"])\n",
    "inbalance_df.sort_values('proportion', ascending = False, inplace = True)"
   ]
  },
  {
   "cell_type": "code",
   "execution_count": 1253,
   "metadata": {},
   "outputs": [
    {
     "data": {
      "text/plain": [
       "[Text(0.5, 1.0, 'Inbalanced Variables (training)')]"
      ]
     },
     "execution_count": 1253,
     "metadata": {},
     "output_type": "execute_result"
    },
    {
     "data": {
      "image/png": "[encoded data removed]",
      "text/plain": [
       "<Figure size 864x576 with 1 Axes>"
      ]
     },
     "metadata": {},
     "output_type": "display_data"
    }
   ],
   "source": [
    "sns.set(style=\"whitegrid\")\n",
    "fig, ax = plt.subplots(figsize=(12,8))\n",
    "ax.xaxis.set_major_formatter(PercentFormatter(1))\n",
    "inbala_plot = sns.barplot(y = \"variable\", x = \"proportion\", data = inbalance_df)\n",
    "inbala_plot.set(title = 'Inbalanced Variables (training)')"
   ]
  },
  {
   "cell_type": "code",
   "execution_count": 927,
   "metadata": {},
   "outputs": [],
   "source": [
    "inbalance_columns_test = inbalance_check(df_test, 0.9)\n",
    "inbalance_df_test = pd.DataFrame(inbalance_columns_test, columns = [\"variable\", \"proportion\"])\n",
    "inbalance_df_test.sort_values('proportion', ascending = False, inplace = True)"
   ]
  },
  {
   "cell_type": "code",
   "execution_count": 1254,
   "metadata": {},
   "outputs": [
    {
     "data": {
      "text/plain": [
       "[Text(0.5, 1.0, 'Inbalanced Variables (testing)')]"
      ]
     },
     "execution_count": 1254,
     "metadata": {},
     "output_type": "execute_result"
    },
    {
     "data": {
      "image/png": "[encoded data removed]",
      "text/plain": [
       "<Figure size 864x576 with 1 Axes>"
      ]
     },
     "metadata": {},
     "output_type": "display_data"
    }
   ],
   "source": [
    "sns.set(style=\"whitegrid\")\n",
    "fig, ax = plt.subplots(figsize=(12,8))\n",
    "ax.xaxis.set_major_formatter(PercentFormatter(1))\n",
    "inbala_plot = sns.barplot(y = \"variable\", x = \"proportion\", data = inbalance_df_test)\n",
    "inbala_plot.set(title = 'Inbalanced Variables (testing)')"
   ]
  },
  {
   "cell_type": "code",
   "execution_count": 1303,
   "metadata": {},
   "outputs": [
    {
     "data": {
      "image/png": "[encoded data removed]",
      "text/plain": [
       "<Figure size 864x576 with 2 Axes>"
      ]
     },
     "metadata": {},
     "output_type": "display_data"
    }
   ],
   "source": [
    "corr_plot = df_train.corr()\n",
    "f, ax = plt.subplots(figsize=(12, 8))\n",
    "k = 10 #number of variables for heatmap\n",
    "cols = corr_plot.nlargest(k, 'SalePrice')['SalePrice'].index\n",
    "cm = np.corrcoef(df_train[cols].values.T)\n",
    "sns.set(font_scale=1.25)\n",
    "ax.set_ylim(bottom = 0, top = 10)\n",
    "hm = sns.heatmap(cm, cbar=True, annot=True, square=True, fmt='.2f',  \n",
    "                 yticklabels=cols.values, xticklabels=cols.values, cmap= 'coolwarm', ax = ax)\n",
    "hm.set(title = \"correlation plot\")\n",
    "plt.show()"
   ]
  },
  {
   "cell_type": "markdown",
   "metadata": {},
   "source": [
    "[Back To Top](#top)"
   ]
  },
  {
   "cell_type": "markdown",
   "metadata": {},
   "source": [
    "<a id='Correlation'></a>\n",
    "\n",
    "### 1.3 Correlation Check"
   ]
  },
  {
   "cell_type": "code",
   "execution_count": 929,
   "metadata": {},
   "outputs": [],
   "source": [
    "# Output a big correlation table\n",
    "\n",
    "# df_train.corr()"
   ]
  },
  {
   "cell_type": "code",
   "execution_count": 930,
   "metadata": {},
   "outputs": [],
   "source": [
    "# helper function searching for high correlation paris\n",
    "def index_retrieve(df, value, measure):\n",
    "    ''' Get index positions of value in dataframe.'''\n",
    "\n",
    "    poslist = list()\n",
    "    # Get bool dataframe with True at positions where the given value exists and filter out on-diagonal elements\n",
    "    if measure == 'spearman':\n",
    "        if value>0:\n",
    "            result = df.corr(method = measure)[df.corr(method = measure)!=1]\\\n",
    "            [df.corr(method = measure)>value].isna().isin([value])\n",
    "        elif value<0:\n",
    "            result = df.corr(method = measure)[df.corr(method = measure)!=1]\\\n",
    "            [df.corr(method = measure)<value].isna().isin([value])\n",
    "        else:\n",
    "            pass\n",
    "    elif measure == 'pearson':\n",
    "        if value>0:\n",
    "            result = df.corr(method = measure)[df.corr(method = measure)!=1]\\\n",
    "            [df.corr(method = measure)>value].isna().isin([value])\n",
    "        elif value<0:\n",
    "            result = df.corr(method = measure)[df.corr(method = measure)!=1]\\\n",
    "            [df.corr(method = measure)<value].isna().isin([value])\n",
    "        else:\n",
    "            pass\n",
    "    # Get list of columns that contains the value\n",
    "    series = result.any()\n",
    "    columnNames = list(series[series == True].index)\n",
    "    # Iterate over list of columns and fetch the rows indexes where value exists\n",
    "    for col in columnNames:\n",
    "        rows = list(result[col][result[col] == True].index)\n",
    "        for row in rows:\n",
    "            poslist.append((row, col))\n",
    "    # Return a list of tuples indicating the positions of value in the dataframe\n",
    "    \n",
    "    if value > 0:\n",
    "        print('Number of correlations with value greater than ' + str(value) + ': ' + str(len(poslist)))\n",
    "    if value < 0:\n",
    "        print('Number of correlations with value less than ' + str(value) + ': ' + str(len(poslist)))\n",
    "    else:\n",
    "        pass\n",
    "    for i in range(len(poslist)):\n",
    "        print('-'*40)\n",
    "        print('index labels: ', poslist[i][0], poslist[i][1])\n",
    "        print('value at index: ', df.corr().loc[poslist[i]])\n",
    "    \n",
    "    return poslist"
   ]
  },
  {
   "cell_type": "code",
   "execution_count": 931,
   "metadata": {},
   "outputs": [
    {
     "name": "stdout",
     "output_type": "stream",
     "text": [
      "Number of correlations with value greater than 0.7: 14\n",
      "----------------------------------------\n",
      "index labels:  SalePrice OverallQual\n",
      "value at index:  0.7909816005838047\n",
      "----------------------------------------\n",
      "index labels:  GarageYrBlt YearBuilt\n",
      "value at index:  0.8256674841743434\n",
      "----------------------------------------\n",
      "index labels:  GarageYrBlt YearRemodAdd\n",
      "value at index:  0.6422767797035414\n",
      "----------------------------------------\n",
      "index labels:  1stFlrSF TotalBsmtSF\n",
      "value at index:  0.8195299750050355\n",
      "----------------------------------------\n",
      "index labels:  TotalBsmtSF 1stFlrSF\n",
      "value at index:  0.8195299750050355\n",
      "----------------------------------------\n",
      "index labels:  TotRmsAbvGrd GrLivArea\n",
      "value at index:  0.8254893743088377\n",
      "----------------------------------------\n",
      "index labels:  SalePrice GrLivArea\n",
      "value at index:  0.7086244776126511\n",
      "----------------------------------------\n",
      "index labels:  GrLivArea TotRmsAbvGrd\n",
      "value at index:  0.8254893743088377\n",
      "----------------------------------------\n",
      "index labels:  YearBuilt GarageYrBlt\n",
      "value at index:  0.8256674841743434\n",
      "----------------------------------------\n",
      "index labels:  YearRemodAdd GarageYrBlt\n",
      "value at index:  0.6422767797035414\n",
      "----------------------------------------\n",
      "index labels:  GarageArea GarageCars\n",
      "value at index:  0.8824754142814603\n",
      "----------------------------------------\n",
      "index labels:  GarageCars GarageArea\n",
      "value at index:  0.8824754142814603\n",
      "----------------------------------------\n",
      "index labels:  OverallQual SalePrice\n",
      "value at index:  0.7909816005838047\n",
      "----------------------------------------\n",
      "index labels:  GrLivArea SalePrice\n",
      "value at index:  0.7086244776126511\n"
     ]
    }
   ],
   "source": [
    "sig_cor_index_list = index_retrieve(df_train, 0.7, 'spearman')"
   ]
  },
  {
   "cell_type": "code",
   "execution_count": 1252,
   "metadata": {},
   "outputs": [
    {
     "name": "stdout",
     "output_type": "stream",
     "text": [
      "top 10 Spearman correlation coefficient\n",
      "EnclosedPorch   -0.218394\n",
      "KitchenAbvGr    -0.164826\n",
      "OverallCond     -0.129325\n",
      "LowQualFinSF    -0.067719\n",
      "MiscVal         -0.062727\n",
      "BsmtFinSF2      -0.038806\n",
      "YrSold          -0.029899\n",
      "BsmtHalfBath    -0.012189\n",
      "MSSubClass       0.007192\n",
      "PoolArea         0.058453\n",
      "3SsnPorch        0.065440\n",
      "MoSold           0.069432\n",
      "ScreenPorch      0.100070\n",
      "BsmtUnfSF        0.185197\n",
      "BsmtFullBath     0.225125\n",
      "BedroomAbvGr     0.234907\n",
      "2ndFlrSF         0.293598\n",
      "BsmtFinSF1       0.301871\n",
      "HalfBath         0.343008\n",
      "WoodDeckSF       0.353802\n",
      "Name: SalePrice, dtype: float64\n",
      "-------------------------------------------------------\n",
      "top 10 Pearson correlation coefficient\n",
      "KitchenAbvGr    -0.135907\n",
      "EnclosedPorch   -0.128578\n",
      "MSSubClass      -0.084284\n",
      "OverallCond     -0.077856\n",
      "YrSold          -0.028923\n",
      "LowQualFinSF    -0.025606\n",
      "MiscVal         -0.021190\n",
      "BsmtHalfBath    -0.016844\n",
      "BsmtFinSF2      -0.011378\n",
      "3SsnPorch        0.044584\n",
      "Name: SalePrice, dtype: float64\n"
     ]
    }
   ],
   "source": [
    "# spearman\n",
    "print('top 10 Spearman correlation coefficient')\n",
    "print(df_train.corr(method='spearman').SalePrice.sort_values(ascending=True).head(20))\n",
    "print('-'*55)\n",
    "# pearson\n",
    "print('top 10 Pearson correlation coefficient')\n",
    "print(df_train.corr().SalePrice.sort_values(ascending=True).head(10))"
   ]
  },
  {
   "cell_type": "markdown",
   "metadata": {},
   "source": [
    "[Back To Top](#top)"
   ]
  },
  {
   "cell_type": "markdown",
   "metadata": {},
   "source": [
    "<a id='Variable_Exploration'></a>\n",
    "\n",
    "## 2. Variable Exploration"
   ]
  },
  {
   "cell_type": "markdown",
   "metadata": {},
   "source": [
    "<a id='SalePrice'></a>\n",
    "\n",
    "### 2.1 SalePrice"
   ]
  },
  {
   "cell_type": "markdown",
   "metadata": {},
   "source": [
    "## 3. Data Imputation"
   ]
  },
  {
   "cell_type": "code",
   "execution_count": 933,
   "metadata": {},
   "outputs": [
    {
     "name": "stdout",
     "output_type": "stream",
     "text": [
      "['PoolQC' 'MiscFeature' 'Alley' 'Fence' 'FireplaceQu' 'LotFrontage'\n",
      " 'GarageFinish' 'GarageCond' 'GarageQual' 'GarageType' 'GarageYrBlt'\n",
      " 'BsmtFinType2' 'BsmtExposure' 'BsmtFinType1' 'BsmtCond' 'BsmtQual'\n",
      " 'MasVnrType' 'MasVnrArea' 'Electrical']\n"
     ]
    }
   ],
   "source": [
    "print(perc_missing_train.Variable.values)"
   ]
  },
  {
   "cell_type": "code",
   "execution_count": 934,
   "metadata": {},
   "outputs": [
    {
     "name": "stdout",
     "output_type": "stream",
     "text": [
      "['PoolQC' 'MiscFeature' 'Alley' 'Fence' 'FireplaceQu' 'LotFrontage'\n",
      " 'GarageQual' 'GarageFinish' 'GarageCond' 'GarageYrBlt' 'GarageType'\n",
      " 'BsmtCond' 'BsmtExposure' 'BsmtQual' 'BsmtFinType2' 'BsmtFinType1'\n",
      " 'MasVnrType' 'MasVnrArea' 'MSZoning' 'Functional' 'BsmtFullBath'\n",
      " 'BsmtHalfBath' 'Utilities' 'KitchenQual' 'SaleType' 'Exterior2nd'\n",
      " 'Exterior1st' 'BsmtFinSF1' 'BsmtFinSF2' 'BsmtUnfSF' 'TotalBsmtSF'\n",
      " 'GarageCars' 'GarageArea']\n"
     ]
    }
   ],
   "source": [
    "print(perc_missing_test.Variable.values)"
   ]
  },
  {
   "cell_type": "code",
   "execution_count": 935,
   "metadata": {},
   "outputs": [],
   "source": [
    "col_to_impute = list(set(list(perc_missing_train.Variable.values) + list(perc_missing_test.Variable.values)))"
   ]
  },
  {
   "cell_type": "markdown",
   "metadata": {},
   "source": [
    "### 3.1 Pools\n",
    "\n",
    "We will first look at pools, where pool-related variables have the highest missing percentage. There are two pool variables, pool area (numerical) and pool QC (categorical). Since NA for poolQC means no pools. We fill it with None. Also, this variable seems to be ordinal, we would assign numerical value to it."
   ]
  },
  {
   "cell_type": "code",
   "execution_count": 936,
   "metadata": {},
   "outputs": [],
   "source": [
    "df_train.PoolQC.fillna('None', inplace = True)\n",
    "df_test.PoolQC.fillna('None', inplace = True)"
   ]
  },
  {
   "cell_type": "code",
   "execution_count": 937,
   "metadata": {},
   "outputs": [],
   "source": [
    "df_train['PoolQC'] = df_train['PoolQC'].map({'Ex': 90, 'Gd': 80, 'TA': 70, 'Fa': 60, 'None': 0})\n",
    "df_test['PoolQC'] = df_test['PoolQC'].map({'Ex': 90, 'Gd': 80, 'TA': 70, 'Fa': 60, 'None': 0})"
   ]
  },
  {
   "cell_type": "markdown",
   "metadata": {},
   "source": [
    "We also want to see if there is any observation with pool area greater than 0 and with poolQC equal to 0 (i.e. None), we will then fix it."
   ]
  },
  {
   "cell_type": "code",
   "execution_count": 938,
   "metadata": {},
   "outputs": [
    {
     "data": {
      "text/html": [
       "<div>\n",
       "<style scoped>\n",
       "    .dataframe tbody tr th:only-of-type {\n",
       "        vertical-align: middle;\n",
       "    }\n",
       "\n",
       "    .dataframe tbody tr th {\n",
       "        vertical-align: top;\n",
       "    }\n",
       "\n",
       "    .dataframe thead th {\n",
       "        text-align: right;\n",
       "    }\n",
       "</style>\n",
       "<table border=\"1\" class=\"dataframe\">\n",
       "  <thead>\n",
       "    <tr style=\"text-align: right;\">\n",
       "      <th></th>\n",
       "      <th>Id</th>\n",
       "      <th>MSSubClass</th>\n",
       "      <th>MSZoning</th>\n",
       "      <th>LotFrontage</th>\n",
       "      <th>LotArea</th>\n",
       "      <th>Street</th>\n",
       "      <th>Alley</th>\n",
       "      <th>LotShape</th>\n",
       "      <th>LandContour</th>\n",
       "      <th>Utilities</th>\n",
       "      <th>LotConfig</th>\n",
       "      <th>LandSlope</th>\n",
       "      <th>Neighborhood</th>\n",
       "      <th>Condition1</th>\n",
       "      <th>Condition2</th>\n",
       "      <th>BldgType</th>\n",
       "      <th>HouseStyle</th>\n",
       "      <th>OverallQual</th>\n",
       "      <th>OverallCond</th>\n",
       "      <th>YearBuilt</th>\n",
       "      <th>YearRemodAdd</th>\n",
       "      <th>RoofStyle</th>\n",
       "      <th>RoofMatl</th>\n",
       "      <th>Exterior1st</th>\n",
       "      <th>Exterior2nd</th>\n",
       "      <th>MasVnrType</th>\n",
       "      <th>MasVnrArea</th>\n",
       "      <th>ExterQual</th>\n",
       "      <th>ExterCond</th>\n",
       "      <th>Foundation</th>\n",
       "      <th>BsmtQual</th>\n",
       "      <th>BsmtCond</th>\n",
       "      <th>BsmtExposure</th>\n",
       "      <th>BsmtFinType1</th>\n",
       "      <th>BsmtFinSF1</th>\n",
       "      <th>BsmtFinType2</th>\n",
       "      <th>BsmtFinSF2</th>\n",
       "      <th>BsmtUnfSF</th>\n",
       "      <th>TotalBsmtSF</th>\n",
       "      <th>Heating</th>\n",
       "      <th>...</th>\n",
       "      <th>CentralAir</th>\n",
       "      <th>Electrical</th>\n",
       "      <th>1stFlrSF</th>\n",
       "      <th>2ndFlrSF</th>\n",
       "      <th>LowQualFinSF</th>\n",
       "      <th>GrLivArea</th>\n",
       "      <th>BsmtFullBath</th>\n",
       "      <th>BsmtHalfBath</th>\n",
       "      <th>FullBath</th>\n",
       "      <th>HalfBath</th>\n",
       "      <th>BedroomAbvGr</th>\n",
       "      <th>KitchenAbvGr</th>\n",
       "      <th>KitchenQual</th>\n",
       "      <th>TotRmsAbvGrd</th>\n",
       "      <th>Functional</th>\n",
       "      <th>Fireplaces</th>\n",
       "      <th>FireplaceQu</th>\n",
       "      <th>GarageType</th>\n",
       "      <th>GarageYrBlt</th>\n",
       "      <th>GarageFinish</th>\n",
       "      <th>GarageCars</th>\n",
       "      <th>GarageArea</th>\n",
       "      <th>GarageQual</th>\n",
       "      <th>GarageCond</th>\n",
       "      <th>PavedDrive</th>\n",
       "      <th>WoodDeckSF</th>\n",
       "      <th>OpenPorchSF</th>\n",
       "      <th>EnclosedPorch</th>\n",
       "      <th>3SsnPorch</th>\n",
       "      <th>ScreenPorch</th>\n",
       "      <th>PoolArea</th>\n",
       "      <th>PoolQC</th>\n",
       "      <th>Fence</th>\n",
       "      <th>MiscFeature</th>\n",
       "      <th>MiscVal</th>\n",
       "      <th>MoSold</th>\n",
       "      <th>YrSold</th>\n",
       "      <th>SaleType</th>\n",
       "      <th>SaleCondition</th>\n",
       "      <th>SalePrice</th>\n",
       "    </tr>\n",
       "  </thead>\n",
       "  <tbody>\n",
       "  </tbody>\n",
       "</table>\n",
       "<p>0 rows × 81 columns</p>\n",
       "</div>"
      ],
      "text/plain": [
       "Empty DataFrame\n",
       "Columns: [Id, MSSubClass, MSZoning, LotFrontage, LotArea, Street, Alley, LotShape, LandContour, Utilities, LotConfig, LandSlope, Neighborhood, Condition1, Condition2, BldgType, HouseStyle, OverallQual, OverallCond, YearBuilt, YearRemodAdd, RoofStyle, RoofMatl, Exterior1st, Exterior2nd, MasVnrType, MasVnrArea, ExterQual, ExterCond, Foundation, BsmtQual, BsmtCond, BsmtExposure, BsmtFinType1, BsmtFinSF1, BsmtFinType2, BsmtFinSF2, BsmtUnfSF, TotalBsmtSF, Heating, HeatingQC, CentralAir, Electrical, 1stFlrSF, 2ndFlrSF, LowQualFinSF, GrLivArea, BsmtFullBath, BsmtHalfBath, FullBath, HalfBath, BedroomAbvGr, KitchenAbvGr, KitchenQual, TotRmsAbvGrd, Functional, Fireplaces, FireplaceQu, GarageType, GarageYrBlt, GarageFinish, GarageCars, GarageArea, GarageQual, GarageCond, PavedDrive, WoodDeckSF, OpenPorchSF, EnclosedPorch, 3SsnPorch, ScreenPorch, PoolArea, PoolQC, Fence, MiscFeature, MiscVal, MoSold, YrSold, SaleType, SaleCondition, SalePrice]\n",
       "Index: []\n",
       "\n",
       "[0 rows x 81 columns]"
      ]
     },
     "execution_count": 938,
     "metadata": {},
     "output_type": "execute_result"
    }
   ],
   "source": [
    "df_train[(df_train.PoolQC == 0) & (df_train.PoolArea > 0)] # None for the training data"
   ]
  },
  {
   "cell_type": "code",
   "execution_count": 939,
   "metadata": {},
   "outputs": [
    {
     "data": {
      "text/html": [
       "<div>\n",
       "<style scoped>\n",
       "    .dataframe tbody tr th:only-of-type {\n",
       "        vertical-align: middle;\n",
       "    }\n",
       "\n",
       "    .dataframe tbody tr th {\n",
       "        vertical-align: top;\n",
       "    }\n",
       "\n",
       "    .dataframe thead th {\n",
       "        text-align: right;\n",
       "    }\n",
       "</style>\n",
       "<table border=\"1\" class=\"dataframe\">\n",
       "  <thead>\n",
       "    <tr style=\"text-align: right;\">\n",
       "      <th></th>\n",
       "      <th>Id</th>\n",
       "      <th>MSSubClass</th>\n",
       "      <th>MSZoning</th>\n",
       "      <th>LotFrontage</th>\n",
       "      <th>LotArea</th>\n",
       "      <th>Street</th>\n",
       "      <th>Alley</th>\n",
       "      <th>LotShape</th>\n",
       "      <th>LandContour</th>\n",
       "      <th>Utilities</th>\n",
       "      <th>LotConfig</th>\n",
       "      <th>LandSlope</th>\n",
       "      <th>Neighborhood</th>\n",
       "      <th>Condition1</th>\n",
       "      <th>Condition2</th>\n",
       "      <th>BldgType</th>\n",
       "      <th>HouseStyle</th>\n",
       "      <th>OverallQual</th>\n",
       "      <th>OverallCond</th>\n",
       "      <th>YearBuilt</th>\n",
       "      <th>YearRemodAdd</th>\n",
       "      <th>RoofStyle</th>\n",
       "      <th>RoofMatl</th>\n",
       "      <th>Exterior1st</th>\n",
       "      <th>Exterior2nd</th>\n",
       "      <th>MasVnrType</th>\n",
       "      <th>MasVnrArea</th>\n",
       "      <th>ExterQual</th>\n",
       "      <th>ExterCond</th>\n",
       "      <th>Foundation</th>\n",
       "      <th>BsmtQual</th>\n",
       "      <th>BsmtCond</th>\n",
       "      <th>BsmtExposure</th>\n",
       "      <th>BsmtFinType1</th>\n",
       "      <th>BsmtFinSF1</th>\n",
       "      <th>BsmtFinType2</th>\n",
       "      <th>BsmtFinSF2</th>\n",
       "      <th>BsmtUnfSF</th>\n",
       "      <th>TotalBsmtSF</th>\n",
       "      <th>Heating</th>\n",
       "      <th>HeatingQC</th>\n",
       "      <th>CentralAir</th>\n",
       "      <th>Electrical</th>\n",
       "      <th>1stFlrSF</th>\n",
       "      <th>2ndFlrSF</th>\n",
       "      <th>LowQualFinSF</th>\n",
       "      <th>GrLivArea</th>\n",
       "      <th>BsmtFullBath</th>\n",
       "      <th>BsmtHalfBath</th>\n",
       "      <th>FullBath</th>\n",
       "      <th>HalfBath</th>\n",
       "      <th>BedroomAbvGr</th>\n",
       "      <th>KitchenAbvGr</th>\n",
       "      <th>KitchenQual</th>\n",
       "      <th>TotRmsAbvGrd</th>\n",
       "      <th>Functional</th>\n",
       "      <th>Fireplaces</th>\n",
       "      <th>FireplaceQu</th>\n",
       "      <th>GarageType</th>\n",
       "      <th>GarageYrBlt</th>\n",
       "      <th>GarageFinish</th>\n",
       "      <th>GarageCars</th>\n",
       "      <th>GarageArea</th>\n",
       "      <th>GarageQual</th>\n",
       "      <th>GarageCond</th>\n",
       "      <th>PavedDrive</th>\n",
       "      <th>WoodDeckSF</th>\n",
       "      <th>OpenPorchSF</th>\n",
       "      <th>EnclosedPorch</th>\n",
       "      <th>3SsnPorch</th>\n",
       "      <th>ScreenPorch</th>\n",
       "      <th>PoolArea</th>\n",
       "      <th>PoolQC</th>\n",
       "      <th>Fence</th>\n",
       "      <th>MiscFeature</th>\n",
       "      <th>MiscVal</th>\n",
       "      <th>MoSold</th>\n",
       "      <th>YrSold</th>\n",
       "      <th>SaleType</th>\n",
       "      <th>SaleCondition</th>\n",
       "    </tr>\n",
       "  </thead>\n",
       "  <tbody>\n",
       "    <tr>\n",
       "      <td>960</td>\n",
       "      <td>2421</td>\n",
       "      <td>20</td>\n",
       "      <td>RL</td>\n",
       "      <td>75.0</td>\n",
       "      <td>9532</td>\n",
       "      <td>Pave</td>\n",
       "      <td>NaN</td>\n",
       "      <td>Reg</td>\n",
       "      <td>Lvl</td>\n",
       "      <td>AllPub</td>\n",
       "      <td>Inside</td>\n",
       "      <td>Gtl</td>\n",
       "      <td>NAmes</td>\n",
       "      <td>Norm</td>\n",
       "      <td>Norm</td>\n",
       "      <td>1Fam</td>\n",
       "      <td>1Story</td>\n",
       "      <td>4</td>\n",
       "      <td>6</td>\n",
       "      <td>1953</td>\n",
       "      <td>1953</td>\n",
       "      <td>Gable</td>\n",
       "      <td>CompShg</td>\n",
       "      <td>VinylSd</td>\n",
       "      <td>VinylSd</td>\n",
       "      <td>None</td>\n",
       "      <td>0.0</td>\n",
       "      <td>TA</td>\n",
       "      <td>TA</td>\n",
       "      <td>CBlock</td>\n",
       "      <td>TA</td>\n",
       "      <td>TA</td>\n",
       "      <td>No</td>\n",
       "      <td>BLQ</td>\n",
       "      <td>595.0</td>\n",
       "      <td>Rec</td>\n",
       "      <td>354.0</td>\n",
       "      <td>156.0</td>\n",
       "      <td>1105.0</td>\n",
       "      <td>GasA</td>\n",
       "      <td>Gd</td>\n",
       "      <td>Y</td>\n",
       "      <td>SBrkr</td>\n",
       "      <td>1647</td>\n",
       "      <td>0</td>\n",
       "      <td>0</td>\n",
       "      <td>1647</td>\n",
       "      <td>1.0</td>\n",
       "      <td>0.0</td>\n",
       "      <td>1</td>\n",
       "      <td>0</td>\n",
       "      <td>3</td>\n",
       "      <td>1</td>\n",
       "      <td>TA</td>\n",
       "      <td>6</td>\n",
       "      <td>Min1</td>\n",
       "      <td>1</td>\n",
       "      <td>Fa</td>\n",
       "      <td>Attchd</td>\n",
       "      <td>1953.0</td>\n",
       "      <td>Fin</td>\n",
       "      <td>1.0</td>\n",
       "      <td>280.0</td>\n",
       "      <td>TA</td>\n",
       "      <td>TA</td>\n",
       "      <td>Y</td>\n",
       "      <td>225</td>\n",
       "      <td>0</td>\n",
       "      <td>0</td>\n",
       "      <td>0</td>\n",
       "      <td>0</td>\n",
       "      <td>368</td>\n",
       "      <td>0</td>\n",
       "      <td>GdPrv</td>\n",
       "      <td>NaN</td>\n",
       "      <td>0</td>\n",
       "      <td>2</td>\n",
       "      <td>2007</td>\n",
       "      <td>WD</td>\n",
       "      <td>Normal</td>\n",
       "    </tr>\n",
       "    <tr>\n",
       "      <td>1043</td>\n",
       "      <td>2504</td>\n",
       "      <td>50</td>\n",
       "      <td>RL</td>\n",
       "      <td>104.0</td>\n",
       "      <td>23920</td>\n",
       "      <td>Pave</td>\n",
       "      <td>NaN</td>\n",
       "      <td>Reg</td>\n",
       "      <td>Lvl</td>\n",
       "      <td>AllPub</td>\n",
       "      <td>Inside</td>\n",
       "      <td>Gtl</td>\n",
       "      <td>SawyerW</td>\n",
       "      <td>Feedr</td>\n",
       "      <td>Norm</td>\n",
       "      <td>1Fam</td>\n",
       "      <td>1.5Fin</td>\n",
       "      <td>6</td>\n",
       "      <td>5</td>\n",
       "      <td>1984</td>\n",
       "      <td>1984</td>\n",
       "      <td>Gable</td>\n",
       "      <td>CompShg</td>\n",
       "      <td>Wd Sdng</td>\n",
       "      <td>Wd Sdng</td>\n",
       "      <td>None</td>\n",
       "      <td>0.0</td>\n",
       "      <td>TA</td>\n",
       "      <td>TA</td>\n",
       "      <td>CBlock</td>\n",
       "      <td>TA</td>\n",
       "      <td>TA</td>\n",
       "      <td>No</td>\n",
       "      <td>Unf</td>\n",
       "      <td>0.0</td>\n",
       "      <td>Unf</td>\n",
       "      <td>0.0</td>\n",
       "      <td>1105.0</td>\n",
       "      <td>1105.0</td>\n",
       "      <td>GasA</td>\n",
       "      <td>Ex</td>\n",
       "      <td>Y</td>\n",
       "      <td>SBrkr</td>\n",
       "      <td>1105</td>\n",
       "      <td>717</td>\n",
       "      <td>0</td>\n",
       "      <td>1822</td>\n",
       "      <td>0.0</td>\n",
       "      <td>0.0</td>\n",
       "      <td>2</td>\n",
       "      <td>0</td>\n",
       "      <td>4</td>\n",
       "      <td>1</td>\n",
       "      <td>Gd</td>\n",
       "      <td>7</td>\n",
       "      <td>Min2</td>\n",
       "      <td>1</td>\n",
       "      <td>Po</td>\n",
       "      <td>Attchd</td>\n",
       "      <td>1984.0</td>\n",
       "      <td>Unf</td>\n",
       "      <td>2.0</td>\n",
       "      <td>515.0</td>\n",
       "      <td>TA</td>\n",
       "      <td>TA</td>\n",
       "      <td>P</td>\n",
       "      <td>0</td>\n",
       "      <td>195</td>\n",
       "      <td>1012</td>\n",
       "      <td>0</td>\n",
       "      <td>0</td>\n",
       "      <td>444</td>\n",
       "      <td>0</td>\n",
       "      <td>NaN</td>\n",
       "      <td>NaN</td>\n",
       "      <td>0</td>\n",
       "      <td>4</td>\n",
       "      <td>2007</td>\n",
       "      <td>WD</td>\n",
       "      <td>Normal</td>\n",
       "    </tr>\n",
       "    <tr>\n",
       "      <td>1139</td>\n",
       "      <td>2600</td>\n",
       "      <td>20</td>\n",
       "      <td>RL</td>\n",
       "      <td>200.0</td>\n",
       "      <td>43500</td>\n",
       "      <td>Pave</td>\n",
       "      <td>NaN</td>\n",
       "      <td>Reg</td>\n",
       "      <td>Lvl</td>\n",
       "      <td>AllPub</td>\n",
       "      <td>Inside</td>\n",
       "      <td>Gtl</td>\n",
       "      <td>Mitchel</td>\n",
       "      <td>Artery</td>\n",
       "      <td>Norm</td>\n",
       "      <td>1Fam</td>\n",
       "      <td>1Story</td>\n",
       "      <td>3</td>\n",
       "      <td>5</td>\n",
       "      <td>1953</td>\n",
       "      <td>1953</td>\n",
       "      <td>Gable</td>\n",
       "      <td>CompShg</td>\n",
       "      <td>MetalSd</td>\n",
       "      <td>MetalSd</td>\n",
       "      <td>None</td>\n",
       "      <td>0.0</td>\n",
       "      <td>TA</td>\n",
       "      <td>TA</td>\n",
       "      <td>CBlock</td>\n",
       "      <td>NaN</td>\n",
       "      <td>NaN</td>\n",
       "      <td>NaN</td>\n",
       "      <td>NaN</td>\n",
       "      <td>0.0</td>\n",
       "      <td>NaN</td>\n",
       "      <td>0.0</td>\n",
       "      <td>0.0</td>\n",
       "      <td>0.0</td>\n",
       "      <td>GasA</td>\n",
       "      <td>Ex</td>\n",
       "      <td>Y</td>\n",
       "      <td>SBrkr</td>\n",
       "      <td>2034</td>\n",
       "      <td>0</td>\n",
       "      <td>0</td>\n",
       "      <td>2034</td>\n",
       "      <td>0.0</td>\n",
       "      <td>0.0</td>\n",
       "      <td>1</td>\n",
       "      <td>0</td>\n",
       "      <td>2</td>\n",
       "      <td>1</td>\n",
       "      <td>TA</td>\n",
       "      <td>9</td>\n",
       "      <td>Min1</td>\n",
       "      <td>0</td>\n",
       "      <td>NaN</td>\n",
       "      <td>2Types</td>\n",
       "      <td>1953.0</td>\n",
       "      <td>RFn</td>\n",
       "      <td>4.0</td>\n",
       "      <td>1041.0</td>\n",
       "      <td>TA</td>\n",
       "      <td>TA</td>\n",
       "      <td>N</td>\n",
       "      <td>483</td>\n",
       "      <td>266</td>\n",
       "      <td>0</td>\n",
       "      <td>0</td>\n",
       "      <td>0</td>\n",
       "      <td>561</td>\n",
       "      <td>0</td>\n",
       "      <td>GdPrv</td>\n",
       "      <td>NaN</td>\n",
       "      <td>0</td>\n",
       "      <td>6</td>\n",
       "      <td>2007</td>\n",
       "      <td>WD</td>\n",
       "      <td>Normal</td>\n",
       "    </tr>\n",
       "  </tbody>\n",
       "</table>\n",
       "</div>"
      ],
      "text/plain": [
       "        Id  MSSubClass MSZoning  LotFrontage  LotArea Street Alley LotShape  \\\n",
       "960   2421          20       RL         75.0     9532   Pave   NaN      Reg   \n",
       "1043  2504          50       RL        104.0    23920   Pave   NaN      Reg   \n",
       "1139  2600          20       RL        200.0    43500   Pave   NaN      Reg   \n",
       "\n",
       "     LandContour Utilities LotConfig LandSlope Neighborhood Condition1  \\\n",
       "960          Lvl    AllPub    Inside       Gtl        NAmes       Norm   \n",
       "1043         Lvl    AllPub    Inside       Gtl      SawyerW      Feedr   \n",
       "1139         Lvl    AllPub    Inside       Gtl      Mitchel     Artery   \n",
       "\n",
       "     Condition2 BldgType HouseStyle  OverallQual  OverallCond  YearBuilt  \\\n",
       "960        Norm     1Fam     1Story            4            6       1953   \n",
       "1043       Norm     1Fam     1.5Fin            6            5       1984   \n",
       "1139       Norm     1Fam     1Story            3            5       1953   \n",
       "\n",
       "      YearRemodAdd RoofStyle RoofMatl Exterior1st Exterior2nd MasVnrType  \\\n",
       "960           1953     Gable  CompShg     VinylSd     VinylSd       None   \n",
       "1043          1984     Gable  CompShg     Wd Sdng     Wd Sdng       None   \n",
       "1139          1953     Gable  CompShg     MetalSd     MetalSd       None   \n",
       "\n",
       "      MasVnrArea ExterQual ExterCond Foundation BsmtQual BsmtCond  \\\n",
       "960          0.0        TA        TA     CBlock       TA       TA   \n",
       "1043         0.0        TA        TA     CBlock       TA       TA   \n",
       "1139         0.0        TA        TA     CBlock      NaN      NaN   \n",
       "\n",
       "     BsmtExposure BsmtFinType1  BsmtFinSF1 BsmtFinType2  BsmtFinSF2  \\\n",
       "960            No          BLQ       595.0          Rec       354.0   \n",
       "1043           No          Unf         0.0          Unf         0.0   \n",
       "1139          NaN          NaN         0.0          NaN         0.0   \n",
       "\n",
       "      BsmtUnfSF  TotalBsmtSF Heating HeatingQC CentralAir Electrical  \\\n",
       "960       156.0       1105.0    GasA        Gd          Y      SBrkr   \n",
       "1043     1105.0       1105.0    GasA        Ex          Y      SBrkr   \n",
       "1139        0.0          0.0    GasA        Ex          Y      SBrkr   \n",
       "\n",
       "      1stFlrSF  2ndFlrSF  LowQualFinSF  GrLivArea  BsmtFullBath  BsmtHalfBath  \\\n",
       "960       1647         0             0       1647           1.0           0.0   \n",
       "1043      1105       717             0       1822           0.0           0.0   \n",
       "1139      2034         0             0       2034           0.0           0.0   \n",
       "\n",
       "      FullBath  HalfBath  BedroomAbvGr  KitchenAbvGr KitchenQual  \\\n",
       "960          1         0             3             1          TA   \n",
       "1043         2         0             4             1          Gd   \n",
       "1139         1         0             2             1          TA   \n",
       "\n",
       "      TotRmsAbvGrd Functional  Fireplaces FireplaceQu GarageType  GarageYrBlt  \\\n",
       "960              6       Min1           1          Fa     Attchd       1953.0   \n",
       "1043             7       Min2           1          Po     Attchd       1984.0   \n",
       "1139             9       Min1           0         NaN     2Types       1953.0   \n",
       "\n",
       "     GarageFinish  GarageCars  GarageArea GarageQual GarageCond PavedDrive  \\\n",
       "960           Fin         1.0       280.0         TA         TA          Y   \n",
       "1043          Unf         2.0       515.0         TA         TA          P   \n",
       "1139          RFn         4.0      1041.0         TA         TA          N   \n",
       "\n",
       "      WoodDeckSF  OpenPorchSF  EnclosedPorch  3SsnPorch  ScreenPorch  \\\n",
       "960          225            0              0          0            0   \n",
       "1043           0          195           1012          0            0   \n",
       "1139         483          266              0          0            0   \n",
       "\n",
       "      PoolArea  PoolQC  Fence MiscFeature  MiscVal  MoSold  YrSold SaleType  \\\n",
       "960        368       0  GdPrv         NaN        0       2    2007       WD   \n",
       "1043       444       0    NaN         NaN        0       4    2007       WD   \n",
       "1139       561       0  GdPrv         NaN        0       6    2007       WD   \n",
       "\n",
       "     SaleCondition  \n",
       "960         Normal  \n",
       "1043        Normal  \n",
       "1139        Normal  "
      ]
     },
     "execution_count": 939,
     "metadata": {},
     "output_type": "execute_result"
    }
   ],
   "source": [
    "df_test[(df_test.PoolQC == 0) & (df_test.PoolArea > 0)] \n",
    "# Three for the test data, and we will fix it according to the overall quality of the house"
   ]
  },
  {
   "cell_type": "code",
   "execution_count": 940,
   "metadata": {},
   "outputs": [],
   "source": [
    "df_test.PoolQC.iloc[[960, 1043, 1139]] = [60, 70, 60] #Overall Quality goes from 0 to 10 assign accordingly"
   ]
  },
  {
   "cell_type": "code",
   "execution_count": 941,
   "metadata": {},
   "outputs": [],
   "source": [
    "col_to_impute.remove('PoolQC')"
   ]
  },
  {
   "cell_type": "markdown",
   "metadata": {},
   "source": [
    "### 3.2 Miscellaneous, Alley, Fence"
   ]
  },
  {
   "cell_type": "code",
   "execution_count": 942,
   "metadata": {},
   "outputs": [],
   "source": [
    "df_train.MiscFeature.fillna('None', inplace = True)\n",
    "df_test.MiscFeature.fillna('None', inplace = True)\n",
    "# just fill it with None # Need a plot with average saleprice for each feature and the number of observations"
   ]
  },
  {
   "cell_type": "markdown",
   "metadata": {},
   "source": [
    "For alley, it is quite similar, NA means None."
   ]
  },
  {
   "cell_type": "code",
   "execution_count": 943,
   "metadata": {},
   "outputs": [],
   "source": [
    "df_train.Alley.fillna('None', inplace = True)\n",
    "df_test.Alley.fillna('None', inplace = True)\n",
    "df_train.Fence.fillna('None', inplace = True)\n",
    "df_test.Fence.fillna('None', inplace = True)"
   ]
  },
  {
   "cell_type": "code",
   "execution_count": 944,
   "metadata": {},
   "outputs": [],
   "source": [
    "col_to_impute.remove('MiscFeature')\n",
    "col_to_impute.remove('Alley')\n",
    "col_to_impute.remove('Fence')"
   ]
  },
  {
   "cell_type": "markdown",
   "metadata": {},
   "source": [
    "### 3.3 Fireplaces \n",
    "\n",
    "Pretty similar to pools, there are 2 fireplace variables. We convert it in the similar fashion"
   ]
  },
  {
   "cell_type": "code",
   "execution_count": 945,
   "metadata": {},
   "outputs": [],
   "source": [
    "df_train.FireplaceQu.fillna('None', inplace = True)\n",
    "df_test.FireplaceQu.fillna('None', inplace = True)"
   ]
  },
  {
   "cell_type": "code",
   "execution_count": 946,
   "metadata": {},
   "outputs": [],
   "source": [
    "df_train['FireplaceQu'] = df_train['FireplaceQu'].map({'Ex': 90, 'Gd': 80, 'TA': 70, 'Fa': 60, 'Po':30, 'None': 0})\n",
    "df_test['FireplaceQu'] = df_test['FireplaceQu'].map({'Ex': 90, 'Gd': 80, 'TA': 70, 'Fa': 60, 'Po':30, 'None': 0})\n",
    "# Also, there are no missing values for the fireplace variables"
   ]
  },
  {
   "cell_type": "code",
   "execution_count": 947,
   "metadata": {},
   "outputs": [],
   "source": [
    "col_to_impute.remove('FireplaceQu')"
   ]
  },
  {
   "cell_type": "markdown",
   "metadata": {},
   "source": [
    "### 3.3 Garages\n",
    "\n",
    "We will look into variables that associate with garage in this section. We replace missing garage built year with the building built year. As there is no information indicating whether garage is added during the remodeling, so we assume that the garage building year is the same as the building year of the house. If the house doesn't have a garage, then this variable would be irrelevant, so this imputation makes sense in this way."
   ]
  },
  {
   "cell_type": "code",
   "execution_count": 948,
   "metadata": {},
   "outputs": [],
   "source": [
    "garage_missing = ['GarageFinish', 'GarageCars', 'GarageCond', 'GarageArea', 'GarageQual', 'GarageType', 'GarageYrBlt']"
   ]
  },
  {
   "cell_type": "code",
   "execution_count": 949,
   "metadata": {},
   "outputs": [
    {
     "data": {
      "text/plain": [
       "GarageFinish    81\n",
       "GarageCars       0\n",
       "GarageCond      81\n",
       "GarageArea       0\n",
       "GarageQual      81\n",
       "GarageType      81\n",
       "GarageYrBlt     81\n",
       "dtype: int64"
      ]
     },
     "execution_count": 949,
     "metadata": {},
     "output_type": "execute_result"
    }
   ],
   "source": [
    "df_train[garage_missing].isnull().sum()"
   ]
  },
  {
   "cell_type": "code",
   "execution_count": 950,
   "metadata": {},
   "outputs": [
    {
     "data": {
      "text/plain": [
       "GarageFinish    78\n",
       "GarageCars       1\n",
       "GarageCond      78\n",
       "GarageArea       1\n",
       "GarageQual      78\n",
       "GarageType      76\n",
       "GarageYrBlt     78\n",
       "dtype: int64"
      ]
     },
     "execution_count": 950,
     "metadata": {},
     "output_type": "execute_result"
    }
   ],
   "source": [
    "df_test[garage_missing].isnull().sum()"
   ]
  },
  {
   "cell_type": "code",
   "execution_count": 951,
   "metadata": {},
   "outputs": [],
   "source": [
    "df_train.GarageYrBlt.loc[df_train.GarageYrBlt.isnull()] = df_train.YearBuilt.loc[df_train.GarageYrBlt.isnull()]\n",
    "df_test.GarageYrBlt.loc[df_test.GarageYrBlt.isnull()] = df_test.YearBuilt.loc[df_test.GarageYrBlt.isnull()]"
   ]
  },
  {
   "cell_type": "markdown",
   "metadata": {},
   "source": [
    "Let's now take a look on how to impute GarageFinish, GarageCond, GarageQual and GarageType. For these four variables, NA simply means no garage."
   ]
  },
  {
   "cell_type": "code",
   "execution_count": 952,
   "metadata": {},
   "outputs": [
    {
     "name": "stdout",
     "output_type": "stream",
     "text": [
      "81\n",
      "76\n"
     ]
    }
   ],
   "source": [
    "print(len(df_train[(df_train.GarageFinish.isnull()) & (df_train.GarageCond.isnull()) & (df_train.GarageQual.isnull()) \n",
    "                   & (df_train.GarageType.isnull())]))  # all these four NAs are together in the training set\n",
    "print(len(df_test[(df_test.GarageFinish.isnull()) & (df_test.GarageCond.isnull()) & (df_test.GarageQual.isnull()) &\n",
    "        (df_test.GarageType.isnull())]))  # 76 of them are together, let's now find the 2 peculiar ones"
   ]
  },
  {
   "cell_type": "code",
   "execution_count": 953,
   "metadata": {},
   "outputs": [
    {
     "data": {
      "text/html": [
       "<div>\n",
       "<style scoped>\n",
       "    .dataframe tbody tr th:only-of-type {\n",
       "        vertical-align: middle;\n",
       "    }\n",
       "\n",
       "    .dataframe tbody tr th {\n",
       "        vertical-align: top;\n",
       "    }\n",
       "\n",
       "    .dataframe thead th {\n",
       "        text-align: right;\n",
       "    }\n",
       "</style>\n",
       "<table border=\"1\" class=\"dataframe\">\n",
       "  <thead>\n",
       "    <tr style=\"text-align: right;\">\n",
       "      <th></th>\n",
       "      <th>GarageFinish</th>\n",
       "      <th>GarageCars</th>\n",
       "      <th>GarageCond</th>\n",
       "      <th>GarageArea</th>\n",
       "      <th>GarageQual</th>\n",
       "      <th>GarageType</th>\n",
       "      <th>GarageYrBlt</th>\n",
       "    </tr>\n",
       "  </thead>\n",
       "  <tbody>\n",
       "    <tr>\n",
       "      <td>666</td>\n",
       "      <td>NaN</td>\n",
       "      <td>1.0</td>\n",
       "      <td>NaN</td>\n",
       "      <td>360.0</td>\n",
       "      <td>NaN</td>\n",
       "      <td>Detchd</td>\n",
       "      <td>1910.0</td>\n",
       "    </tr>\n",
       "    <tr>\n",
       "      <td>1116</td>\n",
       "      <td>NaN</td>\n",
       "      <td>NaN</td>\n",
       "      <td>NaN</td>\n",
       "      <td>NaN</td>\n",
       "      <td>NaN</td>\n",
       "      <td>Detchd</td>\n",
       "      <td>1923.0</td>\n",
       "    </tr>\n",
       "  </tbody>\n",
       "</table>\n",
       "</div>"
      ],
      "text/plain": [
       "     GarageFinish  GarageCars GarageCond  GarageArea GarageQual GarageType  \\\n",
       "666           NaN         1.0        NaN       360.0        NaN     Detchd   \n",
       "1116          NaN         NaN        NaN         NaN        NaN     Detchd   \n",
       "\n",
       "      GarageYrBlt  \n",
       "666        1910.0  \n",
       "1116       1923.0  "
      ]
     },
     "execution_count": 953,
     "metadata": {},
     "output_type": "execute_result"
    }
   ],
   "source": [
    "df_test[(df_test.GarageFinish.isnull()) & (df_test.GarageCond.isnull()) & (df_test.GarageQual.isnull()) &\n",
    "        (~df_test.GarageType.isnull())][garage_missing] # 666 seem to have a garage while 1116 doesn't"
   ]
  },
  {
   "cell_type": "code",
   "execution_count": 954,
   "metadata": {},
   "outputs": [
    {
     "data": {
      "text/html": [
       "<div>\n",
       "<style scoped>\n",
       "    .dataframe tbody tr th:only-of-type {\n",
       "        vertical-align: middle;\n",
       "    }\n",
       "\n",
       "    .dataframe tbody tr th {\n",
       "        vertical-align: top;\n",
       "    }\n",
       "\n",
       "    .dataframe thead th {\n",
       "        text-align: right;\n",
       "    }\n",
       "</style>\n",
       "<table border=\"1\" class=\"dataframe\">\n",
       "  <thead>\n",
       "    <tr style=\"text-align: right;\">\n",
       "      <th></th>\n",
       "      <th>GarageFinish</th>\n",
       "      <th>GarageCars</th>\n",
       "      <th>GarageCond</th>\n",
       "      <th>GarageArea</th>\n",
       "      <th>GarageQual</th>\n",
       "      <th>GarageType</th>\n",
       "      <th>GarageYrBlt</th>\n",
       "    </tr>\n",
       "  </thead>\n",
       "  <tbody>\n",
       "    <tr>\n",
       "      <td>0</td>\n",
       "      <td>Unf</td>\n",
       "      <td>2.0</td>\n",
       "      <td>TA</td>\n",
       "      <td>0.0</td>\n",
       "      <td>TA</td>\n",
       "      <td>Attchd</td>\n",
       "      <td>2005.0</td>\n",
       "    </tr>\n",
       "  </tbody>\n",
       "</table>\n",
       "</div>"
      ],
      "text/plain": [
       "  GarageFinish  GarageCars GarageCond  GarageArea GarageQual GarageType  \\\n",
       "0          Unf         2.0         TA         0.0         TA     Attchd   \n",
       "\n",
       "   GarageYrBlt  \n",
       "0       2005.0  "
      ]
     },
     "execution_count": 954,
     "metadata": {},
     "output_type": "execute_result"
    }
   ],
   "source": [
    "df_test[garage_missing].mode()"
   ]
  },
  {
   "cell_type": "code",
   "execution_count": 955,
   "metadata": {},
   "outputs": [],
   "source": [
    "# impute with mode\n",
    "df_test.GarageFinish.iloc[666] = 'Unf'\n",
    "df_test.GarageCond.iloc[666] = 'TA'\n",
    "df_test.GarageQual.iloc[666] = 'TA'"
   ]
  },
  {
   "cell_type": "code",
   "execution_count": 956,
   "metadata": {},
   "outputs": [],
   "source": [
    "# The missing GarageCars and GarageArea are due to 1116\n",
    "df_test.GarageCars.iloc[1116] = 0\n",
    "df_test.GarageArea.iloc[1116] = 0\n",
    "df_test.GarageType.iloc[1116] = np.NaN"
   ]
  },
  {
   "cell_type": "code",
   "execution_count": 957,
   "metadata": {},
   "outputs": [],
   "source": [
    "# Let's now impute GarageFinish, GarageCond, GarageQual, GarageType as usual"
   ]
  },
  {
   "cell_type": "code",
   "execution_count": 958,
   "metadata": {},
   "outputs": [],
   "source": [
    "df_train.GarageFinish.fillna('None', inplace = True)\n",
    "df_train.GarageCond.fillna('None', inplace = True)\n",
    "df_train.GarageQual.fillna('None', inplace = True)\n",
    "df_train.GarageType.fillna('None', inplace = True)\n",
    "df_test.GarageFinish.fillna('None', inplace = True)\n",
    "df_test.GarageCond.fillna('None', inplace = True)\n",
    "df_test.GarageQual.fillna('None', inplace = True)\n",
    "df_test.GarageType.fillna('None', inplace = True)"
   ]
  },
  {
   "cell_type": "code",
   "execution_count": 959,
   "metadata": {},
   "outputs": [],
   "source": [
    "df_train['GarageFinish'] = df_train['GarageFinish'].map(\n",
    "    {'Fin': 3, 'RFn': 2, 'Unf': 1, 'None': 0})\n",
    "df_test['GarageFinish'] = df_test['GarageFinish'].map(\n",
    "    {'Fin': 3, 'RFn': 2, 'Unf': 1, 'None': 0})\n",
    "df_train['GarageCond'] = df_train['GarageCond'].map({'Ex': 90, 'Gd': 80, 'TA': 70, 'Fa': 60, 'Po':30, 'None': 0})\n",
    "df_test['GarageCond'] = df_test['GarageCond'].map({'Ex': 90, 'Gd': 80, 'TA': 70, 'Fa': 60, 'Po':30, 'None': 0})\n",
    "df_train['GarageQual'] = df_train['GarageQual'].map({'Ex': 90, 'Gd': 80, 'TA': 70, 'Fa': 60, 'Po':30, 'None': 0})\n",
    "df_test['GarageQual'] = df_test['GarageQual'].map({'Ex': 90, 'Gd': 80, 'TA': 70, 'Fa': 60, 'Po':30, 'None': 0})"
   ]
  },
  {
   "cell_type": "code",
   "execution_count": 960,
   "metadata": {},
   "outputs": [],
   "source": [
    "for _ in garage_missing:\n",
    "    col_to_impute.remove(_)"
   ]
  },
  {
   "cell_type": "markdown",
   "metadata": {},
   "source": [
    "### 3.4 Lot "
   ]
  },
  {
   "cell_type": "code",
   "execution_count": 961,
   "metadata": {},
   "outputs": [
    {
     "data": {
      "text/plain": [
       "<matplotlib.axes._subplots.AxesSubplot at 0x1a2bc743d0>"
      ]
     },
     "execution_count": 961,
     "metadata": {},
     "output_type": "execute_result"
    },
    {
     "data": {
      "image/png": "[encoded data removed]",
      "text/plain": [
       "<Figure size 432x288 with 1 Axes>"
      ]
     },
     "metadata": {},
     "output_type": "display_data"
    }
   ],
   "source": [
    "sns.barplot(y = 'Neighborhood', x = 'LotFrontage', data = df_train[~df_train.LotFrontage.isnull()])\n",
    "# We can see that for each neighborhood, lotfrontage does have a difference, so we will impute according to the median\n",
    "# of each neighborhood"
   ]
  },
  {
   "cell_type": "code",
   "execution_count": 962,
   "metadata": {},
   "outputs": [],
   "source": [
    "neighbor_lot_dict = df_train.groupby('Neighborhood')['LotFrontage'].median().to_dict()"
   ]
  },
  {
   "cell_type": "code",
   "execution_count": 963,
   "metadata": {},
   "outputs": [
    {
     "name": "stderr",
     "output_type": "stream",
     "text": [
      "/Users/hanboshao/opt/anaconda3/lib/python3.7/site-packages/ipykernel_launcher.py:2: SettingWithCopyWarning: \n",
      "A value is trying to be set on a copy of a slice from a DataFrame\n",
      "\n",
      "See the caveats in the documentation: http://pandas.pydata.org/pandas-docs/stable/user_guide/indexing.html#returning-a-view-versus-a-copy\n",
      "  \n",
      "/Users/hanboshao/opt/anaconda3/lib/python3.7/site-packages/ipykernel_launcher.py:4: SettingWithCopyWarning: \n",
      "A value is trying to be set on a copy of a slice from a DataFrame\n",
      "\n",
      "See the caveats in the documentation: http://pandas.pydata.org/pandas-docs/stable/user_guide/indexing.html#returning-a-view-versus-a-copy\n",
      "  after removing the cwd from sys.path.\n"
     ]
    }
   ],
   "source": [
    "df_train.LotFrontage[df_train.LotFrontage.isnull()] = \\\n",
    "df_train.Neighborhood[df_train.LotFrontage.isnull()].map(neighbor_lot_dict)\n",
    "df_test.LotFrontage[df_test.LotFrontage.isnull()] = \\\n",
    "df_test.Neighborhood[df_test.LotFrontage.isnull()].map(neighbor_lot_dict)"
   ]
  },
  {
   "cell_type": "code",
   "execution_count": 964,
   "metadata": {},
   "outputs": [],
   "source": [
    "col_to_impute.remove('LotFrontage')"
   ]
  },
  {
   "cell_type": "code",
   "execution_count": 965,
   "metadata": {},
   "outputs": [
    {
     "data": {
      "text/plain": [
       "<matplotlib.axes._subplots.AxesSubplot at 0x1a2ba3b8d0>"
      ]
     },
     "execution_count": 965,
     "metadata": {},
     "output_type": "execute_result"
    },
    {
     "data": {
      "image/png": "[encoded data removed]",
      "text/plain": [
       "<Figure size 432x288 with 1 Axes>"
      ]
     },
     "metadata": {},
     "output_type": "display_data"
    }
   ],
   "source": [
    "sns.barplot(y = 'SalePrice', x = 'LotShape', data = df_train) \n",
    "# there doesn't seem to have a pattern same with LotConfig"
   ]
  },
  {
   "cell_type": "code",
   "execution_count": 966,
   "metadata": {},
   "outputs": [],
   "source": [
    "# According to the description, lotshape seems ordinal, we then map it\n",
    "df_train['LotShape'] = df_train['LotShape'].map({'IR3':0, 'IR2':1, 'IR1':2, 'Reg':3})\n",
    "df_test['LotShape'] = df_test['LotShape'].map({'IR3':0, 'IR2':1, 'IR1':2, 'Reg':3})"
   ]
  },
  {
   "cell_type": "markdown",
   "metadata": {},
   "source": [
    "### 3.5 Basement Variables"
   ]
  },
  {
   "cell_type": "code",
   "execution_count": 967,
   "metadata": {},
   "outputs": [],
   "source": [
    "basement_missing = ['BsmtHalfBath','BsmtQual','BsmtExposure','BsmtFinType1',\n",
    "                    'BsmtFinSF1','BsmtCond','BsmtFinType2','BsmtFullBath'] \n",
    "# There are 8 of them add 3 at the end (forgot ones ,hahaha)"
   ]
  },
  {
   "cell_type": "code",
   "execution_count": 968,
   "metadata": {},
   "outputs": [],
   "source": [
    "# df_train[basement_missing].isnull().sum()"
   ]
  },
  {
   "cell_type": "code",
   "execution_count": 969,
   "metadata": {},
   "outputs": [],
   "source": [
    "# df_test[basement_missing].isnull().sum()"
   ]
  },
  {
   "cell_type": "code",
   "execution_count": 970,
   "metadata": {},
   "outputs": [
    {
     "data": {
      "text/plain": [
       "37"
      ]
     },
     "execution_count": 970,
     "metadata": {},
     "output_type": "execute_result"
    }
   ],
   "source": [
    "len(df_train[df_train.BsmtQual.isnull() & df_train.BsmtExposure.isnull() & df_train.BsmtFinType1.isnull()\n",
    "        & df_train.BsmtFinType2.isnull() & df_train.BsmtCond.isnull()]) # They all appear in the 37 observations"
   ]
  },
  {
   "cell_type": "code",
   "execution_count": 971,
   "metadata": {},
   "outputs": [
    {
     "data": {
      "text/html": [
       "<div>\n",
       "<style scoped>\n",
       "    .dataframe tbody tr th:only-of-type {\n",
       "        vertical-align: middle;\n",
       "    }\n",
       "\n",
       "    .dataframe tbody tr th {\n",
       "        vertical-align: top;\n",
       "    }\n",
       "\n",
       "    .dataframe thead th {\n",
       "        text-align: right;\n",
       "    }\n",
       "</style>\n",
       "<table border=\"1\" class=\"dataframe\">\n",
       "  <thead>\n",
       "    <tr style=\"text-align: right;\">\n",
       "      <th></th>\n",
       "      <th>BsmtHalfBath</th>\n",
       "      <th>BsmtQual</th>\n",
       "      <th>BsmtExposure</th>\n",
       "      <th>BsmtFinType1</th>\n",
       "      <th>BsmtFinSF1</th>\n",
       "      <th>BsmtCond</th>\n",
       "      <th>BsmtFinType2</th>\n",
       "      <th>BsmtFullBath</th>\n",
       "    </tr>\n",
       "  </thead>\n",
       "  <tbody>\n",
       "    <tr>\n",
       "      <td>332</td>\n",
       "      <td>0</td>\n",
       "      <td>Gd</td>\n",
       "      <td>No</td>\n",
       "      <td>GLQ</td>\n",
       "      <td>1124</td>\n",
       "      <td>TA</td>\n",
       "      <td>NaN</td>\n",
       "      <td>1</td>\n",
       "    </tr>\n",
       "    <tr>\n",
       "      <td>948</td>\n",
       "      <td>0</td>\n",
       "      <td>Gd</td>\n",
       "      <td>NaN</td>\n",
       "      <td>Unf</td>\n",
       "      <td>0</td>\n",
       "      <td>TA</td>\n",
       "      <td>Unf</td>\n",
       "      <td>0</td>\n",
       "    </tr>\n",
       "  </tbody>\n",
       "</table>\n",
       "</div>"
      ],
      "text/plain": [
       "     BsmtHalfBath BsmtQual BsmtExposure BsmtFinType1  BsmtFinSF1 BsmtCond  \\\n",
       "332             0       Gd           No          GLQ        1124       TA   \n",
       "948             0       Gd          NaN          Unf           0       TA   \n",
       "\n",
       "    BsmtFinType2  BsmtFullBath  \n",
       "332          NaN             1  \n",
       "948          Unf             0  "
      ]
     },
     "execution_count": 971,
     "metadata": {},
     "output_type": "execute_result"
    }
   ],
   "source": [
    "df_train[(~df_train.BsmtQual.isnull()) & (df_train.BsmtExposure.isnull()|df_train.BsmtFinType2.isnull()) \n",
    "         & (~df_train.BsmtFinType1.isnull()) & (~df_train.BsmtCond.isnull())][basement_missing]\n",
    "# One missing in exposure"
   ]
  },
  {
   "cell_type": "code",
   "execution_count": 972,
   "metadata": {},
   "outputs": [
    {
     "data": {
      "text/plain": [
       "1"
      ]
     },
     "execution_count": 972,
     "metadata": {},
     "output_type": "execute_result"
    }
   ],
   "source": [
    "len(df_test[df_test.BsmtQual.isnull() & df_test.BsmtExposure.isnull() & df_test.BsmtFinType1.isnull()\n",
    "        & df_test.BsmtFinType2.isnull() & df_test.BsmtCond.isnull() & df_test.BsmtHalfBath.isnull()\n",
    "            & df_test.BsmtFullBath.isnull() & df_test.BsmtFinSF1.isnull()])\n",
    "# After playing around, we can see that these missing variables are all contained in 45 observations"
   ]
  },
  {
   "cell_type": "code",
   "execution_count": 973,
   "metadata": {},
   "outputs": [
    {
     "data": {
      "text/html": [
       "<div>\n",
       "<style scoped>\n",
       "    .dataframe tbody tr th:only-of-type {\n",
       "        vertical-align: middle;\n",
       "    }\n",
       "\n",
       "    .dataframe tbody tr th {\n",
       "        vertical-align: top;\n",
       "    }\n",
       "\n",
       "    .dataframe thead th {\n",
       "        text-align: right;\n",
       "    }\n",
       "</style>\n",
       "<table border=\"1\" class=\"dataframe\">\n",
       "  <thead>\n",
       "    <tr style=\"text-align: right;\">\n",
       "      <th></th>\n",
       "      <th>BsmtHalfBath</th>\n",
       "      <th>BsmtQual</th>\n",
       "      <th>BsmtExposure</th>\n",
       "      <th>BsmtFinType1</th>\n",
       "      <th>BsmtFinSF1</th>\n",
       "      <th>BsmtCond</th>\n",
       "      <th>BsmtFinType2</th>\n",
       "      <th>BsmtFullBath</th>\n",
       "    </tr>\n",
       "  </thead>\n",
       "  <tbody>\n",
       "    <tr>\n",
       "      <td>27</td>\n",
       "      <td>0.0</td>\n",
       "      <td>Gd</td>\n",
       "      <td>NaN</td>\n",
       "      <td>Unf</td>\n",
       "      <td>0.0</td>\n",
       "      <td>TA</td>\n",
       "      <td>Unf</td>\n",
       "      <td>0.0</td>\n",
       "    </tr>\n",
       "    <tr>\n",
       "      <td>580</td>\n",
       "      <td>0.0</td>\n",
       "      <td>Gd</td>\n",
       "      <td>Mn</td>\n",
       "      <td>GLQ</td>\n",
       "      <td>1044.0</td>\n",
       "      <td>NaN</td>\n",
       "      <td>Rec</td>\n",
       "      <td>1.0</td>\n",
       "    </tr>\n",
       "    <tr>\n",
       "      <td>725</td>\n",
       "      <td>1.0</td>\n",
       "      <td>TA</td>\n",
       "      <td>No</td>\n",
       "      <td>BLQ</td>\n",
       "      <td>1033.0</td>\n",
       "      <td>NaN</td>\n",
       "      <td>Unf</td>\n",
       "      <td>0.0</td>\n",
       "    </tr>\n",
       "    <tr>\n",
       "      <td>757</td>\n",
       "      <td>0.0</td>\n",
       "      <td>NaN</td>\n",
       "      <td>No</td>\n",
       "      <td>Unf</td>\n",
       "      <td>0.0</td>\n",
       "      <td>Fa</td>\n",
       "      <td>Unf</td>\n",
       "      <td>0.0</td>\n",
       "    </tr>\n",
       "    <tr>\n",
       "      <td>758</td>\n",
       "      <td>0.0</td>\n",
       "      <td>NaN</td>\n",
       "      <td>No</td>\n",
       "      <td>Unf</td>\n",
       "      <td>0.0</td>\n",
       "      <td>TA</td>\n",
       "      <td>Unf</td>\n",
       "      <td>0.0</td>\n",
       "    </tr>\n",
       "    <tr>\n",
       "      <td>888</td>\n",
       "      <td>0.0</td>\n",
       "      <td>Gd</td>\n",
       "      <td>NaN</td>\n",
       "      <td>Unf</td>\n",
       "      <td>0.0</td>\n",
       "      <td>TA</td>\n",
       "      <td>Unf</td>\n",
       "      <td>0.0</td>\n",
       "    </tr>\n",
       "    <tr>\n",
       "      <td>1064</td>\n",
       "      <td>0.0</td>\n",
       "      <td>TA</td>\n",
       "      <td>Av</td>\n",
       "      <td>ALQ</td>\n",
       "      <td>755.0</td>\n",
       "      <td>NaN</td>\n",
       "      <td>Unf</td>\n",
       "      <td>0.0</td>\n",
       "    </tr>\n",
       "  </tbody>\n",
       "</table>\n",
       "</div>"
      ],
      "text/plain": [
       "      BsmtHalfBath BsmtQual BsmtExposure BsmtFinType1  BsmtFinSF1 BsmtCond  \\\n",
       "27             0.0       Gd          NaN          Unf         0.0       TA   \n",
       "580            0.0       Gd           Mn          GLQ      1044.0      NaN   \n",
       "725            1.0       TA           No          BLQ      1033.0      NaN   \n",
       "757            0.0      NaN           No          Unf         0.0       Fa   \n",
       "758            0.0      NaN           No          Unf         0.0       TA   \n",
       "888            0.0       Gd          NaN          Unf         0.0       TA   \n",
       "1064           0.0       TA           Av          ALQ       755.0      NaN   \n",
       "\n",
       "     BsmtFinType2  BsmtFullBath  \n",
       "27            Unf           0.0  \n",
       "580           Rec           1.0  \n",
       "725           Unf           0.0  \n",
       "757           Unf           0.0  \n",
       "758           Unf           0.0  \n",
       "888           Unf           0.0  \n",
       "1064          Unf           0.0  "
      ]
     },
     "execution_count": 973,
     "metadata": {},
     "output_type": "execute_result"
    }
   ],
   "source": [
    "df_test[(~df_test.BsmtFinType1.isnull()) & \n",
    "        (df_test.BsmtQual.isnull() | df_test.BsmtExposure.isnull() | df_test.BsmtCond.isnull() \n",
    "         | df_test.BsmtHalfBath.isnull() | df_test.BsmtFullBath.isnull() \n",
    "         | df_test.BsmtFinSF1.isnull())][basement_missing] # A table of part of the missing values"
   ]
  },
  {
   "cell_type": "code",
   "execution_count": 974,
   "metadata": {},
   "outputs": [
    {
     "data": {
      "text/html": [
       "<div>\n",
       "<style scoped>\n",
       "    .dataframe tbody tr th:only-of-type {\n",
       "        vertical-align: middle;\n",
       "    }\n",
       "\n",
       "    .dataframe tbody tr th {\n",
       "        vertical-align: top;\n",
       "    }\n",
       "\n",
       "    .dataframe thead th {\n",
       "        text-align: right;\n",
       "    }\n",
       "</style>\n",
       "<table border=\"1\" class=\"dataframe\">\n",
       "  <thead>\n",
       "    <tr style=\"text-align: right;\">\n",
       "      <th></th>\n",
       "      <th>BsmtHalfBath</th>\n",
       "      <th>BsmtQual</th>\n",
       "      <th>BsmtExposure</th>\n",
       "      <th>BsmtFinType1</th>\n",
       "      <th>BsmtFinSF1</th>\n",
       "      <th>BsmtCond</th>\n",
       "      <th>BsmtFinType2</th>\n",
       "      <th>BsmtFullBath</th>\n",
       "    </tr>\n",
       "  </thead>\n",
       "  <tbody>\n",
       "    <tr>\n",
       "      <td>0</td>\n",
       "      <td>0</td>\n",
       "      <td>TA</td>\n",
       "      <td>No</td>\n",
       "      <td>Unf</td>\n",
       "      <td>0</td>\n",
       "      <td>TA</td>\n",
       "      <td>Unf</td>\n",
       "      <td>0</td>\n",
       "    </tr>\n",
       "  </tbody>\n",
       "</table>\n",
       "</div>"
      ],
      "text/plain": [
       "   BsmtHalfBath BsmtQual BsmtExposure BsmtFinType1  BsmtFinSF1 BsmtCond  \\\n",
       "0             0       TA           No          Unf           0       TA   \n",
       "\n",
       "  BsmtFinType2  BsmtFullBath  \n",
       "0          Unf             0  "
      ]
     },
     "execution_count": 974,
     "metadata": {},
     "output_type": "execute_result"
    }
   ],
   "source": [
    "# We impute with the mode\n",
    "df_train[basement_missing].mode()"
   ]
  },
  {
   "cell_type": "code",
   "execution_count": 975,
   "metadata": {},
   "outputs": [
    {
     "data": {
      "text/html": [
       "<div>\n",
       "<style scoped>\n",
       "    .dataframe tbody tr th:only-of-type {\n",
       "        vertical-align: middle;\n",
       "    }\n",
       "\n",
       "    .dataframe tbody tr th {\n",
       "        vertical-align: top;\n",
       "    }\n",
       "\n",
       "    .dataframe thead th {\n",
       "        text-align: right;\n",
       "    }\n",
       "</style>\n",
       "<table border=\"1\" class=\"dataframe\">\n",
       "  <thead>\n",
       "    <tr style=\"text-align: right;\">\n",
       "      <th></th>\n",
       "      <th>BsmtHalfBath</th>\n",
       "      <th>BsmtQual</th>\n",
       "      <th>BsmtExposure</th>\n",
       "      <th>BsmtFinType1</th>\n",
       "      <th>BsmtFinSF1</th>\n",
       "      <th>BsmtCond</th>\n",
       "      <th>BsmtFinType2</th>\n",
       "      <th>BsmtFullBath</th>\n",
       "    </tr>\n",
       "  </thead>\n",
       "  <tbody>\n",
       "    <tr>\n",
       "      <td>0</td>\n",
       "      <td>0.0</td>\n",
       "      <td>TA</td>\n",
       "      <td>No</td>\n",
       "      <td>GLQ</td>\n",
       "      <td>0.0</td>\n",
       "      <td>TA</td>\n",
       "      <td>Unf</td>\n",
       "      <td>0.0</td>\n",
       "    </tr>\n",
       "  </tbody>\n",
       "</table>\n",
       "</div>"
      ],
      "text/plain": [
       "   BsmtHalfBath BsmtQual BsmtExposure BsmtFinType1  BsmtFinSF1 BsmtCond  \\\n",
       "0           0.0       TA           No          GLQ         0.0       TA   \n",
       "\n",
       "  BsmtFinType2  BsmtFullBath  \n",
       "0          Unf           0.0  "
      ]
     },
     "execution_count": 975,
     "metadata": {},
     "output_type": "execute_result"
    }
   ],
   "source": [
    "df_test[basement_missing].mode()"
   ]
  },
  {
   "cell_type": "code",
   "execution_count": 976,
   "metadata": {},
   "outputs": [],
   "source": [
    "df_train.BsmtFinType2.iloc[332] = 'Unf'\n",
    "df_train.BsmtExposure.iloc[948] = 'No'\n",
    "df_test.BsmtQual.iloc[[757,758]] = 'TA'\n",
    "df_test.BsmtExposure.iloc[[27,888]] = 'No'\n",
    "df_test.BsmtCond.iloc[[580,725,1064]] = 'TA'"
   ]
  },
  {
   "cell_type": "code",
   "execution_count": 977,
   "metadata": {},
   "outputs": [],
   "source": [
    "df_train.BsmtFinType2.fillna('None', inplace = True)\n",
    "df_train.BsmtExposure.fillna('None', inplace = True)\n",
    "df_train.BsmtFinType1.fillna('None', inplace = True)\n",
    "df_train.BsmtCond.fillna('None', inplace = True)\n",
    "df_train.BsmtQual.fillna('None', inplace = True)\n",
    "df_test.BsmtFinType2.fillna('None', inplace = True)\n",
    "df_test.BsmtExposure.fillna('None', inplace = True)\n",
    "df_test.BsmtFinType1.fillna('None', inplace = True)\n",
    "df_test.BsmtCond.fillna('None', inplace = True)\n",
    "df_test.BsmtQual.fillna('None', inplace = True)"
   ]
  },
  {
   "cell_type": "code",
   "execution_count": 978,
   "metadata": {},
   "outputs": [],
   "source": [
    "# These five variables are ordinal, we map it to some value\n",
    "df_train['BsmtQual'] = df_train['BsmtQual'].map({'Ex': 100, 'Gd': 90, 'TA': 80, 'Fa': 70, 'Po':50, 'None': 0})\n",
    "df_test['BsmtQual'] = df_test['BsmtQual'].map({'Ex': 100, 'Gd': 90, 'TA': 80, 'Fa': 70, 'Po':50, 'None': 0})\n",
    "df_train['BsmtExposure'] = df_train['BsmtExposure'].map({'None': 0, 'No' : 1, 'Mn' : 3, 'Av' : 4, 'Gd' : 5})\n",
    "df_test['BsmtExposure'] = df_test['BsmtExposure'].map({'None': 0, 'No' : 1, 'Mn' : 3, 'Av' : 4, 'Gd' : 5})\n",
    "df_train['BsmtCond'] = df_train['BsmtCond'].map({'Ex': 100, 'Gd': 90, 'TA': 80, 'Fa': 70, 'Po':50, 'None': 0})\n",
    "df_test['BsmtCond'] = df_test['BsmtCond'].map({'Ex': 100, 'Gd': 90, 'TA': 80, 'Fa': 70, 'Po':50, 'None': 0})\n",
    "df_train['BsmtFinType1'] = df_train['BsmtFinType1'].map({'None':0, 'Unf':1, 'LwQ':2, \n",
    "                                                         'Rec':3, 'BLQ':4, 'ALQ':5, 'GLQ':6})\n",
    "df_test['BsmtFinType1'] = df_test['BsmtFinType1'].map({'None':0, 'Unf':1, 'LwQ':2, \n",
    "                                                         'Rec':3, 'BLQ':4, 'ALQ':5, 'GLQ':6})\n",
    "df_train['BsmtFinType2'] = df_train['BsmtFinType2'].map({'None':0, 'Unf':1, 'LwQ':2, \n",
    "                                                         'Rec':3, 'BLQ':4, 'ALQ':5, 'GLQ':6})\n",
    "df_test['BsmtFinType2'] = df_test['BsmtFinType2'].map({'None':0, 'Unf':1, 'LwQ':2, \n",
    "                                                         'Rec':3, 'BLQ':4, 'ALQ':5, 'GLQ':6})"
   ]
  },
  {
   "cell_type": "code",
   "execution_count": 979,
   "metadata": {},
   "outputs": [
    {
     "data": {
      "text/html": [
       "<div>\n",
       "<style scoped>\n",
       "    .dataframe tbody tr th:only-of-type {\n",
       "        vertical-align: middle;\n",
       "    }\n",
       "\n",
       "    .dataframe tbody tr th {\n",
       "        vertical-align: top;\n",
       "    }\n",
       "\n",
       "    .dataframe thead th {\n",
       "        text-align: right;\n",
       "    }\n",
       "</style>\n",
       "<table border=\"1\" class=\"dataframe\">\n",
       "  <thead>\n",
       "    <tr style=\"text-align: right;\">\n",
       "      <th></th>\n",
       "      <th>BsmtHalfBath</th>\n",
       "      <th>BsmtQual</th>\n",
       "      <th>BsmtExposure</th>\n",
       "      <th>BsmtFinType1</th>\n",
       "      <th>BsmtFinSF1</th>\n",
       "      <th>BsmtCond</th>\n",
       "      <th>BsmtFinType2</th>\n",
       "      <th>BsmtFullBath</th>\n",
       "    </tr>\n",
       "  </thead>\n",
       "  <tbody>\n",
       "    <tr>\n",
       "      <td>660</td>\n",
       "      <td>NaN</td>\n",
       "      <td>0</td>\n",
       "      <td>0</td>\n",
       "      <td>0</td>\n",
       "      <td>NaN</td>\n",
       "      <td>0</td>\n",
       "      <td>0</td>\n",
       "      <td>NaN</td>\n",
       "    </tr>\n",
       "    <tr>\n",
       "      <td>728</td>\n",
       "      <td>NaN</td>\n",
       "      <td>0</td>\n",
       "      <td>0</td>\n",
       "      <td>0</td>\n",
       "      <td>0.0</td>\n",
       "      <td>0</td>\n",
       "      <td>0</td>\n",
       "      <td>NaN</td>\n",
       "    </tr>\n",
       "  </tbody>\n",
       "</table>\n",
       "</div>"
      ],
      "text/plain": [
       "     BsmtHalfBath  BsmtQual  BsmtExposure  BsmtFinType1  BsmtFinSF1  BsmtCond  \\\n",
       "660           NaN         0             0             0         NaN         0   \n",
       "728           NaN         0             0             0         0.0         0   \n",
       "\n",
       "     BsmtFinType2  BsmtFullBath  \n",
       "660             0           NaN  \n",
       "728             0           NaN  "
      ]
     },
     "execution_count": 979,
     "metadata": {},
     "output_type": "execute_result"
    }
   ],
   "source": [
    "# There are still some remaining NAs, we fill them now.\n",
    "df_test[df_test.BsmtHalfBath.isnull() | df_test.BsmtFinSF1.isnull() | \n",
    "        df_test.BsmtFullBath.isnull()][basement_missing]\n",
    "# It is apparent that for those two houses, there are no basement, we change it to zero"
   ]
  },
  {
   "cell_type": "code",
   "execution_count": 980,
   "metadata": {},
   "outputs": [],
   "source": [
    "df_test.BsmtHalfBath.iloc[[660,728]] = 0\n",
    "df_test.BsmtFullBath.iloc[[660,728]] = 0\n",
    "df_test.BsmtFinSF1.iloc[[660]] = 0\n",
    "df_test.BsmtUnfSF.iloc[[660]] = 0\n",
    "df_test.BsmtFinSF2.iloc[[660]] = 0\n",
    "df_test.TotalBsmtSF.iloc[[660]] = 0"
   ]
  },
  {
   "cell_type": "code",
   "execution_count": 981,
   "metadata": {},
   "outputs": [],
   "source": [
    "for _ in basement_missing:\n",
    "    col_to_impute.remove(_)"
   ]
  },
  {
   "cell_type": "code",
   "execution_count": 982,
   "metadata": {},
   "outputs": [],
   "source": [
    "basement_missing2 = ['BsmtUnfSF', 'BsmtFinSF2','TotalBsmtSF']"
   ]
  },
  {
   "cell_type": "code",
   "execution_count": 983,
   "metadata": {},
   "outputs": [
    {
     "data": {
      "text/html": [
       "<div>\n",
       "<style scoped>\n",
       "    .dataframe tbody tr th:only-of-type {\n",
       "        vertical-align: middle;\n",
       "    }\n",
       "\n",
       "    .dataframe tbody tr th {\n",
       "        vertical-align: top;\n",
       "    }\n",
       "\n",
       "    .dataframe thead th {\n",
       "        text-align: right;\n",
       "    }\n",
       "</style>\n",
       "<table border=\"1\" class=\"dataframe\">\n",
       "  <thead>\n",
       "    <tr style=\"text-align: right;\">\n",
       "      <th></th>\n",
       "      <th>BsmtUnfSF</th>\n",
       "      <th>BsmtFinSF2</th>\n",
       "      <th>TotalBsmtSF</th>\n",
       "    </tr>\n",
       "  </thead>\n",
       "  <tbody>\n",
       "  </tbody>\n",
       "</table>\n",
       "</div>"
      ],
      "text/plain": [
       "Empty DataFrame\n",
       "Columns: [BsmtUnfSF, BsmtFinSF2, TotalBsmtSF]\n",
       "Index: []"
      ]
     },
     "execution_count": 983,
     "metadata": {},
     "output_type": "execute_result"
    }
   ],
   "source": [
    "df_test[df_test.BsmtUnfSF.isnull() | df_test.BsmtFinSF2.isnull() |\n",
    "       df_test.TotalBsmtSF.isnull()][basement_missing2]"
   ]
  },
  {
   "cell_type": "code",
   "execution_count": 984,
   "metadata": {},
   "outputs": [],
   "source": [
    "for _ in basement_missing2:\n",
    "    col_to_impute.remove(_)"
   ]
  },
  {
   "cell_type": "markdown",
   "metadata": {},
   "source": [
    "### 3.6 Exteriors \n",
    "\n",
    "We are going to impute 'Exterior1st' and 'Exterior2nd'."
   ]
  },
  {
   "cell_type": "code",
   "execution_count": 985,
   "metadata": {},
   "outputs": [],
   "source": [
    "# df_train[df_train.Exterior1st.isnull()|df_train.Exterior2nd.isnull()] # None for the training set"
   ]
  },
  {
   "cell_type": "code",
   "execution_count": 986,
   "metadata": {},
   "outputs": [
    {
     "data": {
      "text/html": [
       "<div>\n",
       "<style scoped>\n",
       "    .dataframe tbody tr th:only-of-type {\n",
       "        vertical-align: middle;\n",
       "    }\n",
       "\n",
       "    .dataframe tbody tr th {\n",
       "        vertical-align: top;\n",
       "    }\n",
       "\n",
       "    .dataframe thead th {\n",
       "        text-align: right;\n",
       "    }\n",
       "</style>\n",
       "<table border=\"1\" class=\"dataframe\">\n",
       "  <thead>\n",
       "    <tr style=\"text-align: right;\">\n",
       "      <th></th>\n",
       "      <th>Exterior1st</th>\n",
       "      <th>Exterior2nd</th>\n",
       "    </tr>\n",
       "  </thead>\n",
       "  <tbody>\n",
       "    <tr>\n",
       "      <td>691</td>\n",
       "      <td>NaN</td>\n",
       "      <td>NaN</td>\n",
       "    </tr>\n",
       "  </tbody>\n",
       "</table>\n",
       "</div>"
      ],
      "text/plain": [
       "    Exterior1st Exterior2nd\n",
       "691         NaN         NaN"
      ]
     },
     "execution_count": 986,
     "metadata": {},
     "output_type": "execute_result"
    }
   ],
   "source": [
    "df_test[df_test.Exterior1st.isnull()|df_test.Exterior2nd.isnull()][['Exterior1st', 'Exterior2nd']]"
   ]
  },
  {
   "cell_type": "code",
   "execution_count": 987,
   "metadata": {},
   "outputs": [
    {
     "data": {
      "text/html": [
       "<div>\n",
       "<style scoped>\n",
       "    .dataframe tbody tr th:only-of-type {\n",
       "        vertical-align: middle;\n",
       "    }\n",
       "\n",
       "    .dataframe tbody tr th {\n",
       "        vertical-align: top;\n",
       "    }\n",
       "\n",
       "    .dataframe thead th {\n",
       "        text-align: right;\n",
       "    }\n",
       "</style>\n",
       "<table border=\"1\" class=\"dataframe\">\n",
       "  <thead>\n",
       "    <tr style=\"text-align: right;\">\n",
       "      <th></th>\n",
       "      <th>Exterior1st</th>\n",
       "      <th>Exterior2nd</th>\n",
       "    </tr>\n",
       "  </thead>\n",
       "  <tbody>\n",
       "    <tr>\n",
       "      <td>0</td>\n",
       "      <td>VinylSd</td>\n",
       "      <td>VinylSd</td>\n",
       "    </tr>\n",
       "  </tbody>\n",
       "</table>\n",
       "</div>"
      ],
      "text/plain": [
       "  Exterior1st Exterior2nd\n",
       "0     VinylSd     VinylSd"
      ]
     },
     "execution_count": 987,
     "metadata": {},
     "output_type": "execute_result"
    }
   ],
   "source": [
    "df_test[['Exterior1st', 'Exterior2nd']].mode() "
   ]
  },
  {
   "cell_type": "code",
   "execution_count": 988,
   "metadata": {},
   "outputs": [],
   "source": [
    "# We impute with mode\n",
    "df_test.Exterior1st.iloc[691] = 'VinylSd'\n",
    "df_test.Exterior2nd.iloc[691] = 'VinylSd'"
   ]
  },
  {
   "cell_type": "code",
   "execution_count": 989,
   "metadata": {},
   "outputs": [],
   "source": [
    "# ExterQual are ordinal, we encode it\n",
    "df_train['ExterQual'] = df_train['ExterQual'].map({'Ex': 100, 'Gd': 90, 'TA': 80, 'Fa': 70, 'Po':50, 'None': 0})\n",
    "df_test['ExterQual'] = df_test['ExterQual'].map({'Ex': 100, 'Gd': 90, 'TA': 80, 'Fa': 70, 'Po':50, 'None': 0})\n",
    "df_train['ExterCond'] = df_train['ExterCond'].map({'Ex': 100, 'Gd': 90, 'TA': 80, 'Fa': 70, 'Po':50, 'None': 0})\n",
    "df_test['ExterCond'] = df_test['ExterCond'].map({'Ex': 100, 'Gd': 90, 'TA': 80, 'Fa': 70, 'Po':50, 'None': 0})"
   ]
  },
  {
   "cell_type": "code",
   "execution_count": 990,
   "metadata": {},
   "outputs": [],
   "source": [
    "col_to_impute.remove('Exterior1st')\n",
    "col_to_impute.remove('Exterior2nd')"
   ]
  },
  {
   "cell_type": "markdown",
   "metadata": {},
   "source": [
    "### 3.7 Masonry Veneer"
   ]
  },
  {
   "cell_type": "code",
   "execution_count": 991,
   "metadata": {},
   "outputs": [
    {
     "name": "stdout",
     "output_type": "stream",
     "text": [
      "MasVnrType    8\n",
      "MasVnrArea    8\n",
      "dtype: int64\n",
      "MasVnrType    16\n",
      "MasVnrArea    15\n",
      "dtype: int64\n"
     ]
    }
   ],
   "source": [
    "mas_missing = ['MasVnrType', 'MasVnrArea']\n",
    "print(df_train.isnull().sum()[mas_missing])\n",
    "print(df_test.isnull().sum()[mas_missing])"
   ]
  },
  {
   "cell_type": "code",
   "execution_count": 992,
   "metadata": {},
   "outputs": [],
   "source": [
    "#print(len(df_train[df_train.MasVnrType.isnull() & df_train.MasVnrArea.isnull()]))\n",
    "#len(df_test[df_test.MasVnrType.isnull() & df_test.MasVnrArea.isnull()]) # All the missing values are together"
   ]
  },
  {
   "cell_type": "code",
   "execution_count": 993,
   "metadata": {},
   "outputs": [
    {
     "data": {
      "text/html": [
       "<div>\n",
       "<style scoped>\n",
       "    .dataframe tbody tr th:only-of-type {\n",
       "        vertical-align: middle;\n",
       "    }\n",
       "\n",
       "    .dataframe tbody tr th {\n",
       "        vertical-align: top;\n",
       "    }\n",
       "\n",
       "    .dataframe thead th {\n",
       "        text-align: right;\n",
       "    }\n",
       "</style>\n",
       "<table border=\"1\" class=\"dataframe\">\n",
       "  <thead>\n",
       "    <tr style=\"text-align: right;\">\n",
       "      <th></th>\n",
       "      <th>MasVnrType</th>\n",
       "      <th>MasVnrArea</th>\n",
       "    </tr>\n",
       "  </thead>\n",
       "  <tbody>\n",
       "    <tr>\n",
       "      <td>1150</td>\n",
       "      <td>NaN</td>\n",
       "      <td>198.0</td>\n",
       "    </tr>\n",
       "  </tbody>\n",
       "</table>\n",
       "</div>"
      ],
      "text/plain": [
       "     MasVnrType  MasVnrArea\n",
       "1150        NaN       198.0"
      ]
     },
     "execution_count": 993,
     "metadata": {},
     "output_type": "execute_result"
    }
   ],
   "source": [
    "df_test[df_test.MasVnrType.isnull() & ~df_test.MasVnrArea.isnull()][mas_missing]"
   ]
  },
  {
   "cell_type": "code",
   "execution_count": 994,
   "metadata": {},
   "outputs": [],
   "source": [
    "df_test.MasVnrType.iloc[1150] = 'BrkFace' # impute with mode"
   ]
  },
  {
   "cell_type": "code",
   "execution_count": 995,
   "metadata": {},
   "outputs": [
    {
     "name": "stderr",
     "output_type": "stream",
     "text": [
      "/Users/hanboshao/opt/anaconda3/lib/python3.7/site-packages/ipykernel_launcher.py:2: SettingWithCopyWarning: \n",
      "A value is trying to be set on a copy of a slice from a DataFrame\n",
      "\n",
      "See the caveats in the documentation: http://pandas.pydata.org/pandas-docs/stable/user_guide/indexing.html#returning-a-view-versus-a-copy\n",
      "  \n",
      "/Users/hanboshao/opt/anaconda3/lib/python3.7/site-packages/ipykernel_launcher.py:3: SettingWithCopyWarning: \n",
      "A value is trying to be set on a copy of a slice from a DataFrame\n",
      "\n",
      "See the caveats in the documentation: http://pandas.pydata.org/pandas-docs/stable/user_guide/indexing.html#returning-a-view-versus-a-copy\n",
      "  This is separate from the ipykernel package so we can avoid doing imports until\n"
     ]
    }
   ],
   "source": [
    "# Since there is no mansory, so impute it with zero\n",
    "df_train.MasVnrArea[df_train.MasVnrArea.isnull()] = 0\n",
    "df_test.MasVnrArea[df_test.MasVnrArea.isnull()] = 0"
   ]
  },
  {
   "cell_type": "code",
   "execution_count": 996,
   "metadata": {},
   "outputs": [],
   "source": [
    "df_train.MasVnrType.fillna('None', inplace = True)\n",
    "df_test.MasVnrType.fillna('None', inplace = True)"
   ]
  },
  {
   "cell_type": "code",
   "execution_count": 997,
   "metadata": {},
   "outputs": [
    {
     "data": {
      "text/plain": [
       "<matplotlib.axes._subplots.AxesSubplot at 0x1a2aa4a450>"
      ]
     },
     "execution_count": 997,
     "metadata": {},
     "output_type": "execute_result"
    },
    {
     "data": {
      "image/png": "[encoded data removed]",
      "text/plain": [
       "<Figure size 432x288 with 1 Axes>"
      ]
     },
     "metadata": {},
     "output_type": "display_data"
    }
   ],
   "source": [
    "sns.barplot(x = 'MasVnrType', y = 'SalePrice', data = df_train) # This seems to be ordinal"
   ]
  },
  {
   "cell_type": "code",
   "execution_count": 998,
   "metadata": {},
   "outputs": [],
   "source": [
    "df_train['MasVnrType'] = df_train['MasVnrType'].map({'None' : 0, 'BrkCmn' : 0, 'BrkFace' : 1, 'Stone' : 2})\n",
    "df_test['MasVnrType'] = df_test['MasVnrType'].map({'None' : 0, 'BrkCmn' : 0, 'BrkFace' : 1, 'Stone' : 2})"
   ]
  },
  {
   "cell_type": "code",
   "execution_count": 999,
   "metadata": {},
   "outputs": [],
   "source": [
    "for _ in mas_missing:\n",
    "    col_to_impute.remove(_)"
   ]
  },
  {
   "cell_type": "markdown",
   "metadata": {},
   "source": [
    "### 3.8 MS Zoning"
   ]
  },
  {
   "cell_type": "code",
   "execution_count": 1000,
   "metadata": {},
   "outputs": [
    {
     "data": {
      "text/plain": [
       "455     NaN\n",
       "756     NaN\n",
       "790     NaN\n",
       "1444    NaN\n",
       "Name: MSZoning, dtype: object"
      ]
     },
     "execution_count": 1000,
     "metadata": {},
     "output_type": "execute_result"
    }
   ],
   "source": [
    "# df_train[df_train.MSZoning.isnull()] no for df_train\n",
    "df_test[df_test.MSZoning.isnull()]['MSZoning'] # impute with mode"
   ]
  },
  {
   "cell_type": "code",
   "execution_count": 1001,
   "metadata": {},
   "outputs": [],
   "source": [
    "df_test.MSZoning.fillna('RL', inplace = True)"
   ]
  },
  {
   "cell_type": "code",
   "execution_count": 1002,
   "metadata": {},
   "outputs": [],
   "source": [
    "col_to_impute.remove('MSZoning')"
   ]
  },
  {
   "cell_type": "markdown",
   "metadata": {},
   "source": [
    "### 3.9 Remaining Ones"
   ]
  },
  {
   "cell_type": "code",
   "execution_count": 1003,
   "metadata": {},
   "outputs": [],
   "source": [
    "remain_missing = col_to_impute.copy()"
   ]
  },
  {
   "cell_type": "code",
   "execution_count": 1004,
   "metadata": {},
   "outputs": [],
   "source": [
    "# df_train[remain_missing].isnull().sum() # One for electrical\n",
    "# df_test[remain_missing].isnull().sum() # Functional, SaleType, KitchenQual, Utilities 2112"
   ]
  },
  {
   "cell_type": "code",
   "execution_count": 1005,
   "metadata": {},
   "outputs": [],
   "source": [
    "df_test.KitchenQual.fillna('TA', inplace = True)\n",
    "df_train['KitchenQual'] = df_train['KitchenQual'].map({'Ex': 100, 'Gd': 90, 'TA': 80, 'Fa': 70, 'Po':50})\n",
    "df_test['KitchenQual'] = df_test['KitchenQual'].map({'Ex': 100, 'Gd': 90, 'TA': 80, 'Fa': 70, 'Po':50})"
   ]
  },
  {
   "cell_type": "code",
   "execution_count": 1006,
   "metadata": {},
   "outputs": [],
   "source": [
    "#df_train.Utilities.value_counts()\n",
    "#df_test.Utilities.value_counts() \n",
    "#Nearly all variables have AllPub for utilities, which this variable is useless. # We simply drop this column"
   ]
  },
  {
   "cell_type": "code",
   "execution_count": 1007,
   "metadata": {},
   "outputs": [],
   "source": [
    "df_train.drop('Utilities', axis = 1, inplace = True)\n",
    "df_test.drop('Utilities', axis = 1, inplace = True)"
   ]
  },
  {
   "cell_type": "code",
   "execution_count": 1008,
   "metadata": {},
   "outputs": [],
   "source": [
    "# Home functinality\n",
    "df_train['Functional'].isnull().sum()\n",
    "df_test['Functional'].isnull().sum() # 0 for training 2 NA for test\n",
    "df_test['Functional'].fillna('Typ', inplace = True) # Also, this variable seems to be ordinal"
   ]
  },
  {
   "cell_type": "code",
   "execution_count": 1009,
   "metadata": {},
   "outputs": [],
   "source": [
    "df_train['Functional'] = df_train['Functional'].map({'Sal':0, 'Sev':2, \n",
    "                                                     'Maj2':3, 'Maj1':5, 'Mod':6, 'Min2':8, 'Min1':9, 'Typ':10})\n",
    "df_test['Functional'] = df_test['Functional'].map({'Sal':0, 'Sev':2, \n",
    "                                                     'Maj2':3, 'Maj1':5, 'Mod':6, 'Min2':8, 'Min1':9, 'Typ':10})"
   ]
  },
  {
   "cell_type": "code",
   "execution_count": 1010,
   "metadata": {},
   "outputs": [],
   "source": [
    "df_train['Electrical'].isnull().sum()\n",
    "df_test['Electrical'].isnull().sum()\n",
    "df_train['Electrical'].fillna('SBrkr', inplace = True) #impute with mode, standard # this variable seems categorical"
   ]
  },
  {
   "cell_type": "code",
   "execution_count": 1011,
   "metadata": {},
   "outputs": [],
   "source": [
    "df_train['SaleType'].isnull().sum()\n",
    "df_test['SaleType'].isnull().sum()\n",
    "df_test['SaleType'].fillna('WD', inplace = True) # impute with mode, this variable seems categorical"
   ]
  },
  {
   "cell_type": "markdown",
   "metadata": {},
   "source": [
    "### 3.10 Creating Dummies For the Inspected Variables In this Section"
   ]
  },
  {
   "cell_type": "code",
   "execution_count": 1012,
   "metadata": {},
   "outputs": [],
   "source": [
    "MS_dummy = pd.get_dummies(df_train['MSZoning'], prefix='MS', prefix_sep='__', drop_first = True)\n",
    "Alley_dummy = pd.get_dummies(df_train['Alley'], prefix='Alley', prefix_sep='__', drop_first = True)\n",
    "LC_dummy = pd.get_dummies(df_train['LotConfig'], prefix='LC', prefix_sep='__', drop_first = True)\n",
    "E1_dummy = pd.get_dummies(df_train['Exterior1st'], prefix='E1', prefix_sep='__', drop_first = True)\n",
    "E2_dummy = pd.get_dummies(df_train['Exterior2nd'], prefix='E2', prefix_sep='__', drop_first = True)\n",
    "Elec_dummy = pd.get_dummies(df_train['Electrical'], prefix='Elec', prefix_sep='__', drop_first = True)\n",
    "GaType_dummy = pd.get_dummies(df_train['GarageType'], prefix='GaType', prefix_sep='__', drop_first = True)\n",
    "Fence_dummy = pd.get_dummies(df_train['Fence'], prefix='Fence', prefix_sep='__', drop_first = True)\n",
    "Misc_dummy = pd.get_dummies(df_train['MiscFeature'], prefix='Misc', prefix_sep='__', drop_first = True)\n",
    "ST_dummy = pd.get_dummies(df_train['SaleType'], prefix='ST', prefix_sep='__', drop_first = True)\n",
    "SC_dummy = pd.get_dummies(df_train['SaleCondition'], prefix='SC', prefix_sep='__', drop_first = True)\n",
    "\n",
    "df_train = pd.concat([df_train.drop('MSZoning', axis=1), MS_dummy], axis=1)\n",
    "df_train = pd.concat([df_train.drop('Alley', axis=1), Alley_dummy], axis=1)\n",
    "df_train = pd.concat([df_train.drop('LotConfig', axis=1), LC_dummy], axis=1)\n",
    "df_train = pd.concat([df_train.drop('Exterior1st', axis=1), E1_dummy], axis=1)\n",
    "df_train = pd.concat([df_train.drop('Exterior2nd', axis=1), E2_dummy], axis=1)\n",
    "df_train = pd.concat([df_train.drop('Electrical', axis=1), Elec_dummy], axis=1)\n",
    "df_train = pd.concat([df_train.drop('GarageType', axis=1), GaType_dummy], axis=1)\n",
    "df_train = pd.concat([df_train.drop('Fence', axis=1), Fence_dummy], axis=1)\n",
    "df_train = pd.concat([df_train.drop('MiscFeature', axis=1), Misc_dummy], axis=1)\n",
    "df_train = pd.concat([df_train.drop('SaleType', axis=1), ST_dummy], axis=1)\n",
    "df_train = pd.concat([df_train.drop('SaleCondition', axis=1), SC_dummy], axis=1)"
   ]
  },
  {
   "cell_type": "code",
   "execution_count": 1013,
   "metadata": {},
   "outputs": [],
   "source": [
    "MS_dummy1 = pd.get_dummies(df_test['MSZoning'], prefix='MS', prefix_sep='__', drop_first = True)\n",
    "Alley_dummy1 = pd.get_dummies(df_test['Alley'], prefix='Alley', prefix_sep='__', drop_first = True)\n",
    "LC_dummy1 = pd.get_dummies(df_test['LotConfig'], prefix='LC', prefix_sep='__', drop_first = True)\n",
    "E1_dummy1 = pd.get_dummies(df_test['Exterior1st'], prefix='E1', prefix_sep='__', drop_first = True)\n",
    "E2_dummy1 = pd.get_dummies(df_test['Exterior2nd'], prefix='E2', prefix_sep='__', drop_first = True)\n",
    "Elec_dummy1 = pd.get_dummies(df_test['Electrical'], prefix='Elec', prefix_sep='__', drop_first = True)\n",
    "GaType_dummy1 = pd.get_dummies(df_test['GarageType'], prefix='GaType', prefix_sep='__', drop_first = True)\n",
    "Fence_dummy1 = pd.get_dummies(df_test['Fence'], prefix='Fence', prefix_sep='__', drop_first = True)\n",
    "Misc_dummy1 = pd.get_dummies(df_test['MiscFeature'], prefix='Misc', prefix_sep='__', drop_first = True)\n",
    "ST_dummy1 = pd.get_dummies(df_test['SaleType'], prefix='ST', prefix_sep='__', drop_first = True)\n",
    "SC_dummy1 = pd.get_dummies(df_test['SaleCondition'], prefix='SC', prefix_sep='__', drop_first = True)\n",
    "\n",
    "df_test = pd.concat([df_test.drop('MSZoning', axis=1), MS_dummy1], axis=1)\n",
    "df_test = pd.concat([df_test.drop('Alley', axis=1), Alley_dummy1], axis=1)\n",
    "df_test = pd.concat([df_test.drop('LotConfig', axis=1), LC_dummy1], axis=1)\n",
    "df_test = pd.concat([df_test.drop('Exterior1st', axis=1), E1_dummy1], axis=1)\n",
    "df_test = pd.concat([df_test.drop('Exterior2nd', axis=1), E2_dummy1], axis=1)\n",
    "df_test = pd.concat([df_test.drop('Electrical', axis=1), Elec_dummy1], axis=1)\n",
    "df_test = pd.concat([df_test.drop('GarageType', axis=1), GaType_dummy1], axis=1)\n",
    "df_test = pd.concat([df_test.drop('Fence', axis=1), Fence_dummy1], axis=1)\n",
    "df_test = pd.concat([df_test.drop('MiscFeature', axis=1), Misc_dummy1], axis=1)\n",
    "df_test = pd.concat([df_test.drop('SaleType', axis=1), ST_dummy1], axis=1)\n",
    "df_test = pd.concat([df_test.drop('SaleCondition', axis=1), SC_dummy1], axis=1)"
   ]
  },
  {
   "cell_type": "code",
   "execution_count": 1014,
   "metadata": {},
   "outputs": [
    {
     "name": "stdout",
     "output_type": "stream",
     "text": [
      "(1460, 139)\n",
      "(1459, 133)\n"
     ]
    }
   ],
   "source": [
    "print(df_train.shape)\n",
    "print(df_test.shape) # difference lie in dummies"
   ]
  },
  {
   "cell_type": "markdown",
   "metadata": {},
   "source": [
    "## 4. Remaining Categorical Variable Enconding"
   ]
  },
  {
   "cell_type": "code",
   "execution_count": 1015,
   "metadata": {},
   "outputs": [
    {
     "name": "stdout",
     "output_type": "stream",
     "text": [
      "['Street', 'LandContour', 'LandSlope', 'Neighborhood', 'Condition1', 'Condition2', 'BldgType', 'HouseStyle', 'RoofStyle', 'RoofMatl', 'Foundation', 'Heating', 'HeatingQC', 'CentralAir', 'PavedDrive']\n"
     ]
    }
   ],
   "source": [
    "print(list(df_train.columns[df_train.dtypes == 'object']))"
   ]
  },
  {
   "cell_type": "markdown",
   "metadata": {},
   "source": [
    "### 4.1 Heating and A/C"
   ]
  },
  {
   "cell_type": "code",
   "execution_count": 1016,
   "metadata": {},
   "outputs": [
    {
     "data": {
      "text/plain": [
       "Y    1365\n",
       "N      95\n",
       "Name: CentralAir, dtype: int64"
      ]
     },
     "execution_count": 1016,
     "metadata": {},
     "output_type": "execute_result"
    }
   ],
   "source": [
    "hac = ['Heating', 'HeatingQC', 'CentralAir']\n",
    "df_train[hac[0]].value_counts() # Heating is very skewed, with 1428 GasA\n",
    "df_train[hac[1]].value_counts() # Average Spread\n",
    "df_train[hac[2]].value_counts() # Y/N mostly Yes, inbalance classes"
   ]
  },
  {
   "cell_type": "code",
   "execution_count": 1017,
   "metadata": {},
   "outputs": [],
   "source": [
    "# Dummify Heating\n",
    "Heat_dummy = pd.get_dummies(df_train['Heating'], prefix='Heat', prefix_sep='__', drop_first = True)\n",
    "Heat_dummy1 = pd.get_dummies(df_test['Heating'], prefix='Heat', prefix_sep='__', drop_first = True)\n",
    "df_train = pd.concat([df_train.drop('Heating', axis=1), Heat_dummy], axis=1)\n",
    "df_test = pd.concat([df_test.drop('Heating', axis=1), Heat_dummy1], axis=1)"
   ]
  },
  {
   "cell_type": "code",
   "execution_count": 1018,
   "metadata": {},
   "outputs": [],
   "source": [
    "df_train['HeatingQC'] = df_train['HeatingQC'].map({'Ex': 100, 'Gd': 90, 'TA': 80, 'Fa': 70, 'Po':50})\n",
    "df_test['HeatingQC'] = df_test['HeatingQC'].map({'Ex': 100, 'Gd': 90, 'TA': 80, 'Fa': 70, 'Po':50})"
   ]
  },
  {
   "cell_type": "code",
   "execution_count": 1019,
   "metadata": {},
   "outputs": [],
   "source": [
    "df_train['CentralAir'] = df_train['CentralAir'].map({'Y':1,'N':0})\n",
    "df_test['CentralAir'] = df_test['CentralAir'].map({'Y':1,'N':0})"
   ]
  },
  {
   "cell_type": "markdown",
   "metadata": {},
   "source": [
    "### 4.2 Roof"
   ]
  },
  {
   "cell_type": "code",
   "execution_count": 1020,
   "metadata": {},
   "outputs": [],
   "source": [
    "rf = ['RoofStyle', 'RoofMatl']"
   ]
  },
  {
   "cell_type": "code",
   "execution_count": 1021,
   "metadata": {},
   "outputs": [
    {
     "data": {
      "text/plain": [
       "CompShg    1434\n",
       "Tar&Grv      11\n",
       "WdShngl       6\n",
       "WdShake       5\n",
       "Membran       1\n",
       "Roll          1\n",
       "ClyTile       1\n",
       "Metal         1\n",
       "Name: RoofMatl, dtype: int64"
      ]
     },
     "execution_count": 1021,
     "metadata": {},
     "output_type": "execute_result"
    }
   ],
   "source": [
    "df_train[rf[0]].value_counts()\n",
    "df_train[rf[1]].value_counts() # Need to dummify both"
   ]
  },
  {
   "cell_type": "code",
   "execution_count": 1022,
   "metadata": {},
   "outputs": [],
   "source": [
    "RStyle_dummy = pd.get_dummies(df_train['RoofStyle'], prefix='RStyle', prefix_sep='__', drop_first = True)\n",
    "RStyle_dummy1 = pd.get_dummies(df_test['RoofStyle'], prefix='RStyle', prefix_sep='__', drop_first = True)\n",
    "RMatl_dummy = pd.get_dummies(df_train['RoofMatl'], prefix='RMatl', prefix_sep='__', drop_first = True)\n",
    "RMatl_dummy1 = pd.get_dummies(df_test['RoofMatl'], prefix='RMatl', prefix_sep='__', drop_first = True)\n",
    "df_train = pd.concat([df_train.drop('RoofStyle', axis=1), RStyle_dummy], axis=1)\n",
    "df_test = pd.concat([df_test.drop('RoofStyle', axis=1), RStyle_dummy1], axis=1)\n",
    "df_train = pd.concat([df_train.drop('RoofMatl', axis=1), RMatl_dummy], axis=1)\n",
    "df_test = pd.concat([df_test.drop('RoofMatl', axis=1), RMatl_dummy1], axis=1)"
   ]
  },
  {
   "cell_type": "markdown",
   "metadata": {},
   "source": [
    "### 4.3 Land/Building/House"
   ]
  },
  {
   "cell_type": "code",
   "execution_count": 1023,
   "metadata": {},
   "outputs": [
    {
     "data": {
      "text/plain": [
       "Lvl    1311\n",
       "Bnk      63\n",
       "HLS      50\n",
       "Low      36\n",
       "Name: LandContour, dtype: int64"
      ]
     },
     "execution_count": 1023,
     "metadata": {},
     "output_type": "execute_result"
    }
   ],
   "source": [
    "df_train.LandContour.value_counts() # seems to be categorical dummify it"
   ]
  },
  {
   "cell_type": "code",
   "execution_count": 1024,
   "metadata": {},
   "outputs": [],
   "source": [
    "LContour_dummy = pd.get_dummies(df_train['LandContour'], prefix='LContour', prefix_sep='__', drop_first = True)\n",
    "LContour_dummy1 = pd.get_dummies(df_test['LandContour'], prefix='LContour', prefix_sep='__', drop_first = True)\n",
    "df_train = pd.concat([df_train.drop('LandContour', axis=1), LContour_dummy], axis=1)\n",
    "df_test = pd.concat([df_test.drop('LandContour', axis=1), LContour_dummy1], axis=1)"
   ]
  },
  {
   "cell_type": "code",
   "execution_count": 1025,
   "metadata": {},
   "outputs": [
    {
     "data": {
      "text/plain": [
       "Gtl    1382\n",
       "Mod      65\n",
       "Sev      13\n",
       "Name: LandSlope, dtype: int64"
      ]
     },
     "execution_count": 1025,
     "metadata": {},
     "output_type": "execute_result"
    }
   ],
   "source": [
    "df_train.LandSlope.value_counts() # According to distribution # but this variable seems very inbalanced"
   ]
  },
  {
   "cell_type": "code",
   "execution_count": 1026,
   "metadata": {},
   "outputs": [
    {
     "data": {
      "text/plain": [
       "<matplotlib.axes._subplots.AxesSubplot at 0x1a29f8f150>"
      ]
     },
     "execution_count": 1026,
     "metadata": {},
     "output_type": "execute_result"
    },
    {
     "data": {
      "image/png": "[encoded data removed]",
      "text/plain": [
       "<Figure size 432x288 with 1 Axes>"
      ]
     },
     "metadata": {},
     "output_type": "display_data"
    }
   ],
   "source": [
    "sns.barplot(x = \"LandSlope\", y = \"SalePrice\", data = df_train) # seems there is a relation, we will encode it"
   ]
  },
  {
   "cell_type": "code",
   "execution_count": 1027,
   "metadata": {},
   "outputs": [],
   "source": [
    "df_train['LandSlope'] = df_train['LandSlope'].map({'Sev':0, 'Mod':1, 'Gtl':2})\n",
    "df_test['LandSlope'] = df_test['LandSlope'].map({'Sev':0, 'Mod':1, 'Gtl':2})"
   ]
  },
  {
   "cell_type": "code",
   "execution_count": 1028,
   "metadata": {},
   "outputs": [],
   "source": [
    "BType_dummy = pd.get_dummies(df_train['BldgType'], prefix='BType', prefix_sep='__', drop_first = True)\n",
    "BType_dummy1 = pd.get_dummies(df_test['BldgType'], prefix='BType', prefix_sep='__', drop_first = True)\n",
    "HStyle_dummy = pd.get_dummies(df_train['HouseStyle'], prefix='HStyle', prefix_sep='__', drop_first = True)\n",
    "HStyle_dummy1 = pd.get_dummies(df_test['HouseStyle'], prefix='HStyle', prefix_sep='__', drop_first = True)\n",
    "df_train = pd.concat([df_train.drop('BldgType', axis=1), BType_dummy], axis=1)\n",
    "df_test = pd.concat([df_test.drop('BldgType', axis=1), BType_dummy1], axis=1)\n",
    "df_train = pd.concat([df_train.drop('HouseStyle', axis=1), HStyle_dummy], axis=1)\n",
    "df_test = pd.concat([df_test.drop('HouseStyle', axis=1), HStyle_dummy1], axis=1)"
   ]
  },
  {
   "cell_type": "markdown",
   "metadata": {},
   "source": [
    "### 4.4 Street"
   ]
  },
  {
   "cell_type": "code",
   "execution_count": 1029,
   "metadata": {},
   "outputs": [],
   "source": [
    "df_train['Street'] = df_train['Street'].map({'Grvl':0, 'Pave':1})\n",
    "df_test['Street'] = df_test['Street'].map({'Grvl':0, 'Pave':1}) # It's like yes or no"
   ]
  },
  {
   "cell_type": "code",
   "execution_count": 1030,
   "metadata": {},
   "outputs": [],
   "source": [
    "df_train['PavedDrive'] = df_train['PavedDrive'].map({'N':0, 'P':1, 'Y':2}) # This is like the extent of pave\n",
    "df_test['PavedDrive'] = df_test['PavedDrive'].map({'N':0, 'P':1, 'Y':2})"
   ]
  },
  {
   "cell_type": "markdown",
   "metadata": {},
   "source": [
    "### 4.5 Neighborhood"
   ]
  },
  {
   "cell_type": "code",
   "execution_count": 1031,
   "metadata": {},
   "outputs": [],
   "source": [
    "# It spreads all over the place, we would just dummify it\n",
    "# Neigh_dummy = pd.get_dummies(df_train['Neighborhood'], prefix='Neigh', prefix_sep='__', drop_first = True)\n",
    "# Neigh_dummy1 = pd.get_dummies(df_test['Neighborhood'], prefix='Neigh', prefix_sep='__', drop_first = True)\n",
    "# df_train = pd.concat([df_train.drop('Neighborhood', axis=1), Neigh_dummy], axis=1)\n",
    "# df_test = pd.concat([df_test.drop('Neighborhood', axis=1), Neigh_dummy1], axis=1)"
   ]
  },
  {
   "cell_type": "markdown",
   "metadata": {},
   "source": [
    "### 4.6 Others"
   ]
  },
  {
   "cell_type": "code",
   "execution_count": 1032,
   "metadata": {},
   "outputs": [],
   "source": [
    "# Condition 1 and Condition 2 are quite unbalanced but they still spread over the place we would dummify it anyway\n",
    "Co1_dummy = pd.get_dummies(df_train['Condition1'], prefix='Co1', prefix_sep='__', drop_first = True)\n",
    "Co1_dummy1 = pd.get_dummies(df_test['Condition1'], prefix='Co1', prefix_sep='__', drop_first = True)\n",
    "Co2_dummy = pd.get_dummies(df_train['Condition2'], prefix='Co2', prefix_sep='__', drop_first = True)\n",
    "Co2_dummy1 = pd.get_dummies(df_test['Condition2'], prefix='Co2', prefix_sep='__', drop_first = True)\n",
    "df_train = pd.concat([df_train.drop('Condition1', axis=1), Co1_dummy], axis=1)\n",
    "df_test = pd.concat([df_test.drop('Condition1', axis=1), Co1_dummy1], axis=1)\n",
    "df_train = pd.concat([df_train.drop('Condition2', axis=1), Co2_dummy], axis=1)\n",
    "df_test = pd.concat([df_test.drop('Condition2', axis=1), Co2_dummy1], axis=1)"
   ]
  },
  {
   "cell_type": "code",
   "execution_count": 1033,
   "metadata": {},
   "outputs": [],
   "source": [
    "# Foundation seems to spread in many categories, we would dummify it \n",
    "Foun_dummy = pd.get_dummies(df_train['Foundation'], prefix='Foun', prefix_sep='__', drop_first = True)\n",
    "Foun_dummy1 = pd.get_dummies(df_test['Foundation'], prefix='Foun', prefix_sep='__', drop_first = True)\n",
    "df_train = pd.concat([df_train.drop('Foundation', axis=1), Foun_dummy], axis=1)\n",
    "df_test = pd.concat([df_test.drop('Foundation', axis=1), Foun_dummy1], axis=1)"
   ]
  },
  {
   "cell_type": "code",
   "execution_count": 1034,
   "metadata": {},
   "outputs": [
    {
     "name": "stdout",
     "output_type": "stream",
     "text": [
      "(1460, 181)\n",
      "(1459, 165)\n"
     ]
    }
   ],
   "source": [
    "print(df_train.shape)\n",
    "print(df_test.shape)"
   ]
  },
  {
   "cell_type": "markdown",
   "metadata": {},
   "source": [
    "### 4.7 Others Others\n",
    "\n",
    "Though some variables are numerical, they actually used for categorical purposes and we will transform those variables to categorical."
   ]
  },
  {
   "cell_type": "code",
   "execution_count": 1035,
   "metadata": {},
   "outputs": [],
   "source": [
    "MSub_dummy = pd.get_dummies(df_train['MSSubClass'], prefix='MSub', prefix_sep='__', drop_first = True)\n",
    "MSub_dummy1 = pd.get_dummies(df_test['MSSubClass'], prefix='MSub', prefix_sep='__', drop_first = True)\n",
    "df_train = pd.concat([df_train.drop('MSSubClass', axis=1), MSub_dummy], axis=1)\n",
    "df_test = pd.concat([df_test.drop('MSSubClass', axis=1), MSub_dummy1], axis=1)"
   ]
  },
  {
   "cell_type": "code",
   "execution_count": 1036,
   "metadata": {},
   "outputs": [
    {
     "name": "stdout",
     "output_type": "stream",
     "text": [
      "(1460, 194)\n",
      "(1459, 179)\n"
     ]
    }
   ],
   "source": [
    "print(df_train.shape)\n",
    "print(df_test.shape)"
   ]
  },
  {
   "cell_type": "markdown",
   "metadata": {},
   "source": [
    "## 5 Feature Engineering\n",
    "\n",
    "We first combine porch bathroom and square footage"
   ]
  },
  {
   "cell_type": "code",
   "execution_count": 1217,
   "metadata": {},
   "outputs": [
    {
     "ename": "KeyError",
     "evalue": "'FullBath'",
     "output_type": "error",
     "traceback": [
      "\u001b[0;31m---------------------------------------------------------------------------\u001b[0m",
      "\u001b[0;31mKeyError\u001b[0m                                  Traceback (most recent call last)",
      "\u001b[0;32m~/opt/anaconda3/lib/python3.7/site-packages/pandas/core/indexes/base.py\u001b[0m in \u001b[0;36mget_loc\u001b[0;34m(self, key, method, tolerance)\u001b[0m\n\u001b[1;32m   2896\u001b[0m             \u001b[0;32mtry\u001b[0m\u001b[0;34m:\u001b[0m\u001b[0;34m\u001b[0m\u001b[0;34m\u001b[0m\u001b[0m\n\u001b[0;32m-> 2897\u001b[0;31m                 \u001b[0;32mreturn\u001b[0m \u001b[0mself\u001b[0m\u001b[0;34m.\u001b[0m\u001b[0m_engine\u001b[0m\u001b[0;34m.\u001b[0m\u001b[0mget_loc\u001b[0m\u001b[0;34m(\u001b[0m\u001b[0mkey\u001b[0m\u001b[0;34m)\u001b[0m\u001b[0;34m\u001b[0m\u001b[0;34m\u001b[0m\u001b[0m\n\u001b[0m\u001b[1;32m   2898\u001b[0m             \u001b[0;32mexcept\u001b[0m \u001b[0mKeyError\u001b[0m\u001b[0;34m:\u001b[0m\u001b[0;34m\u001b[0m\u001b[0;34m\u001b[0m\u001b[0m\n",
      "\u001b[0;32mpandas/_libs/index.pyx\u001b[0m in \u001b[0;36mpandas._libs.index.IndexEngine.get_loc\u001b[0;34m()\u001b[0m\n",
      "\u001b[0;32mpandas/_libs/index.pyx\u001b[0m in \u001b[0;36mpandas._libs.index.IndexEngine.get_loc\u001b[0;34m()\u001b[0m\n",
      "\u001b[0;32mpandas/_libs/hashtable_class_helper.pxi\u001b[0m in \u001b[0;36mpandas._libs.hashtable.PyObjectHashTable.get_item\u001b[0;34m()\u001b[0m\n",
      "\u001b[0;32mpandas/_libs/hashtable_class_helper.pxi\u001b[0m in \u001b[0;36mpandas._libs.hashtable.PyObjectHashTable.get_item\u001b[0;34m()\u001b[0m\n",
      "\u001b[0;31mKeyError\u001b[0m: 'FullBath'",
      "\nDuring handling of the above exception, another exception occurred:\n",
      "\u001b[0;31mKeyError\u001b[0m                                  Traceback (most recent call last)",
      "\u001b[0;32m<ipython-input-1217-ed57f653cd98>\u001b[0m in \u001b[0;36m<module>\u001b[0;34m\u001b[0m\n\u001b[1;32m      1\u001b[0m df_train['Total_Bathrooms'] = (df_train['FullBath'] + (0.5 * df_train['HalfBath']) +\n\u001b[0;32m----> 2\u001b[0;31m                                df_train['BsmtFullBath'] + (0.5 * df_train['BsmtHalfBath']))\n\u001b[0m\u001b[1;32m      3\u001b[0m df_test['Total_Bathrooms'] = (df_test['FullBath'] + (0.5 * df_test['HalfBath']) +\n\u001b[1;32m      4\u001b[0m                                df_test['BsmtFullBath'] + (0.5 * df_test['BsmtHalfBath'])) \n\u001b[1;32m      5\u001b[0m \u001b[0;31m# 0.5 means less influence on the salePrice\u001b[0m\u001b[0;34m\u001b[0m\u001b[0;34m\u001b[0m\u001b[0;34m\u001b[0m\u001b[0m\n",
      "\u001b[0;32m~/opt/anaconda3/lib/python3.7/site-packages/pandas/core/frame.py\u001b[0m in \u001b[0;36m__getitem__\u001b[0;34m(self, key)\u001b[0m\n\u001b[1;32m   2978\u001b[0m             \u001b[0;32mif\u001b[0m \u001b[0mself\u001b[0m\u001b[0;34m.\u001b[0m\u001b[0mcolumns\u001b[0m\u001b[0;34m.\u001b[0m\u001b[0mnlevels\u001b[0m \u001b[0;34m>\u001b[0m \u001b[0;36m1\u001b[0m\u001b[0;34m:\u001b[0m\u001b[0;34m\u001b[0m\u001b[0;34m\u001b[0m\u001b[0m\n\u001b[1;32m   2979\u001b[0m                 \u001b[0;32mreturn\u001b[0m \u001b[0mself\u001b[0m\u001b[0;34m.\u001b[0m\u001b[0m_getitem_multilevel\u001b[0m\u001b[0;34m(\u001b[0m\u001b[0mkey\u001b[0m\u001b[0;34m)\u001b[0m\u001b[0;34m\u001b[0m\u001b[0;34m\u001b[0m\u001b[0m\n\u001b[0;32m-> 2980\u001b[0;31m             \u001b[0mindexer\u001b[0m \u001b[0;34m=\u001b[0m \u001b[0mself\u001b[0m\u001b[0;34m.\u001b[0m\u001b[0mcolumns\u001b[0m\u001b[0;34m.\u001b[0m\u001b[0mget_loc\u001b[0m\u001b[0;34m(\u001b[0m\u001b[0mkey\u001b[0m\u001b[0;34m)\u001b[0m\u001b[0;34m\u001b[0m\u001b[0;34m\u001b[0m\u001b[0m\n\u001b[0m\u001b[1;32m   2981\u001b[0m             \u001b[0;32mif\u001b[0m \u001b[0mis_integer\u001b[0m\u001b[0;34m(\u001b[0m\u001b[0mindexer\u001b[0m\u001b[0;34m)\u001b[0m\u001b[0;34m:\u001b[0m\u001b[0;34m\u001b[0m\u001b[0;34m\u001b[0m\u001b[0m\n\u001b[1;32m   2982\u001b[0m                 \u001b[0mindexer\u001b[0m \u001b[0;34m=\u001b[0m \u001b[0;34m[\u001b[0m\u001b[0mindexer\u001b[0m\u001b[0;34m]\u001b[0m\u001b[0;34m\u001b[0m\u001b[0;34m\u001b[0m\u001b[0m\n",
      "\u001b[0;32m~/opt/anaconda3/lib/python3.7/site-packages/pandas/core/indexes/base.py\u001b[0m in \u001b[0;36mget_loc\u001b[0;34m(self, key, method, tolerance)\u001b[0m\n\u001b[1;32m   2897\u001b[0m                 \u001b[0;32mreturn\u001b[0m \u001b[0mself\u001b[0m\u001b[0;34m.\u001b[0m\u001b[0m_engine\u001b[0m\u001b[0;34m.\u001b[0m\u001b[0mget_loc\u001b[0m\u001b[0;34m(\u001b[0m\u001b[0mkey\u001b[0m\u001b[0;34m)\u001b[0m\u001b[0;34m\u001b[0m\u001b[0;34m\u001b[0m\u001b[0m\n\u001b[1;32m   2898\u001b[0m             \u001b[0;32mexcept\u001b[0m \u001b[0mKeyError\u001b[0m\u001b[0;34m:\u001b[0m\u001b[0;34m\u001b[0m\u001b[0;34m\u001b[0m\u001b[0m\n\u001b[0;32m-> 2899\u001b[0;31m                 \u001b[0;32mreturn\u001b[0m \u001b[0mself\u001b[0m\u001b[0;34m.\u001b[0m\u001b[0m_engine\u001b[0m\u001b[0;34m.\u001b[0m\u001b[0mget_loc\u001b[0m\u001b[0;34m(\u001b[0m\u001b[0mself\u001b[0m\u001b[0;34m.\u001b[0m\u001b[0m_maybe_cast_indexer\u001b[0m\u001b[0;34m(\u001b[0m\u001b[0mkey\u001b[0m\u001b[0;34m)\u001b[0m\u001b[0;34m)\u001b[0m\u001b[0;34m\u001b[0m\u001b[0;34m\u001b[0m\u001b[0m\n\u001b[0m\u001b[1;32m   2900\u001b[0m         \u001b[0mindexer\u001b[0m \u001b[0;34m=\u001b[0m \u001b[0mself\u001b[0m\u001b[0;34m.\u001b[0m\u001b[0mget_indexer\u001b[0m\u001b[0;34m(\u001b[0m\u001b[0;34m[\u001b[0m\u001b[0mkey\u001b[0m\u001b[0;34m]\u001b[0m\u001b[0;34m,\u001b[0m \u001b[0mmethod\u001b[0m\u001b[0;34m=\u001b[0m\u001b[0mmethod\u001b[0m\u001b[0;34m,\u001b[0m \u001b[0mtolerance\u001b[0m\u001b[0;34m=\u001b[0m\u001b[0mtolerance\u001b[0m\u001b[0;34m)\u001b[0m\u001b[0;34m\u001b[0m\u001b[0;34m\u001b[0m\u001b[0m\n\u001b[1;32m   2901\u001b[0m         \u001b[0;32mif\u001b[0m \u001b[0mindexer\u001b[0m\u001b[0;34m.\u001b[0m\u001b[0mndim\u001b[0m \u001b[0;34m>\u001b[0m \u001b[0;36m1\u001b[0m \u001b[0;32mor\u001b[0m \u001b[0mindexer\u001b[0m\u001b[0;34m.\u001b[0m\u001b[0msize\u001b[0m \u001b[0;34m>\u001b[0m \u001b[0;36m1\u001b[0m\u001b[0;34m:\u001b[0m\u001b[0;34m\u001b[0m\u001b[0;34m\u001b[0m\u001b[0m\n",
      "\u001b[0;32mpandas/_libs/index.pyx\u001b[0m in \u001b[0;36mpandas._libs.index.IndexEngine.get_loc\u001b[0;34m()\u001b[0m\n",
      "\u001b[0;32mpandas/_libs/index.pyx\u001b[0m in \u001b[0;36mpandas._libs.index.IndexEngine.get_loc\u001b[0;34m()\u001b[0m\n",
      "\u001b[0;32mpandas/_libs/hashtable_class_helper.pxi\u001b[0m in \u001b[0;36mpandas._libs.hashtable.PyObjectHashTable.get_item\u001b[0;34m()\u001b[0m\n",
      "\u001b[0;32mpandas/_libs/hashtable_class_helper.pxi\u001b[0m in \u001b[0;36mpandas._libs.hashtable.PyObjectHashTable.get_item\u001b[0;34m()\u001b[0m\n",
      "\u001b[0;31mKeyError\u001b[0m: 'FullBath'"
     ]
    }
   ],
   "source": [
    "df_train['Total_Bathrooms'] = (df_train['FullBath'] + (0.5 * df_train['HalfBath']) +\n",
    "                               df_train['BsmtFullBath'] + (0.5 * df_train['BsmtHalfBath']))\n",
    "df_test['Total_Bathrooms'] = (df_test['FullBath'] + (0.5 * df_test['HalfBath']) +\n",
    "                               df_test['BsmtFullBath'] + (0.5 * df_test['BsmtHalfBath'])) \n",
    "# 0.5 means less influence on the salePrice\n",
    "df_train.drop(['FullBath', 'HalfBath', 'BsmtFullBath', 'BsmtHalfBath'], axis = 1, inplace = True)\n",
    "df_test.drop(['FullBath', 'HalfBath', 'BsmtFullBath', 'BsmtHalfBath'], axis = 1, inplace = True)"
   ]
  },
  {
   "cell_type": "code",
   "execution_count": 1207,
   "metadata": {},
   "outputs": [],
   "source": [
    "df_train['Total_porch_sf'] = (df_train['OpenPorchSF'] + df_train['3SsnPorch'] +\n",
    "                              df_train['EnclosedPorch'] + df_train['ScreenPorch'] + df_train['WoodDeckSF'])\n",
    "df_test['Total_porch_sf'] = (df_test['OpenPorchSF'] + df_test['3SsnPorch'] +\n",
    "                              df_test['EnclosedPorch'] + df_test['ScreenPorch'] + df_test['WoodDeckSF'])\n",
    "df_train.drop(['OpenPorchSF', '3SsnPorch', 'EnclosedPorch', 'ScreenPorch', 'WoodDeckSF'], axis = 1, inplace = True)\n",
    "df_test.drop(['OpenPorchSF', '3SsnPorch', 'EnclosedPorch', 'ScreenPorch', 'WoodDeckSF'], axis = 1, inplace = True)"
   ]
  },
  {
   "cell_type": "code",
   "execution_count": 1300,
   "metadata": {},
   "outputs": [],
   "source": [
    "df_train['Total_porch_sf'] = (df_train['OpenPorchSF'] + df_train['3SsnPorch'] +\n",
    "                              df_train['EnclosedPorch'] + df_train['ScreenPorch'] + df_train['WoodDeckSF'])"
   ]
  },
  {
   "cell_type": "code",
   "execution_count": 1302,
   "metadata": {},
   "outputs": [
    {
     "data": {
      "text/plain": [
       "1.102313211663996"
      ]
     },
     "execution_count": 1302,
     "metadata": {},
     "output_type": "execute_result"
    }
   ],
   "source": [
    "df_train['Total_porch_sf'].skew()"
   ]
  },
  {
   "cell_type": "code",
   "execution_count": 1208,
   "metadata": {},
   "outputs": [],
   "source": [
    "df_train['Total_SF'] = df_train['GrLivArea'] + df_train['TotalBsmtSF']\n",
    "df_test['Total_SF'] = df_test['GrLivArea'] + df_test['TotalBsmtSF']\n",
    "df_train.drop(['GrLivArea', 'TotalBsmtSF'], axis = 1, inplace = True)\n",
    "df_test.drop(['GrLivArea', 'TotalBsmtSF'], axis = 1, inplace = True)"
   ]
  },
  {
   "cell_type": "code",
   "execution_count": 1256,
   "metadata": {},
   "outputs": [
    {
     "data": {
      "image/png": "[encoded data removed]",
      "text/plain": [
       "<Figure size 432x288 with 1 Axes>"
      ]
     },
     "metadata": {},
     "output_type": "display_data"
    }
   ],
   "source": [
    "total_bath = sns.regplot(x = \"Total_Bathrooms\", y = \"SalePrice\", data = df_train)\n",
    "total_bath.set(title = \"SalePrice VS. Total Number of Bathrooms\")\n",
    "plt.show()"
   ]
  },
  {
   "cell_type": "code",
   "execution_count": 1246,
   "metadata": {},
   "outputs": [
    {
     "data": {
      "text/plain": [
       "0.3909930203595834"
      ]
     },
     "execution_count": 1246,
     "metadata": {},
     "output_type": "execute_result"
    }
   ],
   "source": [
    "df_train['Total_porch_sf'] = (df_train['OpenPorchSF'] + df_train['3SsnPorch'] +\n",
    "                              df_train['EnclosedPorch'] + df_train['ScreenPorch'] + df_train['WoodDeckSF'] )\n",
    "df_train['Total_porch_sf'].corr(df_train['SalePrice'])"
   ]
  },
  {
   "cell_type": "code",
   "execution_count": 1243,
   "metadata": {},
   "outputs": [
    {
     "data": {
      "text/plain": [
       "0.6317310679319873"
      ]
     },
     "execution_count": 1243,
     "metadata": {},
     "output_type": "execute_result"
    }
   ],
   "source": [
    "df_train['Total_Bathrooms'] = (df_train['FullBath'] + (0.5 * df_train['HalfBath']) +\n",
    "                               df_train['BsmtFullBath'] + (0.5 * df_train['BsmtHalfBath']))\n",
    "df_train['Total_Bathrooms'].corr(df_train['SalePrice'])"
   ]
  },
  {
   "cell_type": "code",
   "execution_count": 1213,
   "metadata": {},
   "outputs": [
    {
     "data": {
      "text/plain": [
       "0.6317310679319873"
      ]
     },
     "execution_count": 1213,
     "metadata": {},
     "output_type": "execute_result"
    }
   ],
   "source": [
    "df_train['Total_Bathrooms'].corr(df_train['SalePrice'])"
   ]
  },
  {
   "cell_type": "code",
   "execution_count": 1298,
   "metadata": {},
   "outputs": [
    {
     "data": {
      "text/plain": [
       "0.7822600527979846"
      ]
     },
     "execution_count": 1298,
     "metadata": {},
     "output_type": "execute_result"
    }
   ],
   "source": [
    "df_train['Total_SF'] = df_train['GrLivArea'] + df_train['TotalBsmtSF'] -df_train['LowQualFinSF']\n",
    "df_train['Total_SF'].corr(df_train['SalePrice'])"
   ]
  },
  {
   "cell_type": "code",
   "execution_count": 1299,
   "metadata": {},
   "outputs": [
    {
     "data": {
      "image/png": "[encoded data removed]",
      "text/plain": [
       "<Figure size 432x288 with 1 Axes>"
      ]
     },
     "metadata": {},
     "output_type": "display_data"
    }
   ],
   "source": [
    "total_sf = sns.regplot(x = \"Total_SF\", y = \"SalePrice\", data = df_train)\n",
    "total_sf.set(title = \"SalePrice VS.  Total Square Footage\")\n",
    "plt.show()"
   ]
  },
  {
   "cell_type": "code",
   "execution_count": 1218,
   "metadata": {},
   "outputs": [
    {
     "data": {
      "text/plain": [
       "0.3909930203595834"
      ]
     },
     "execution_count": 1218,
     "metadata": {},
     "output_type": "execute_result"
    }
   ],
   "source": [
    "df_train['Total_porch_sf'].corr(df_train['SalePrice'])"
   ]
  },
  {
   "cell_type": "code",
   "execution_count": 1259,
   "metadata": {},
   "outputs": [
    {
     "data": {
      "image/png": "[encoded data removed]",
      "text/plain": [
       "<Figure size 432x288 with 1 Axes>"
      ]
     },
     "metadata": {},
     "output_type": "display_data"
    }
   ],
   "source": [
    "total_porch = sns.regplot(x = \"Total_porch_sf\", y = \"SalePrice\", data = df_train)\n",
    "total_porch.set(title = \"SalePrice VS. Total Porch Square Footage\")\n",
    "plt.show()"
   ]
  },
  {
   "cell_type": "markdown",
   "metadata": {},
   "source": [
    "We now deal with the neighborhoods, as there are just too many neighborhoods. We need to group the neighborhood somehow. By looking at the plot, we divide the neighboorhood into four groups."
   ]
  },
  {
   "cell_type": "code",
   "execution_count": 1040,
   "metadata": {},
   "outputs": [
    {
     "data": {
      "text/plain": [
       "<matplotlib.axes._subplots.AxesSubplot at 0x1a2b9f4e50>"
      ]
     },
     "execution_count": 1040,
     "metadata": {},
     "output_type": "execute_result"
    },
    {
     "data": {
      "image/png": "[encoded data removed]",
      "text/plain": [
       "<Figure size 432x288 with 1 Axes>"
      ]
     },
     "metadata": {},
     "output_type": "display_data"
    }
   ],
   "source": [
    "sns.barplot(y = 'Neighborhood', x = 'SalePrice', data = df_train)"
   ]
  },
  {
   "cell_type": "code",
   "execution_count": 1041,
   "metadata": {},
   "outputs": [],
   "source": [
    "group1 = ['StoneBr', 'NridgHt', 'NoRidge']\n",
    "group4 = ['MeadowV', 'IDOTRR', 'BrDale']\n",
    "group2 = ['SawyerW', 'NWAmes', 'Gilbert', 'Blmngtn','CollgCr','Crawfor','ClearCr','Somerst','Veenker','Timber']\n",
    "group3 = ['Mitchel', 'OldTown', 'BrkSide', 'Sawyer', 'NAmes', 'Edwards', 'NPkVill', 'SWISU', 'Blueste']"
   ]
  },
  {
   "cell_type": "code",
   "execution_count": 1042,
   "metadata": {},
   "outputs": [],
   "source": [
    "df_train['richNeigh'] = df_train['Neighborhood']\n",
    "df_test['richNeigh'] = df_test['Neighborhood']"
   ]
  },
  {
   "cell_type": "code",
   "execution_count": 1043,
   "metadata": {},
   "outputs": [],
   "source": [
    "df_train.richNeigh.loc[df_train.richNeigh.isin(group1)] = 4\n",
    "df_train.richNeigh.loc[df_train.richNeigh.isin(group2)] = 3\n",
    "df_train.richNeigh.loc[df_train.richNeigh.isin(group3)] = 2\n",
    "df_train.richNeigh.loc[df_train.richNeigh.isin(group4)] = 1\n",
    "df_test.richNeigh.loc[df_test.richNeigh.isin(group1)] = 4\n",
    "df_test.richNeigh.loc[df_test.richNeigh.isin(group2)] = 3\n",
    "df_test.richNeigh.loc[df_test.richNeigh.isin(group3)]= 2\n",
    "df_test.richNeigh.loc[df_test.richNeigh.isin(group4)] = 1"
   ]
  },
  {
   "cell_type": "code",
   "execution_count": 1044,
   "metadata": {},
   "outputs": [],
   "source": [
    "df_train.drop('Neighborhood', axis = 1, inplace = True)\n",
    "df_test.drop('Neighborhood', axis = 1, inplace = True)"
   ]
  },
  {
   "cell_type": "code",
   "execution_count": 1045,
   "metadata": {},
   "outputs": [
    {
     "name": "stdout",
     "output_type": "stream",
     "text": [
      "(1460, 186)\n",
      "(1459, 171)\n"
     ]
    }
   ],
   "source": [
    "print(df_train.shape)\n",
    "print(df_test.shape)"
   ]
  },
  {
   "cell_type": "markdown",
   "metadata": {},
   "source": [
    "## 5 Transformation of Variables"
   ]
  },
  {
   "cell_type": "markdown",
   "metadata": {},
   "source": [
    "### 5.1 Identify Outliers"
   ]
  },
  {
   "cell_type": "code",
   "execution_count": 1046,
   "metadata": {},
   "outputs": [
    {
     "data": {
      "text/plain": [
       "<matplotlib.axes._subplots.AxesSubplot at 0x1a2af37510>"
      ]
     },
     "execution_count": 1046,
     "metadata": {},
     "output_type": "execute_result"
    },
    {
     "data": {
      "image/png": "[encoded data removed]",
      "text/plain": [
       "<Figure size 432x288 with 1 Axes>"
      ]
     },
     "metadata": {},
     "output_type": "display_data"
    }
   ],
   "source": [
    "sns.scatterplot(x = 'Total_SF', y = 'SalePrice', data = df_train)\n",
    "# We can identify two outliers from the plot, two very large house that has a low saleprice"
   ]
  },
  {
   "cell_type": "code",
   "execution_count": 1047,
   "metadata": {},
   "outputs": [
    {
     "data": {
      "text/html": [
       "<div>\n",
       "<style scoped>\n",
       "    .dataframe tbody tr th:only-of-type {\n",
       "        vertical-align: middle;\n",
       "    }\n",
       "\n",
       "    .dataframe tbody tr th {\n",
       "        vertical-align: top;\n",
       "    }\n",
       "\n",
       "    .dataframe thead th {\n",
       "        text-align: right;\n",
       "    }\n",
       "</style>\n",
       "<table border=\"1\" class=\"dataframe\">\n",
       "  <thead>\n",
       "    <tr style=\"text-align: right;\">\n",
       "      <th></th>\n",
       "      <th>Id</th>\n",
       "      <th>LotFrontage</th>\n",
       "      <th>LotArea</th>\n",
       "      <th>Street</th>\n",
       "      <th>LotShape</th>\n",
       "      <th>LandSlope</th>\n",
       "      <th>OverallQual</th>\n",
       "      <th>OverallCond</th>\n",
       "      <th>YearBuilt</th>\n",
       "      <th>YearRemodAdd</th>\n",
       "      <th>MasVnrType</th>\n",
       "      <th>MasVnrArea</th>\n",
       "      <th>ExterQual</th>\n",
       "      <th>ExterCond</th>\n",
       "      <th>BsmtQual</th>\n",
       "      <th>BsmtCond</th>\n",
       "      <th>BsmtExposure</th>\n",
       "      <th>BsmtFinType1</th>\n",
       "      <th>BsmtFinSF1</th>\n",
       "      <th>BsmtFinType2</th>\n",
       "      <th>BsmtFinSF2</th>\n",
       "      <th>BsmtUnfSF</th>\n",
       "      <th>HeatingQC</th>\n",
       "      <th>CentralAir</th>\n",
       "      <th>1stFlrSF</th>\n",
       "      <th>2ndFlrSF</th>\n",
       "      <th>LowQualFinSF</th>\n",
       "      <th>BedroomAbvGr</th>\n",
       "      <th>KitchenAbvGr</th>\n",
       "      <th>KitchenQual</th>\n",
       "      <th>TotRmsAbvGrd</th>\n",
       "      <th>Functional</th>\n",
       "      <th>Fireplaces</th>\n",
       "      <th>FireplaceQu</th>\n",
       "      <th>GarageYrBlt</th>\n",
       "      <th>GarageFinish</th>\n",
       "      <th>GarageCars</th>\n",
       "      <th>GarageArea</th>\n",
       "      <th>GarageQual</th>\n",
       "      <th>GarageCond</th>\n",
       "      <th>...</th>\n",
       "      <th>HStyle__SFoyer</th>\n",
       "      <th>HStyle__SLvl</th>\n",
       "      <th>Co1__Feedr</th>\n",
       "      <th>Co1__Norm</th>\n",
       "      <th>Co1__PosA</th>\n",
       "      <th>Co1__PosN</th>\n",
       "      <th>Co1__RRAe</th>\n",
       "      <th>Co1__RRAn</th>\n",
       "      <th>Co1__RRNe</th>\n",
       "      <th>Co1__RRNn</th>\n",
       "      <th>Co2__Feedr</th>\n",
       "      <th>Co2__Norm</th>\n",
       "      <th>Co2__PosA</th>\n",
       "      <th>Co2__PosN</th>\n",
       "      <th>Co2__RRAe</th>\n",
       "      <th>Co2__RRAn</th>\n",
       "      <th>Co2__RRNn</th>\n",
       "      <th>Foun__CBlock</th>\n",
       "      <th>Foun__PConc</th>\n",
       "      <th>Foun__Slab</th>\n",
       "      <th>Foun__Stone</th>\n",
       "      <th>Foun__Wood</th>\n",
       "      <th>MSub__30</th>\n",
       "      <th>MSub__40</th>\n",
       "      <th>MSub__45</th>\n",
       "      <th>MSub__50</th>\n",
       "      <th>MSub__60</th>\n",
       "      <th>MSub__70</th>\n",
       "      <th>MSub__75</th>\n",
       "      <th>MSub__80</th>\n",
       "      <th>MSub__85</th>\n",
       "      <th>MSub__90</th>\n",
       "      <th>MSub__120</th>\n",
       "      <th>MSub__160</th>\n",
       "      <th>MSub__180</th>\n",
       "      <th>MSub__190</th>\n",
       "      <th>Total_Bathrooms</th>\n",
       "      <th>Total_porch_sf</th>\n",
       "      <th>Total_SF</th>\n",
       "      <th>richNeigh</th>\n",
       "    </tr>\n",
       "  </thead>\n",
       "  <tbody>\n",
       "    <tr>\n",
       "      <td>523</td>\n",
       "      <td>524</td>\n",
       "      <td>130.0</td>\n",
       "      <td>40094</td>\n",
       "      <td>1</td>\n",
       "      <td>2</td>\n",
       "      <td>2</td>\n",
       "      <td>10</td>\n",
       "      <td>5</td>\n",
       "      <td>2007</td>\n",
       "      <td>2008</td>\n",
       "      <td>2</td>\n",
       "      <td>762.0</td>\n",
       "      <td>100</td>\n",
       "      <td>80</td>\n",
       "      <td>100</td>\n",
       "      <td>80</td>\n",
       "      <td>5</td>\n",
       "      <td>6</td>\n",
       "      <td>2260</td>\n",
       "      <td>1</td>\n",
       "      <td>0</td>\n",
       "      <td>878</td>\n",
       "      <td>100</td>\n",
       "      <td>1</td>\n",
       "      <td>3138</td>\n",
       "      <td>1538</td>\n",
       "      <td>0</td>\n",
       "      <td>3</td>\n",
       "      <td>1</td>\n",
       "      <td>100</td>\n",
       "      <td>11</td>\n",
       "      <td>10</td>\n",
       "      <td>1</td>\n",
       "      <td>80</td>\n",
       "      <td>2007.0</td>\n",
       "      <td>3</td>\n",
       "      <td>3</td>\n",
       "      <td>884</td>\n",
       "      <td>70</td>\n",
       "      <td>70</td>\n",
       "      <td>...</td>\n",
       "      <td>0</td>\n",
       "      <td>0</td>\n",
       "      <td>0</td>\n",
       "      <td>0</td>\n",
       "      <td>0</td>\n",
       "      <td>1</td>\n",
       "      <td>0</td>\n",
       "      <td>0</td>\n",
       "      <td>0</td>\n",
       "      <td>0</td>\n",
       "      <td>0</td>\n",
       "      <td>0</td>\n",
       "      <td>0</td>\n",
       "      <td>1</td>\n",
       "      <td>0</td>\n",
       "      <td>0</td>\n",
       "      <td>0</td>\n",
       "      <td>0</td>\n",
       "      <td>1</td>\n",
       "      <td>0</td>\n",
       "      <td>0</td>\n",
       "      <td>0</td>\n",
       "      <td>0</td>\n",
       "      <td>0</td>\n",
       "      <td>0</td>\n",
       "      <td>0</td>\n",
       "      <td>1</td>\n",
       "      <td>0</td>\n",
       "      <td>0</td>\n",
       "      <td>0</td>\n",
       "      <td>0</td>\n",
       "      <td>0</td>\n",
       "      <td>0</td>\n",
       "      <td>0</td>\n",
       "      <td>0</td>\n",
       "      <td>0</td>\n",
       "      <td>4.5</td>\n",
       "      <td>614</td>\n",
       "      <td>7814</td>\n",
       "      <td>2</td>\n",
       "    </tr>\n",
       "    <tr>\n",
       "      <td>1298</td>\n",
       "      <td>1299</td>\n",
       "      <td>313.0</td>\n",
       "      <td>63887</td>\n",
       "      <td>1</td>\n",
       "      <td>0</td>\n",
       "      <td>2</td>\n",
       "      <td>10</td>\n",
       "      <td>5</td>\n",
       "      <td>2008</td>\n",
       "      <td>2008</td>\n",
       "      <td>2</td>\n",
       "      <td>796.0</td>\n",
       "      <td>100</td>\n",
       "      <td>80</td>\n",
       "      <td>100</td>\n",
       "      <td>80</td>\n",
       "      <td>5</td>\n",
       "      <td>6</td>\n",
       "      <td>5644</td>\n",
       "      <td>1</td>\n",
       "      <td>0</td>\n",
       "      <td>466</td>\n",
       "      <td>100</td>\n",
       "      <td>1</td>\n",
       "      <td>4692</td>\n",
       "      <td>950</td>\n",
       "      <td>0</td>\n",
       "      <td>3</td>\n",
       "      <td>1</td>\n",
       "      <td>100</td>\n",
       "      <td>12</td>\n",
       "      <td>10</td>\n",
       "      <td>3</td>\n",
       "      <td>80</td>\n",
       "      <td>2008.0</td>\n",
       "      <td>3</td>\n",
       "      <td>2</td>\n",
       "      <td>1418</td>\n",
       "      <td>70</td>\n",
       "      <td>70</td>\n",
       "      <td>...</td>\n",
       "      <td>0</td>\n",
       "      <td>0</td>\n",
       "      <td>1</td>\n",
       "      <td>0</td>\n",
       "      <td>0</td>\n",
       "      <td>0</td>\n",
       "      <td>0</td>\n",
       "      <td>0</td>\n",
       "      <td>0</td>\n",
       "      <td>0</td>\n",
       "      <td>0</td>\n",
       "      <td>1</td>\n",
       "      <td>0</td>\n",
       "      <td>0</td>\n",
       "      <td>0</td>\n",
       "      <td>0</td>\n",
       "      <td>0</td>\n",
       "      <td>0</td>\n",
       "      <td>1</td>\n",
       "      <td>0</td>\n",
       "      <td>0</td>\n",
       "      <td>0</td>\n",
       "      <td>0</td>\n",
       "      <td>0</td>\n",
       "      <td>0</td>\n",
       "      <td>0</td>\n",
       "      <td>1</td>\n",
       "      <td>0</td>\n",
       "      <td>0</td>\n",
       "      <td>0</td>\n",
       "      <td>0</td>\n",
       "      <td>0</td>\n",
       "      <td>0</td>\n",
       "      <td>0</td>\n",
       "      <td>0</td>\n",
       "      <td>0</td>\n",
       "      <td>4.5</td>\n",
       "      <td>506</td>\n",
       "      <td>11752</td>\n",
       "      <td>2</td>\n",
       "    </tr>\n",
       "  </tbody>\n",
       "</table>\n",
       "<p>2 rows × 186 columns</p>\n",
       "</div>"
      ],
      "text/plain": [
       "        Id  LotFrontage  LotArea  Street  LotShape  LandSlope  OverallQual  \\\n",
       "523    524        130.0    40094       1         2          2           10   \n",
       "1298  1299        313.0    63887       1         0          2           10   \n",
       "\n",
       "      OverallCond  YearBuilt  YearRemodAdd  MasVnrType  MasVnrArea  ExterQual  \\\n",
       "523             5       2007          2008           2       762.0        100   \n",
       "1298            5       2008          2008           2       796.0        100   \n",
       "\n",
       "      ExterCond  BsmtQual  BsmtCond  BsmtExposure  BsmtFinType1  BsmtFinSF1  \\\n",
       "523          80       100        80             5             6        2260   \n",
       "1298         80       100        80             5             6        5644   \n",
       "\n",
       "      BsmtFinType2  BsmtFinSF2  BsmtUnfSF  HeatingQC  CentralAir  1stFlrSF  \\\n",
       "523              1           0        878        100           1      3138   \n",
       "1298             1           0        466        100           1      4692   \n",
       "\n",
       "      2ndFlrSF  LowQualFinSF  BedroomAbvGr  KitchenAbvGr  KitchenQual  \\\n",
       "523       1538             0             3             1          100   \n",
       "1298       950             0             3             1          100   \n",
       "\n",
       "      TotRmsAbvGrd  Functional  Fireplaces  FireplaceQu  GarageYrBlt  \\\n",
       "523             11          10           1           80       2007.0   \n",
       "1298            12          10           3           80       2008.0   \n",
       "\n",
       "      GarageFinish  GarageCars  GarageArea  GarageQual  GarageCond  ...  \\\n",
       "523              3           3         884          70          70  ...   \n",
       "1298             3           2        1418          70          70  ...   \n",
       "\n",
       "      HStyle__SFoyer  HStyle__SLvl  Co1__Feedr  Co1__Norm  Co1__PosA  \\\n",
       "523                0             0           0          0          0   \n",
       "1298               0             0           1          0          0   \n",
       "\n",
       "      Co1__PosN  Co1__RRAe  Co1__RRAn  Co1__RRNe  Co1__RRNn  Co2__Feedr  \\\n",
       "523           1          0          0          0          0           0   \n",
       "1298          0          0          0          0          0           0   \n",
       "\n",
       "      Co2__Norm  Co2__PosA  Co2__PosN  Co2__RRAe  Co2__RRAn  Co2__RRNn  \\\n",
       "523           0          0          1          0          0          0   \n",
       "1298          1          0          0          0          0          0   \n",
       "\n",
       "      Foun__CBlock  Foun__PConc  Foun__Slab  Foun__Stone  Foun__Wood  \\\n",
       "523              0            1           0            0           0   \n",
       "1298             0            1           0            0           0   \n",
       "\n",
       "      MSub__30  MSub__40  MSub__45  MSub__50  MSub__60  MSub__70  MSub__75  \\\n",
       "523          0         0         0         0         1         0         0   \n",
       "1298         0         0         0         0         1         0         0   \n",
       "\n",
       "      MSub__80  MSub__85  MSub__90  MSub__120  MSub__160  MSub__180  \\\n",
       "523          0         0         0          0          0          0   \n",
       "1298         0         0         0          0          0          0   \n",
       "\n",
       "      MSub__190  Total_Bathrooms  Total_porch_sf  Total_SF  richNeigh  \n",
       "523           0              4.5             614      7814          2  \n",
       "1298          0              4.5             506     11752          2  \n",
       "\n",
       "[2 rows x 186 columns]"
      ]
     },
     "execution_count": 1047,
     "metadata": {},
     "output_type": "execute_result"
    }
   ],
   "source": [
    "df_train[df_train.Total_SF > 7800] # 523, 1298 are two outliers"
   ]
  },
  {
   "cell_type": "code",
   "execution_count": 1048,
   "metadata": {},
   "outputs": [],
   "source": [
    "df_train = df_train[df_train.Total_SF < 7500]"
   ]
  },
  {
   "cell_type": "code",
   "execution_count": 1049,
   "metadata": {},
   "outputs": [],
   "source": [
    "num_list1 = list(df_train.columns[df_train.dtypes != 'object'])"
   ]
  },
  {
   "cell_type": "code",
   "execution_count": 1050,
   "metadata": {},
   "outputs": [],
   "source": [
    "# high_cor = index_retrieve(df_train[num_list1], 0.8, 'spearman')"
   ]
  },
  {
   "cell_type": "code",
   "execution_count": 1051,
   "metadata": {},
   "outputs": [],
   "source": [
    "# spearman\n",
    "# print(df_train.corr(method='spearman').SalePrice.sort_values(ascending=False).head(20))\n",
    "# print('-'*55)"
   ]
  },
  {
   "cell_type": "code",
   "execution_count": 1052,
   "metadata": {},
   "outputs": [],
   "source": [
    "# drop highly correlated variables\n",
    "df_train.drop(['GarageYrBlt', 'GarageArea', 'GarageCond'],axis = 1 , inplace = True)\n",
    "df_test.drop(['GarageYrBlt', 'GarageArea', 'GarageCond'],axis = 1 , inplace = True)"
   ]
  },
  {
   "cell_type": "code",
   "execution_count": 1053,
   "metadata": {},
   "outputs": [],
   "source": [
    "num_list2 = num_list1[1:47] + num_list1[-4:]"
   ]
  },
  {
   "cell_type": "code",
   "execution_count": 1054,
   "metadata": {},
   "outputs": [],
   "source": [
    "list_ = ['OverallQual', 'OverallCond', 'YearBuilt', 'YearRemodAdd', 'MoSold',\n",
    "                 'YrSold', 'SalePrice','GarageArea','GarageYrBlt','GarageCond']\n",
    "for _ in list_:\n",
    "    num_list2.remove(_)"
   ]
  },
  {
   "cell_type": "code",
   "execution_count": 1055,
   "metadata": {},
   "outputs": [],
   "source": [
    "# skewed_list = list(np.array(num_list2)[(abs(df_train[num_list2].skew()) > 1)])\n",
    "# for skew in skewed_list:\n",
    "#     df_train[skew] = np.log1p(df_train[skew])\n",
    "# skewed_list1 = list(np.array(num_list2)[(abs(df_test[num_list2].skew()) > 1)])\n",
    "# for skew in skewed_list1:\n",
    "#     df_test[skew] = np.log1p(df_test[skew])"
   ]
  },
  {
   "cell_type": "code",
   "execution_count": 1056,
   "metadata": {},
   "outputs": [],
   "source": [
    "# We now remove the sparse columns."
   ]
  },
  {
   "cell_type": "code",
   "execution_count": 1068,
   "metadata": {},
   "outputs": [],
   "source": [
    "train_cols = list(df_train.columns)\n",
    "test_cols = list(df_test.columns)\n",
    "train_absent = []\n",
    "test_absent = []"
   ]
  },
  {
   "cell_type": "code",
   "execution_count": 1069,
   "metadata": {},
   "outputs": [],
   "source": [
    "for col in train_cols:\n",
    "    if col not in test_cols:\n",
    "        test_absent.append(col)\n",
    "\n",
    "for col in test_cols:\n",
    "    if col not in train_cols:\n",
    "        train_absent.append(col)"
   ]
  },
  {
   "cell_type": "code",
   "execution_count": 1070,
   "metadata": {},
   "outputs": [
    {
     "name": "stdout",
     "output_type": "stream",
     "text": [
      "['LC__FR3', 'E2__Brk Cmn', 'ST__CWD', 'SC__AdjLand']\n",
      "['E2__ImStucc', 'GaType__CarPort', 'Fence__MnWw', 'HStyle__1.5Unf', 'MSub__45', 'MSub__75', 'MSub__180']\n"
     ]
    }
   ],
   "source": [
    "test_absent.remove('SalePrice')\n",
    "print(train_absent)\n",
    "print(test_absent)"
   ]
  },
  {
   "cell_type": "code",
   "execution_count": 1071,
   "metadata": {},
   "outputs": [],
   "source": [
    "df_train.drop(test_absent, axis = 1, inplace = True)\n",
    "df_test.drop(train_absent, axis = 1, inplace = True)"
   ]
  },
  {
   "cell_type": "code",
   "execution_count": 1072,
   "metadata": {},
   "outputs": [],
   "source": [
    "df_train = df_train.loc[:, (df_train==0).mean() < .995]\n",
    "df_test = df_test.loc[:, (df_test==0).mean() < .995]"
   ]
  },
  {
   "cell_type": "code",
   "execution_count": 1073,
   "metadata": {},
   "outputs": [
    {
     "name": "stdout",
     "output_type": "stream",
     "text": [
      "(1458, 128)\n",
      "(1459, 127)\n"
     ]
    }
   ],
   "source": [
    "print(df_train.shape)\n",
    "print(df_test.shape)"
   ]
  },
  {
   "cell_type": "code",
   "execution_count": 1074,
   "metadata": {},
   "outputs": [
    {
     "ename": "KeyError",
     "evalue": "\"['Id'] not found in axis\"",
     "output_type": "error",
     "traceback": [
      "\u001b[0;31m---------------------------------------------------------------------------\u001b[0m",
      "\u001b[0;31mKeyError\u001b[0m                                  Traceback (most recent call last)",
      "\u001b[0;32m<ipython-input-1074-6d2d4e1c2916>\u001b[0m in \u001b[0;36m<module>\u001b[0;34m\u001b[0m\n\u001b[0;32m----> 1\u001b[0;31m \u001b[0mdf_train\u001b[0m\u001b[0;34m.\u001b[0m\u001b[0mdrop\u001b[0m\u001b[0;34m(\u001b[0m\u001b[0;34m'Id'\u001b[0m\u001b[0;34m,\u001b[0m \u001b[0maxis\u001b[0m \u001b[0;34m=\u001b[0m \u001b[0;36m1\u001b[0m\u001b[0;34m,\u001b[0m \u001b[0minplace\u001b[0m \u001b[0;34m=\u001b[0m \u001b[0;32mTrue\u001b[0m\u001b[0;34m)\u001b[0m\u001b[0;34m\u001b[0m\u001b[0;34m\u001b[0m\u001b[0m\n\u001b[0m",
      "\u001b[0;32m~/opt/anaconda3/lib/python3.7/site-packages/pandas/core/frame.py\u001b[0m in \u001b[0;36mdrop\u001b[0;34m(self, labels, axis, index, columns, level, inplace, errors)\u001b[0m\n\u001b[1;32m   4100\u001b[0m             \u001b[0mlevel\u001b[0m\u001b[0;34m=\u001b[0m\u001b[0mlevel\u001b[0m\u001b[0;34m,\u001b[0m\u001b[0;34m\u001b[0m\u001b[0;34m\u001b[0m\u001b[0m\n\u001b[1;32m   4101\u001b[0m             \u001b[0minplace\u001b[0m\u001b[0;34m=\u001b[0m\u001b[0minplace\u001b[0m\u001b[0;34m,\u001b[0m\u001b[0;34m\u001b[0m\u001b[0;34m\u001b[0m\u001b[0m\n\u001b[0;32m-> 4102\u001b[0;31m             \u001b[0merrors\u001b[0m\u001b[0;34m=\u001b[0m\u001b[0merrors\u001b[0m\u001b[0;34m,\u001b[0m\u001b[0;34m\u001b[0m\u001b[0;34m\u001b[0m\u001b[0m\n\u001b[0m\u001b[1;32m   4103\u001b[0m         )\n\u001b[1;32m   4104\u001b[0m \u001b[0;34m\u001b[0m\u001b[0m\n",
      "\u001b[0;32m~/opt/anaconda3/lib/python3.7/site-packages/pandas/core/generic.py\u001b[0m in \u001b[0;36mdrop\u001b[0;34m(self, labels, axis, index, columns, level, inplace, errors)\u001b[0m\n\u001b[1;32m   3912\u001b[0m         \u001b[0;32mfor\u001b[0m \u001b[0maxis\u001b[0m\u001b[0;34m,\u001b[0m \u001b[0mlabels\u001b[0m \u001b[0;32min\u001b[0m \u001b[0maxes\u001b[0m\u001b[0;34m.\u001b[0m\u001b[0mitems\u001b[0m\u001b[0;34m(\u001b[0m\u001b[0;34m)\u001b[0m\u001b[0;34m:\u001b[0m\u001b[0;34m\u001b[0m\u001b[0;34m\u001b[0m\u001b[0m\n\u001b[1;32m   3913\u001b[0m             \u001b[0;32mif\u001b[0m \u001b[0mlabels\u001b[0m \u001b[0;32mis\u001b[0m \u001b[0;32mnot\u001b[0m \u001b[0;32mNone\u001b[0m\u001b[0;34m:\u001b[0m\u001b[0;34m\u001b[0m\u001b[0;34m\u001b[0m\u001b[0m\n\u001b[0;32m-> 3914\u001b[0;31m                 \u001b[0mobj\u001b[0m \u001b[0;34m=\u001b[0m \u001b[0mobj\u001b[0m\u001b[0;34m.\u001b[0m\u001b[0m_drop_axis\u001b[0m\u001b[0;34m(\u001b[0m\u001b[0mlabels\u001b[0m\u001b[0;34m,\u001b[0m \u001b[0maxis\u001b[0m\u001b[0;34m,\u001b[0m \u001b[0mlevel\u001b[0m\u001b[0;34m=\u001b[0m\u001b[0mlevel\u001b[0m\u001b[0;34m,\u001b[0m \u001b[0merrors\u001b[0m\u001b[0;34m=\u001b[0m\u001b[0merrors\u001b[0m\u001b[0;34m)\u001b[0m\u001b[0;34m\u001b[0m\u001b[0;34m\u001b[0m\u001b[0m\n\u001b[0m\u001b[1;32m   3915\u001b[0m \u001b[0;34m\u001b[0m\u001b[0m\n\u001b[1;32m   3916\u001b[0m         \u001b[0;32mif\u001b[0m \u001b[0minplace\u001b[0m\u001b[0;34m:\u001b[0m\u001b[0;34m\u001b[0m\u001b[0;34m\u001b[0m\u001b[0m\n",
      "\u001b[0;32m~/opt/anaconda3/lib/python3.7/site-packages/pandas/core/generic.py\u001b[0m in \u001b[0;36m_drop_axis\u001b[0;34m(self, labels, axis, level, errors)\u001b[0m\n\u001b[1;32m   3944\u001b[0m                 \u001b[0mnew_axis\u001b[0m \u001b[0;34m=\u001b[0m \u001b[0maxis\u001b[0m\u001b[0;34m.\u001b[0m\u001b[0mdrop\u001b[0m\u001b[0;34m(\u001b[0m\u001b[0mlabels\u001b[0m\u001b[0;34m,\u001b[0m \u001b[0mlevel\u001b[0m\u001b[0;34m=\u001b[0m\u001b[0mlevel\u001b[0m\u001b[0;34m,\u001b[0m \u001b[0merrors\u001b[0m\u001b[0;34m=\u001b[0m\u001b[0merrors\u001b[0m\u001b[0;34m)\u001b[0m\u001b[0;34m\u001b[0m\u001b[0;34m\u001b[0m\u001b[0m\n\u001b[1;32m   3945\u001b[0m             \u001b[0;32melse\u001b[0m\u001b[0;34m:\u001b[0m\u001b[0;34m\u001b[0m\u001b[0;34m\u001b[0m\u001b[0m\n\u001b[0;32m-> 3946\u001b[0;31m                 \u001b[0mnew_axis\u001b[0m \u001b[0;34m=\u001b[0m \u001b[0maxis\u001b[0m\u001b[0;34m.\u001b[0m\u001b[0mdrop\u001b[0m\u001b[0;34m(\u001b[0m\u001b[0mlabels\u001b[0m\u001b[0;34m,\u001b[0m \u001b[0merrors\u001b[0m\u001b[0;34m=\u001b[0m\u001b[0merrors\u001b[0m\u001b[0;34m)\u001b[0m\u001b[0;34m\u001b[0m\u001b[0;34m\u001b[0m\u001b[0m\n\u001b[0m\u001b[1;32m   3947\u001b[0m             \u001b[0mresult\u001b[0m \u001b[0;34m=\u001b[0m \u001b[0mself\u001b[0m\u001b[0;34m.\u001b[0m\u001b[0mreindex\u001b[0m\u001b[0;34m(\u001b[0m\u001b[0;34m**\u001b[0m\u001b[0;34m{\u001b[0m\u001b[0maxis_name\u001b[0m\u001b[0;34m:\u001b[0m \u001b[0mnew_axis\u001b[0m\u001b[0;34m}\u001b[0m\u001b[0;34m)\u001b[0m\u001b[0;34m\u001b[0m\u001b[0;34m\u001b[0m\u001b[0m\n\u001b[1;32m   3948\u001b[0m \u001b[0;34m\u001b[0m\u001b[0m\n",
      "\u001b[0;32m~/opt/anaconda3/lib/python3.7/site-packages/pandas/core/indexes/base.py\u001b[0m in \u001b[0;36mdrop\u001b[0;34m(self, labels, errors)\u001b[0m\n\u001b[1;32m   5338\u001b[0m         \u001b[0;32mif\u001b[0m \u001b[0mmask\u001b[0m\u001b[0;34m.\u001b[0m\u001b[0many\u001b[0m\u001b[0;34m(\u001b[0m\u001b[0;34m)\u001b[0m\u001b[0;34m:\u001b[0m\u001b[0;34m\u001b[0m\u001b[0;34m\u001b[0m\u001b[0m\n\u001b[1;32m   5339\u001b[0m             \u001b[0;32mif\u001b[0m \u001b[0merrors\u001b[0m \u001b[0;34m!=\u001b[0m \u001b[0;34m\"ignore\"\u001b[0m\u001b[0;34m:\u001b[0m\u001b[0;34m\u001b[0m\u001b[0;34m\u001b[0m\u001b[0m\n\u001b[0;32m-> 5340\u001b[0;31m                 \u001b[0;32mraise\u001b[0m \u001b[0mKeyError\u001b[0m\u001b[0;34m(\u001b[0m\u001b[0;34m\"{} not found in axis\"\u001b[0m\u001b[0;34m.\u001b[0m\u001b[0mformat\u001b[0m\u001b[0;34m(\u001b[0m\u001b[0mlabels\u001b[0m\u001b[0;34m[\u001b[0m\u001b[0mmask\u001b[0m\u001b[0;34m]\u001b[0m\u001b[0;34m)\u001b[0m\u001b[0;34m)\u001b[0m\u001b[0;34m\u001b[0m\u001b[0;34m\u001b[0m\u001b[0m\n\u001b[0m\u001b[1;32m   5341\u001b[0m             \u001b[0mindexer\u001b[0m \u001b[0;34m=\u001b[0m \u001b[0mindexer\u001b[0m\u001b[0;34m[\u001b[0m\u001b[0;34m~\u001b[0m\u001b[0mmask\u001b[0m\u001b[0;34m]\u001b[0m\u001b[0;34m\u001b[0m\u001b[0;34m\u001b[0m\u001b[0m\n\u001b[1;32m   5342\u001b[0m         \u001b[0;32mreturn\u001b[0m \u001b[0mself\u001b[0m\u001b[0;34m.\u001b[0m\u001b[0mdelete\u001b[0m\u001b[0;34m(\u001b[0m\u001b[0mindexer\u001b[0m\u001b[0;34m)\u001b[0m\u001b[0;34m\u001b[0m\u001b[0;34m\u001b[0m\u001b[0m\n",
      "\u001b[0;31mKeyError\u001b[0m: \"['Id'] not found in axis\""
     ]
    }
   ],
   "source": [
    "df_train.drop('Id', axis = 1, inplace = True)"
   ]
  },
  {
   "cell_type": "code",
   "execution_count": 1064,
   "metadata": {},
   "outputs": [],
   "source": [
    "df_test.drop('Id', axis = 1, inplace = True)"
   ]
  },
  {
   "cell_type": "code",
   "execution_count": 1075,
   "metadata": {},
   "outputs": [],
   "source": [
    "df_train.to_csv('train_cleaned.csv')"
   ]
  },
  {
   "cell_type": "code",
   "execution_count": 1076,
   "metadata": {},
   "outputs": [],
   "source": [
    "df_test.to_csv('test_cleaned.csv')"
   ]
  },
  {
   "cell_type": "code",
   "execution_count": null,
   "metadata": {},
   "outputs": [],
   "source": []
  },
  {
   "cell_type": "code",
   "execution_count": 1067,
   "metadata": {},
   "outputs": [
    {
     "data": {
      "text/html": [
       "<div>\n",
       "<style scoped>\n",
       "    .dataframe tbody tr th:only-of-type {\n",
       "        vertical-align: middle;\n",
       "    }\n",
       "\n",
       "    .dataframe tbody tr th {\n",
       "        vertical-align: top;\n",
       "    }\n",
       "\n",
       "    .dataframe thead th {\n",
       "        text-align: right;\n",
       "    }\n",
       "</style>\n",
       "<table border=\"1\" class=\"dataframe\">\n",
       "  <thead>\n",
       "    <tr style=\"text-align: right;\">\n",
       "      <th></th>\n",
       "      <th>LotFrontage</th>\n",
       "      <th>LotArea</th>\n",
       "      <th>Street</th>\n",
       "      <th>LotShape</th>\n",
       "      <th>LandSlope</th>\n",
       "      <th>OverallQual</th>\n",
       "      <th>OverallCond</th>\n",
       "      <th>YearBuilt</th>\n",
       "      <th>YearRemodAdd</th>\n",
       "      <th>MasVnrType</th>\n",
       "      <th>MasVnrArea</th>\n",
       "      <th>ExterQual</th>\n",
       "      <th>ExterCond</th>\n",
       "      <th>BsmtQual</th>\n",
       "      <th>BsmtCond</th>\n",
       "      <th>BsmtExposure</th>\n",
       "      <th>BsmtFinType1</th>\n",
       "      <th>BsmtFinSF1</th>\n",
       "      <th>BsmtFinType2</th>\n",
       "      <th>BsmtFinSF2</th>\n",
       "      <th>BsmtUnfSF</th>\n",
       "      <th>HeatingQC</th>\n",
       "      <th>CentralAir</th>\n",
       "      <th>1stFlrSF</th>\n",
       "      <th>2ndFlrSF</th>\n",
       "      <th>LowQualFinSF</th>\n",
       "      <th>BedroomAbvGr</th>\n",
       "      <th>KitchenAbvGr</th>\n",
       "      <th>KitchenQual</th>\n",
       "      <th>TotRmsAbvGrd</th>\n",
       "      <th>Functional</th>\n",
       "      <th>Fireplaces</th>\n",
       "      <th>FireplaceQu</th>\n",
       "      <th>GarageFinish</th>\n",
       "      <th>GarageCars</th>\n",
       "      <th>GarageQual</th>\n",
       "      <th>PavedDrive</th>\n",
       "      <th>MiscVal</th>\n",
       "      <th>MoSold</th>\n",
       "      <th>YrSold</th>\n",
       "      <th>...</th>\n",
       "      <th>LContour__HLS</th>\n",
       "      <th>LContour__Low</th>\n",
       "      <th>LContour__Lvl</th>\n",
       "      <th>BType__2fmCon</th>\n",
       "      <th>BType__Duplex</th>\n",
       "      <th>BType__Twnhs</th>\n",
       "      <th>BType__TwnhsE</th>\n",
       "      <th>HStyle__1.5Unf</th>\n",
       "      <th>HStyle__1Story</th>\n",
       "      <th>HStyle__2.5Unf</th>\n",
       "      <th>HStyle__2Story</th>\n",
       "      <th>HStyle__SFoyer</th>\n",
       "      <th>HStyle__SLvl</th>\n",
       "      <th>Co1__Feedr</th>\n",
       "      <th>Co1__Norm</th>\n",
       "      <th>Co1__PosA</th>\n",
       "      <th>Co1__PosN</th>\n",
       "      <th>Co1__RRAe</th>\n",
       "      <th>Co1__RRAn</th>\n",
       "      <th>Co2__Norm</th>\n",
       "      <th>Foun__CBlock</th>\n",
       "      <th>Foun__PConc</th>\n",
       "      <th>Foun__Slab</th>\n",
       "      <th>MSub__30</th>\n",
       "      <th>MSub__45</th>\n",
       "      <th>MSub__50</th>\n",
       "      <th>MSub__60</th>\n",
       "      <th>MSub__70</th>\n",
       "      <th>MSub__75</th>\n",
       "      <th>MSub__80</th>\n",
       "      <th>MSub__85</th>\n",
       "      <th>MSub__90</th>\n",
       "      <th>MSub__120</th>\n",
       "      <th>MSub__160</th>\n",
       "      <th>MSub__180</th>\n",
       "      <th>MSub__190</th>\n",
       "      <th>Total_Bathrooms</th>\n",
       "      <th>Total_porch_sf</th>\n",
       "      <th>Total_SF</th>\n",
       "      <th>richNeigh</th>\n",
       "    </tr>\n",
       "  </thead>\n",
       "  <tbody>\n",
       "    <tr>\n",
       "      <td>0</td>\n",
       "      <td>65.0</td>\n",
       "      <td>8450</td>\n",
       "      <td>1</td>\n",
       "      <td>3</td>\n",
       "      <td>2</td>\n",
       "      <td>7</td>\n",
       "      <td>5</td>\n",
       "      <td>2003</td>\n",
       "      <td>2003</td>\n",
       "      <td>1</td>\n",
       "      <td>196.0</td>\n",
       "      <td>90</td>\n",
       "      <td>80</td>\n",
       "      <td>90</td>\n",
       "      <td>80</td>\n",
       "      <td>1</td>\n",
       "      <td>6</td>\n",
       "      <td>706</td>\n",
       "      <td>1</td>\n",
       "      <td>0</td>\n",
       "      <td>150</td>\n",
       "      <td>100</td>\n",
       "      <td>1</td>\n",
       "      <td>856</td>\n",
       "      <td>854</td>\n",
       "      <td>0</td>\n",
       "      <td>3</td>\n",
       "      <td>1</td>\n",
       "      <td>90</td>\n",
       "      <td>8</td>\n",
       "      <td>10</td>\n",
       "      <td>0</td>\n",
       "      <td>0</td>\n",
       "      <td>2</td>\n",
       "      <td>2</td>\n",
       "      <td>70</td>\n",
       "      <td>2</td>\n",
       "      <td>0</td>\n",
       "      <td>2</td>\n",
       "      <td>2008</td>\n",
       "      <td>...</td>\n",
       "      <td>0</td>\n",
       "      <td>0</td>\n",
       "      <td>1</td>\n",
       "      <td>0</td>\n",
       "      <td>0</td>\n",
       "      <td>0</td>\n",
       "      <td>0</td>\n",
       "      <td>0</td>\n",
       "      <td>0</td>\n",
       "      <td>0</td>\n",
       "      <td>1</td>\n",
       "      <td>0</td>\n",
       "      <td>0</td>\n",
       "      <td>0</td>\n",
       "      <td>1</td>\n",
       "      <td>0</td>\n",
       "      <td>0</td>\n",
       "      <td>0</td>\n",
       "      <td>0</td>\n",
       "      <td>1</td>\n",
       "      <td>0</td>\n",
       "      <td>1</td>\n",
       "      <td>0</td>\n",
       "      <td>0</td>\n",
       "      <td>0</td>\n",
       "      <td>0</td>\n",
       "      <td>1</td>\n",
       "      <td>0</td>\n",
       "      <td>0</td>\n",
       "      <td>0</td>\n",
       "      <td>0</td>\n",
       "      <td>0</td>\n",
       "      <td>0</td>\n",
       "      <td>0</td>\n",
       "      <td>0</td>\n",
       "      <td>0</td>\n",
       "      <td>3.5</td>\n",
       "      <td>61</td>\n",
       "      <td>2566</td>\n",
       "      <td>3</td>\n",
       "    </tr>\n",
       "    <tr>\n",
       "      <td>1</td>\n",
       "      <td>80.0</td>\n",
       "      <td>9600</td>\n",
       "      <td>1</td>\n",
       "      <td>3</td>\n",
       "      <td>2</td>\n",
       "      <td>6</td>\n",
       "      <td>8</td>\n",
       "      <td>1976</td>\n",
       "      <td>1976</td>\n",
       "      <td>0</td>\n",
       "      <td>0.0</td>\n",
       "      <td>80</td>\n",
       "      <td>80</td>\n",
       "      <td>90</td>\n",
       "      <td>80</td>\n",
       "      <td>5</td>\n",
       "      <td>5</td>\n",
       "      <td>978</td>\n",
       "      <td>1</td>\n",
       "      <td>0</td>\n",
       "      <td>284</td>\n",
       "      <td>100</td>\n",
       "      <td>1</td>\n",
       "      <td>1262</td>\n",
       "      <td>0</td>\n",
       "      <td>0</td>\n",
       "      <td>3</td>\n",
       "      <td>1</td>\n",
       "      <td>80</td>\n",
       "      <td>6</td>\n",
       "      <td>10</td>\n",
       "      <td>1</td>\n",
       "      <td>70</td>\n",
       "      <td>2</td>\n",
       "      <td>2</td>\n",
       "      <td>70</td>\n",
       "      <td>2</td>\n",
       "      <td>0</td>\n",
       "      <td>5</td>\n",
       "      <td>2007</td>\n",
       "      <td>...</td>\n",
       "      <td>0</td>\n",
       "      <td>0</td>\n",
       "      <td>1</td>\n",
       "      <td>0</td>\n",
       "      <td>0</td>\n",
       "      <td>0</td>\n",
       "      <td>0</td>\n",
       "      <td>0</td>\n",
       "      <td>1</td>\n",
       "      <td>0</td>\n",
       "      <td>0</td>\n",
       "      <td>0</td>\n",
       "      <td>0</td>\n",
       "      <td>1</td>\n",
       "      <td>0</td>\n",
       "      <td>0</td>\n",
       "      <td>0</td>\n",
       "      <td>0</td>\n",
       "      <td>0</td>\n",
       "      <td>1</td>\n",
       "      <td>1</td>\n",
       "      <td>0</td>\n",
       "      <td>0</td>\n",
       "      <td>0</td>\n",
       "      <td>0</td>\n",
       "      <td>0</td>\n",
       "      <td>0</td>\n",
       "      <td>0</td>\n",
       "      <td>0</td>\n",
       "      <td>0</td>\n",
       "      <td>0</td>\n",
       "      <td>0</td>\n",
       "      <td>0</td>\n",
       "      <td>0</td>\n",
       "      <td>0</td>\n",
       "      <td>0</td>\n",
       "      <td>2.5</td>\n",
       "      <td>298</td>\n",
       "      <td>2524</td>\n",
       "      <td>3</td>\n",
       "    </tr>\n",
       "    <tr>\n",
       "      <td>2</td>\n",
       "      <td>68.0</td>\n",
       "      <td>11250</td>\n",
       "      <td>1</td>\n",
       "      <td>2</td>\n",
       "      <td>2</td>\n",
       "      <td>7</td>\n",
       "      <td>5</td>\n",
       "      <td>2001</td>\n",
       "      <td>2002</td>\n",
       "      <td>1</td>\n",
       "      <td>162.0</td>\n",
       "      <td>90</td>\n",
       "      <td>80</td>\n",
       "      <td>90</td>\n",
       "      <td>80</td>\n",
       "      <td>3</td>\n",
       "      <td>6</td>\n",
       "      <td>486</td>\n",
       "      <td>1</td>\n",
       "      <td>0</td>\n",
       "      <td>434</td>\n",
       "      <td>100</td>\n",
       "      <td>1</td>\n",
       "      <td>920</td>\n",
       "      <td>866</td>\n",
       "      <td>0</td>\n",
       "      <td>3</td>\n",
       "      <td>1</td>\n",
       "      <td>90</td>\n",
       "      <td>6</td>\n",
       "      <td>10</td>\n",
       "      <td>1</td>\n",
       "      <td>70</td>\n",
       "      <td>2</td>\n",
       "      <td>2</td>\n",
       "      <td>70</td>\n",
       "      <td>2</td>\n",
       "      <td>0</td>\n",
       "      <td>9</td>\n",
       "      <td>2008</td>\n",
       "      <td>...</td>\n",
       "      <td>0</td>\n",
       "      <td>0</td>\n",
       "      <td>1</td>\n",
       "      <td>0</td>\n",
       "      <td>0</td>\n",
       "      <td>0</td>\n",
       "      <td>0</td>\n",
       "      <td>0</td>\n",
       "      <td>0</td>\n",
       "      <td>0</td>\n",
       "      <td>1</td>\n",
       "      <td>0</td>\n",
       "      <td>0</td>\n",
       "      <td>0</td>\n",
       "      <td>1</td>\n",
       "      <td>0</td>\n",
       "      <td>0</td>\n",
       "      <td>0</td>\n",
       "      <td>0</td>\n",
       "      <td>1</td>\n",
       "      <td>0</td>\n",
       "      <td>1</td>\n",
       "      <td>0</td>\n",
       "      <td>0</td>\n",
       "      <td>0</td>\n",
       "      <td>0</td>\n",
       "      <td>1</td>\n",
       "      <td>0</td>\n",
       "      <td>0</td>\n",
       "      <td>0</td>\n",
       "      <td>0</td>\n",
       "      <td>0</td>\n",
       "      <td>0</td>\n",
       "      <td>0</td>\n",
       "      <td>0</td>\n",
       "      <td>0</td>\n",
       "      <td>3.5</td>\n",
       "      <td>42</td>\n",
       "      <td>2706</td>\n",
       "      <td>3</td>\n",
       "    </tr>\n",
       "    <tr>\n",
       "      <td>3</td>\n",
       "      <td>60.0</td>\n",
       "      <td>9550</td>\n",
       "      <td>1</td>\n",
       "      <td>2</td>\n",
       "      <td>2</td>\n",
       "      <td>7</td>\n",
       "      <td>5</td>\n",
       "      <td>1915</td>\n",
       "      <td>1970</td>\n",
       "      <td>0</td>\n",
       "      <td>0.0</td>\n",
       "      <td>80</td>\n",
       "      <td>80</td>\n",
       "      <td>80</td>\n",
       "      <td>90</td>\n",
       "      <td>1</td>\n",
       "      <td>5</td>\n",
       "      <td>216</td>\n",
       "      <td>1</td>\n",
       "      <td>0</td>\n",
       "      <td>540</td>\n",
       "      <td>90</td>\n",
       "      <td>1</td>\n",
       "      <td>961</td>\n",
       "      <td>756</td>\n",
       "      <td>0</td>\n",
       "      <td>3</td>\n",
       "      <td>1</td>\n",
       "      <td>90</td>\n",
       "      <td>7</td>\n",
       "      <td>10</td>\n",
       "      <td>1</td>\n",
       "      <td>80</td>\n",
       "      <td>1</td>\n",
       "      <td>3</td>\n",
       "      <td>70</td>\n",
       "      <td>2</td>\n",
       "      <td>0</td>\n",
       "      <td>2</td>\n",
       "      <td>2006</td>\n",
       "      <td>...</td>\n",
       "      <td>0</td>\n",
       "      <td>0</td>\n",
       "      <td>1</td>\n",
       "      <td>0</td>\n",
       "      <td>0</td>\n",
       "      <td>0</td>\n",
       "      <td>0</td>\n",
       "      <td>0</td>\n",
       "      <td>0</td>\n",
       "      <td>0</td>\n",
       "      <td>1</td>\n",
       "      <td>0</td>\n",
       "      <td>0</td>\n",
       "      <td>0</td>\n",
       "      <td>1</td>\n",
       "      <td>0</td>\n",
       "      <td>0</td>\n",
       "      <td>0</td>\n",
       "      <td>0</td>\n",
       "      <td>1</td>\n",
       "      <td>0</td>\n",
       "      <td>0</td>\n",
       "      <td>0</td>\n",
       "      <td>0</td>\n",
       "      <td>0</td>\n",
       "      <td>0</td>\n",
       "      <td>0</td>\n",
       "      <td>1</td>\n",
       "      <td>0</td>\n",
       "      <td>0</td>\n",
       "      <td>0</td>\n",
       "      <td>0</td>\n",
       "      <td>0</td>\n",
       "      <td>0</td>\n",
       "      <td>0</td>\n",
       "      <td>0</td>\n",
       "      <td>2.0</td>\n",
       "      <td>307</td>\n",
       "      <td>2473</td>\n",
       "      <td>3</td>\n",
       "    </tr>\n",
       "    <tr>\n",
       "      <td>4</td>\n",
       "      <td>84.0</td>\n",
       "      <td>14260</td>\n",
       "      <td>1</td>\n",
       "      <td>2</td>\n",
       "      <td>2</td>\n",
       "      <td>8</td>\n",
       "      <td>5</td>\n",
       "      <td>2000</td>\n",
       "      <td>2000</td>\n",
       "      <td>1</td>\n",
       "      <td>350.0</td>\n",
       "      <td>90</td>\n",
       "      <td>80</td>\n",
       "      <td>90</td>\n",
       "      <td>80</td>\n",
       "      <td>4</td>\n",
       "      <td>6</td>\n",
       "      <td>655</td>\n",
       "      <td>1</td>\n",
       "      <td>0</td>\n",
       "      <td>490</td>\n",
       "      <td>100</td>\n",
       "      <td>1</td>\n",
       "      <td>1145</td>\n",
       "      <td>1053</td>\n",
       "      <td>0</td>\n",
       "      <td>4</td>\n",
       "      <td>1</td>\n",
       "      <td>90</td>\n",
       "      <td>9</td>\n",
       "      <td>10</td>\n",
       "      <td>1</td>\n",
       "      <td>70</td>\n",
       "      <td>2</td>\n",
       "      <td>3</td>\n",
       "      <td>70</td>\n",
       "      <td>2</td>\n",
       "      <td>0</td>\n",
       "      <td>12</td>\n",
       "      <td>2008</td>\n",
       "      <td>...</td>\n",
       "      <td>0</td>\n",
       "      <td>0</td>\n",
       "      <td>1</td>\n",
       "      <td>0</td>\n",
       "      <td>0</td>\n",
       "      <td>0</td>\n",
       "      <td>0</td>\n",
       "      <td>0</td>\n",
       "      <td>0</td>\n",
       "      <td>0</td>\n",
       "      <td>1</td>\n",
       "      <td>0</td>\n",
       "      <td>0</td>\n",
       "      <td>0</td>\n",
       "      <td>1</td>\n",
       "      <td>0</td>\n",
       "      <td>0</td>\n",
       "      <td>0</td>\n",
       "      <td>0</td>\n",
       "      <td>1</td>\n",
       "      <td>0</td>\n",
       "      <td>1</td>\n",
       "      <td>0</td>\n",
       "      <td>0</td>\n",
       "      <td>0</td>\n",
       "      <td>0</td>\n",
       "      <td>1</td>\n",
       "      <td>0</td>\n",
       "      <td>0</td>\n",
       "      <td>0</td>\n",
       "      <td>0</td>\n",
       "      <td>0</td>\n",
       "      <td>0</td>\n",
       "      <td>0</td>\n",
       "      <td>0</td>\n",
       "      <td>0</td>\n",
       "      <td>3.5</td>\n",
       "      <td>276</td>\n",
       "      <td>3343</td>\n",
       "      <td>4</td>\n",
       "    </tr>\n",
       "    <tr>\n",
       "      <td>...</td>\n",
       "      <td>...</td>\n",
       "      <td>...</td>\n",
       "      <td>...</td>\n",
       "      <td>...</td>\n",
       "      <td>...</td>\n",
       "      <td>...</td>\n",
       "      <td>...</td>\n",
       "      <td>...</td>\n",
       "      <td>...</td>\n",
       "      <td>...</td>\n",
       "      <td>...</td>\n",
       "      <td>...</td>\n",
       "      <td>...</td>\n",
       "      <td>...</td>\n",
       "      <td>...</td>\n",
       "      <td>...</td>\n",
       "      <td>...</td>\n",
       "      <td>...</td>\n",
       "      <td>...</td>\n",
       "      <td>...</td>\n",
       "      <td>...</td>\n",
       "      <td>...</td>\n",
       "      <td>...</td>\n",
       "      <td>...</td>\n",
       "      <td>...</td>\n",
       "      <td>...</td>\n",
       "      <td>...</td>\n",
       "      <td>...</td>\n",
       "      <td>...</td>\n",
       "      <td>...</td>\n",
       "      <td>...</td>\n",
       "      <td>...</td>\n",
       "      <td>...</td>\n",
       "      <td>...</td>\n",
       "      <td>...</td>\n",
       "      <td>...</td>\n",
       "      <td>...</td>\n",
       "      <td>...</td>\n",
       "      <td>...</td>\n",
       "      <td>...</td>\n",
       "      <td>...</td>\n",
       "      <td>...</td>\n",
       "      <td>...</td>\n",
       "      <td>...</td>\n",
       "      <td>...</td>\n",
       "      <td>...</td>\n",
       "      <td>...</td>\n",
       "      <td>...</td>\n",
       "      <td>...</td>\n",
       "      <td>...</td>\n",
       "      <td>...</td>\n",
       "      <td>...</td>\n",
       "      <td>...</td>\n",
       "      <td>...</td>\n",
       "      <td>...</td>\n",
       "      <td>...</td>\n",
       "      <td>...</td>\n",
       "      <td>...</td>\n",
       "      <td>...</td>\n",
       "      <td>...</td>\n",
       "      <td>...</td>\n",
       "      <td>...</td>\n",
       "      <td>...</td>\n",
       "      <td>...</td>\n",
       "      <td>...</td>\n",
       "      <td>...</td>\n",
       "      <td>...</td>\n",
       "      <td>...</td>\n",
       "      <td>...</td>\n",
       "      <td>...</td>\n",
       "      <td>...</td>\n",
       "      <td>...</td>\n",
       "      <td>...</td>\n",
       "      <td>...</td>\n",
       "      <td>...</td>\n",
       "      <td>...</td>\n",
       "      <td>...</td>\n",
       "      <td>...</td>\n",
       "      <td>...</td>\n",
       "      <td>...</td>\n",
       "      <td>...</td>\n",
       "    </tr>\n",
       "    <tr>\n",
       "      <td>1455</td>\n",
       "      <td>62.0</td>\n",
       "      <td>7917</td>\n",
       "      <td>1</td>\n",
       "      <td>3</td>\n",
       "      <td>2</td>\n",
       "      <td>6</td>\n",
       "      <td>5</td>\n",
       "      <td>1999</td>\n",
       "      <td>2000</td>\n",
       "      <td>0</td>\n",
       "      <td>0.0</td>\n",
       "      <td>80</td>\n",
       "      <td>80</td>\n",
       "      <td>90</td>\n",
       "      <td>80</td>\n",
       "      <td>1</td>\n",
       "      <td>1</td>\n",
       "      <td>0</td>\n",
       "      <td>1</td>\n",
       "      <td>0</td>\n",
       "      <td>953</td>\n",
       "      <td>100</td>\n",
       "      <td>1</td>\n",
       "      <td>953</td>\n",
       "      <td>694</td>\n",
       "      <td>0</td>\n",
       "      <td>3</td>\n",
       "      <td>1</td>\n",
       "      <td>80</td>\n",
       "      <td>7</td>\n",
       "      <td>10</td>\n",
       "      <td>1</td>\n",
       "      <td>70</td>\n",
       "      <td>2</td>\n",
       "      <td>2</td>\n",
       "      <td>70</td>\n",
       "      <td>2</td>\n",
       "      <td>0</td>\n",
       "      <td>8</td>\n",
       "      <td>2007</td>\n",
       "      <td>...</td>\n",
       "      <td>0</td>\n",
       "      <td>0</td>\n",
       "      <td>1</td>\n",
       "      <td>0</td>\n",
       "      <td>0</td>\n",
       "      <td>0</td>\n",
       "      <td>0</td>\n",
       "      <td>0</td>\n",
       "      <td>0</td>\n",
       "      <td>0</td>\n",
       "      <td>1</td>\n",
       "      <td>0</td>\n",
       "      <td>0</td>\n",
       "      <td>0</td>\n",
       "      <td>1</td>\n",
       "      <td>0</td>\n",
       "      <td>0</td>\n",
       "      <td>0</td>\n",
       "      <td>0</td>\n",
       "      <td>1</td>\n",
       "      <td>0</td>\n",
       "      <td>1</td>\n",
       "      <td>0</td>\n",
       "      <td>0</td>\n",
       "      <td>0</td>\n",
       "      <td>0</td>\n",
       "      <td>1</td>\n",
       "      <td>0</td>\n",
       "      <td>0</td>\n",
       "      <td>0</td>\n",
       "      <td>0</td>\n",
       "      <td>0</td>\n",
       "      <td>0</td>\n",
       "      <td>0</td>\n",
       "      <td>0</td>\n",
       "      <td>0</td>\n",
       "      <td>2.5</td>\n",
       "      <td>40</td>\n",
       "      <td>2600</td>\n",
       "      <td>3</td>\n",
       "    </tr>\n",
       "    <tr>\n",
       "      <td>1456</td>\n",
       "      <td>85.0</td>\n",
       "      <td>13175</td>\n",
       "      <td>1</td>\n",
       "      <td>3</td>\n",
       "      <td>2</td>\n",
       "      <td>6</td>\n",
       "      <td>6</td>\n",
       "      <td>1978</td>\n",
       "      <td>1988</td>\n",
       "      <td>2</td>\n",
       "      <td>119.0</td>\n",
       "      <td>80</td>\n",
       "      <td>80</td>\n",
       "      <td>90</td>\n",
       "      <td>80</td>\n",
       "      <td>1</td>\n",
       "      <td>5</td>\n",
       "      <td>790</td>\n",
       "      <td>3</td>\n",
       "      <td>163</td>\n",
       "      <td>589</td>\n",
       "      <td>80</td>\n",
       "      <td>1</td>\n",
       "      <td>2073</td>\n",
       "      <td>0</td>\n",
       "      <td>0</td>\n",
       "      <td>3</td>\n",
       "      <td>1</td>\n",
       "      <td>80</td>\n",
       "      <td>7</td>\n",
       "      <td>9</td>\n",
       "      <td>2</td>\n",
       "      <td>70</td>\n",
       "      <td>1</td>\n",
       "      <td>2</td>\n",
       "      <td>70</td>\n",
       "      <td>2</td>\n",
       "      <td>0</td>\n",
       "      <td>2</td>\n",
       "      <td>2010</td>\n",
       "      <td>...</td>\n",
       "      <td>0</td>\n",
       "      <td>0</td>\n",
       "      <td>1</td>\n",
       "      <td>0</td>\n",
       "      <td>0</td>\n",
       "      <td>0</td>\n",
       "      <td>0</td>\n",
       "      <td>0</td>\n",
       "      <td>1</td>\n",
       "      <td>0</td>\n",
       "      <td>0</td>\n",
       "      <td>0</td>\n",
       "      <td>0</td>\n",
       "      <td>0</td>\n",
       "      <td>1</td>\n",
       "      <td>0</td>\n",
       "      <td>0</td>\n",
       "      <td>0</td>\n",
       "      <td>0</td>\n",
       "      <td>1</td>\n",
       "      <td>1</td>\n",
       "      <td>0</td>\n",
       "      <td>0</td>\n",
       "      <td>0</td>\n",
       "      <td>0</td>\n",
       "      <td>0</td>\n",
       "      <td>0</td>\n",
       "      <td>0</td>\n",
       "      <td>0</td>\n",
       "      <td>0</td>\n",
       "      <td>0</td>\n",
       "      <td>0</td>\n",
       "      <td>0</td>\n",
       "      <td>0</td>\n",
       "      <td>0</td>\n",
       "      <td>0</td>\n",
       "      <td>3.0</td>\n",
       "      <td>349</td>\n",
       "      <td>3615</td>\n",
       "      <td>3</td>\n",
       "    </tr>\n",
       "    <tr>\n",
       "      <td>1457</td>\n",
       "      <td>66.0</td>\n",
       "      <td>9042</td>\n",
       "      <td>1</td>\n",
       "      <td>3</td>\n",
       "      <td>2</td>\n",
       "      <td>7</td>\n",
       "      <td>9</td>\n",
       "      <td>1941</td>\n",
       "      <td>2006</td>\n",
       "      <td>0</td>\n",
       "      <td>0.0</td>\n",
       "      <td>100</td>\n",
       "      <td>90</td>\n",
       "      <td>80</td>\n",
       "      <td>90</td>\n",
       "      <td>1</td>\n",
       "      <td>6</td>\n",
       "      <td>275</td>\n",
       "      <td>1</td>\n",
       "      <td>0</td>\n",
       "      <td>877</td>\n",
       "      <td>100</td>\n",
       "      <td>1</td>\n",
       "      <td>1188</td>\n",
       "      <td>1152</td>\n",
       "      <td>0</td>\n",
       "      <td>4</td>\n",
       "      <td>1</td>\n",
       "      <td>90</td>\n",
       "      <td>9</td>\n",
       "      <td>10</td>\n",
       "      <td>2</td>\n",
       "      <td>80</td>\n",
       "      <td>2</td>\n",
       "      <td>1</td>\n",
       "      <td>70</td>\n",
       "      <td>2</td>\n",
       "      <td>2500</td>\n",
       "      <td>5</td>\n",
       "      <td>2010</td>\n",
       "      <td>...</td>\n",
       "      <td>0</td>\n",
       "      <td>0</td>\n",
       "      <td>1</td>\n",
       "      <td>0</td>\n",
       "      <td>0</td>\n",
       "      <td>0</td>\n",
       "      <td>0</td>\n",
       "      <td>0</td>\n",
       "      <td>0</td>\n",
       "      <td>0</td>\n",
       "      <td>1</td>\n",
       "      <td>0</td>\n",
       "      <td>0</td>\n",
       "      <td>0</td>\n",
       "      <td>1</td>\n",
       "      <td>0</td>\n",
       "      <td>0</td>\n",
       "      <td>0</td>\n",
       "      <td>0</td>\n",
       "      <td>1</td>\n",
       "      <td>0</td>\n",
       "      <td>0</td>\n",
       "      <td>0</td>\n",
       "      <td>0</td>\n",
       "      <td>0</td>\n",
       "      <td>0</td>\n",
       "      <td>0</td>\n",
       "      <td>1</td>\n",
       "      <td>0</td>\n",
       "      <td>0</td>\n",
       "      <td>0</td>\n",
       "      <td>0</td>\n",
       "      <td>0</td>\n",
       "      <td>0</td>\n",
       "      <td>0</td>\n",
       "      <td>0</td>\n",
       "      <td>2.0</td>\n",
       "      <td>60</td>\n",
       "      <td>3492</td>\n",
       "      <td>3</td>\n",
       "    </tr>\n",
       "    <tr>\n",
       "      <td>1458</td>\n",
       "      <td>68.0</td>\n",
       "      <td>9717</td>\n",
       "      <td>1</td>\n",
       "      <td>3</td>\n",
       "      <td>2</td>\n",
       "      <td>5</td>\n",
       "      <td>6</td>\n",
       "      <td>1950</td>\n",
       "      <td>1996</td>\n",
       "      <td>0</td>\n",
       "      <td>0.0</td>\n",
       "      <td>80</td>\n",
       "      <td>80</td>\n",
       "      <td>80</td>\n",
       "      <td>80</td>\n",
       "      <td>3</td>\n",
       "      <td>6</td>\n",
       "      <td>49</td>\n",
       "      <td>3</td>\n",
       "      <td>1029</td>\n",
       "      <td>0</td>\n",
       "      <td>90</td>\n",
       "      <td>1</td>\n",
       "      <td>1078</td>\n",
       "      <td>0</td>\n",
       "      <td>0</td>\n",
       "      <td>2</td>\n",
       "      <td>1</td>\n",
       "      <td>90</td>\n",
       "      <td>5</td>\n",
       "      <td>10</td>\n",
       "      <td>0</td>\n",
       "      <td>0</td>\n",
       "      <td>1</td>\n",
       "      <td>1</td>\n",
       "      <td>70</td>\n",
       "      <td>2</td>\n",
       "      <td>0</td>\n",
       "      <td>4</td>\n",
       "      <td>2010</td>\n",
       "      <td>...</td>\n",
       "      <td>0</td>\n",
       "      <td>0</td>\n",
       "      <td>1</td>\n",
       "      <td>0</td>\n",
       "      <td>0</td>\n",
       "      <td>0</td>\n",
       "      <td>0</td>\n",
       "      <td>0</td>\n",
       "      <td>1</td>\n",
       "      <td>0</td>\n",
       "      <td>0</td>\n",
       "      <td>0</td>\n",
       "      <td>0</td>\n",
       "      <td>0</td>\n",
       "      <td>1</td>\n",
       "      <td>0</td>\n",
       "      <td>0</td>\n",
       "      <td>0</td>\n",
       "      <td>0</td>\n",
       "      <td>1</td>\n",
       "      <td>1</td>\n",
       "      <td>0</td>\n",
       "      <td>0</td>\n",
       "      <td>0</td>\n",
       "      <td>0</td>\n",
       "      <td>0</td>\n",
       "      <td>0</td>\n",
       "      <td>0</td>\n",
       "      <td>0</td>\n",
       "      <td>0</td>\n",
       "      <td>0</td>\n",
       "      <td>0</td>\n",
       "      <td>0</td>\n",
       "      <td>0</td>\n",
       "      <td>0</td>\n",
       "      <td>0</td>\n",
       "      <td>2.0</td>\n",
       "      <td>478</td>\n",
       "      <td>2156</td>\n",
       "      <td>2</td>\n",
       "    </tr>\n",
       "    <tr>\n",
       "      <td>1459</td>\n",
       "      <td>75.0</td>\n",
       "      <td>9937</td>\n",
       "      <td>1</td>\n",
       "      <td>3</td>\n",
       "      <td>2</td>\n",
       "      <td>5</td>\n",
       "      <td>6</td>\n",
       "      <td>1965</td>\n",
       "      <td>1965</td>\n",
       "      <td>0</td>\n",
       "      <td>0.0</td>\n",
       "      <td>90</td>\n",
       "      <td>80</td>\n",
       "      <td>80</td>\n",
       "      <td>80</td>\n",
       "      <td>1</td>\n",
       "      <td>4</td>\n",
       "      <td>830</td>\n",
       "      <td>2</td>\n",
       "      <td>290</td>\n",
       "      <td>136</td>\n",
       "      <td>90</td>\n",
       "      <td>1</td>\n",
       "      <td>1256</td>\n",
       "      <td>0</td>\n",
       "      <td>0</td>\n",
       "      <td>3</td>\n",
       "      <td>1</td>\n",
       "      <td>80</td>\n",
       "      <td>6</td>\n",
       "      <td>10</td>\n",
       "      <td>0</td>\n",
       "      <td>0</td>\n",
       "      <td>3</td>\n",
       "      <td>1</td>\n",
       "      <td>70</td>\n",
       "      <td>2</td>\n",
       "      <td>0</td>\n",
       "      <td>6</td>\n",
       "      <td>2008</td>\n",
       "      <td>...</td>\n",
       "      <td>0</td>\n",
       "      <td>0</td>\n",
       "      <td>1</td>\n",
       "      <td>0</td>\n",
       "      <td>0</td>\n",
       "      <td>0</td>\n",
       "      <td>0</td>\n",
       "      <td>0</td>\n",
       "      <td>1</td>\n",
       "      <td>0</td>\n",
       "      <td>0</td>\n",
       "      <td>0</td>\n",
       "      <td>0</td>\n",
       "      <td>0</td>\n",
       "      <td>1</td>\n",
       "      <td>0</td>\n",
       "      <td>0</td>\n",
       "      <td>0</td>\n",
       "      <td>0</td>\n",
       "      <td>1</td>\n",
       "      <td>1</td>\n",
       "      <td>0</td>\n",
       "      <td>0</td>\n",
       "      <td>0</td>\n",
       "      <td>0</td>\n",
       "      <td>0</td>\n",
       "      <td>0</td>\n",
       "      <td>0</td>\n",
       "      <td>0</td>\n",
       "      <td>0</td>\n",
       "      <td>0</td>\n",
       "      <td>0</td>\n",
       "      <td>0</td>\n",
       "      <td>0</td>\n",
       "      <td>0</td>\n",
       "      <td>0</td>\n",
       "      <td>2.5</td>\n",
       "      <td>804</td>\n",
       "      <td>2512</td>\n",
       "      <td>2</td>\n",
       "    </tr>\n",
       "  </tbody>\n",
       "</table>\n",
       "<p>1458 rows × 135 columns</p>\n",
       "</div>"
      ],
      "text/plain": [
       "      LotFrontage  LotArea  Street  LotShape  LandSlope  OverallQual  \\\n",
       "0            65.0     8450       1         3          2            7   \n",
       "1            80.0     9600       1         3          2            6   \n",
       "2            68.0    11250       1         2          2            7   \n",
       "3            60.0     9550       1         2          2            7   \n",
       "4            84.0    14260       1         2          2            8   \n",
       "...           ...      ...     ...       ...        ...          ...   \n",
       "1455         62.0     7917       1         3          2            6   \n",
       "1456         85.0    13175       1         3          2            6   \n",
       "1457         66.0     9042       1         3          2            7   \n",
       "1458         68.0     9717       1         3          2            5   \n",
       "1459         75.0     9937       1         3          2            5   \n",
       "\n",
       "      OverallCond  YearBuilt  YearRemodAdd  MasVnrType  MasVnrArea  ExterQual  \\\n",
       "0               5       2003          2003           1       196.0         90   \n",
       "1               8       1976          1976           0         0.0         80   \n",
       "2               5       2001          2002           1       162.0         90   \n",
       "3               5       1915          1970           0         0.0         80   \n",
       "4               5       2000          2000           1       350.0         90   \n",
       "...           ...        ...           ...         ...         ...        ...   \n",
       "1455            5       1999          2000           0         0.0         80   \n",
       "1456            6       1978          1988           2       119.0         80   \n",
       "1457            9       1941          2006           0         0.0        100   \n",
       "1458            6       1950          1996           0         0.0         80   \n",
       "1459            6       1965          1965           0         0.0         90   \n",
       "\n",
       "      ExterCond  BsmtQual  BsmtCond  BsmtExposure  BsmtFinType1  BsmtFinSF1  \\\n",
       "0            80        90        80             1             6         706   \n",
       "1            80        90        80             5             5         978   \n",
       "2            80        90        80             3             6         486   \n",
       "3            80        80        90             1             5         216   \n",
       "4            80        90        80             4             6         655   \n",
       "...         ...       ...       ...           ...           ...         ...   \n",
       "1455         80        90        80             1             1           0   \n",
       "1456         80        90        80             1             5         790   \n",
       "1457         90        80        90             1             6         275   \n",
       "1458         80        80        80             3             6          49   \n",
       "1459         80        80        80             1             4         830   \n",
       "\n",
       "      BsmtFinType2  BsmtFinSF2  BsmtUnfSF  HeatingQC  CentralAir  1stFlrSF  \\\n",
       "0                1           0        150        100           1       856   \n",
       "1                1           0        284        100           1      1262   \n",
       "2                1           0        434        100           1       920   \n",
       "3                1           0        540         90           1       961   \n",
       "4                1           0        490        100           1      1145   \n",
       "...            ...         ...        ...        ...         ...       ...   \n",
       "1455             1           0        953        100           1       953   \n",
       "1456             3         163        589         80           1      2073   \n",
       "1457             1           0        877        100           1      1188   \n",
       "1458             3        1029          0         90           1      1078   \n",
       "1459             2         290        136         90           1      1256   \n",
       "\n",
       "      2ndFlrSF  LowQualFinSF  BedroomAbvGr  KitchenAbvGr  KitchenQual  \\\n",
       "0          854             0             3             1           90   \n",
       "1            0             0             3             1           80   \n",
       "2          866             0             3             1           90   \n",
       "3          756             0             3             1           90   \n",
       "4         1053             0             4             1           90   \n",
       "...        ...           ...           ...           ...          ...   \n",
       "1455       694             0             3             1           80   \n",
       "1456         0             0             3             1           80   \n",
       "1457      1152             0             4             1           90   \n",
       "1458         0             0             2             1           90   \n",
       "1459         0             0             3             1           80   \n",
       "\n",
       "      TotRmsAbvGrd  Functional  Fireplaces  FireplaceQu  GarageFinish  \\\n",
       "0                8          10           0            0             2   \n",
       "1                6          10           1           70             2   \n",
       "2                6          10           1           70             2   \n",
       "3                7          10           1           80             1   \n",
       "4                9          10           1           70             2   \n",
       "...            ...         ...         ...          ...           ...   \n",
       "1455             7          10           1           70             2   \n",
       "1456             7           9           2           70             1   \n",
       "1457             9          10           2           80             2   \n",
       "1458             5          10           0            0             1   \n",
       "1459             6          10           0            0             3   \n",
       "\n",
       "      GarageCars  GarageQual  PavedDrive  MiscVal  MoSold  YrSold  ...  \\\n",
       "0              2          70           2        0       2    2008  ...   \n",
       "1              2          70           2        0       5    2007  ...   \n",
       "2              2          70           2        0       9    2008  ...   \n",
       "3              3          70           2        0       2    2006  ...   \n",
       "4              3          70           2        0      12    2008  ...   \n",
       "...          ...         ...         ...      ...     ...     ...  ...   \n",
       "1455           2          70           2        0       8    2007  ...   \n",
       "1456           2          70           2        0       2    2010  ...   \n",
       "1457           1          70           2     2500       5    2010  ...   \n",
       "1458           1          70           2        0       4    2010  ...   \n",
       "1459           1          70           2        0       6    2008  ...   \n",
       "\n",
       "      LContour__HLS  LContour__Low  LContour__Lvl  BType__2fmCon  \\\n",
       "0                 0              0              1              0   \n",
       "1                 0              0              1              0   \n",
       "2                 0              0              1              0   \n",
       "3                 0              0              1              0   \n",
       "4                 0              0              1              0   \n",
       "...             ...            ...            ...            ...   \n",
       "1455              0              0              1              0   \n",
       "1456              0              0              1              0   \n",
       "1457              0              0              1              0   \n",
       "1458              0              0              1              0   \n",
       "1459              0              0              1              0   \n",
       "\n",
       "      BType__Duplex  BType__Twnhs  BType__TwnhsE  HStyle__1.5Unf  \\\n",
       "0                 0             0              0               0   \n",
       "1                 0             0              0               0   \n",
       "2                 0             0              0               0   \n",
       "3                 0             0              0               0   \n",
       "4                 0             0              0               0   \n",
       "...             ...           ...            ...             ...   \n",
       "1455              0             0              0               0   \n",
       "1456              0             0              0               0   \n",
       "1457              0             0              0               0   \n",
       "1458              0             0              0               0   \n",
       "1459              0             0              0               0   \n",
       "\n",
       "      HStyle__1Story  HStyle__2.5Unf  HStyle__2Story  HStyle__SFoyer  \\\n",
       "0                  0               0               1               0   \n",
       "1                  1               0               0               0   \n",
       "2                  0               0               1               0   \n",
       "3                  0               0               1               0   \n",
       "4                  0               0               1               0   \n",
       "...              ...             ...             ...             ...   \n",
       "1455               0               0               1               0   \n",
       "1456               1               0               0               0   \n",
       "1457               0               0               1               0   \n",
       "1458               1               0               0               0   \n",
       "1459               1               0               0               0   \n",
       "\n",
       "      HStyle__SLvl  Co1__Feedr  Co1__Norm  Co1__PosA  Co1__PosN  Co1__RRAe  \\\n",
       "0                0           0          1          0          0          0   \n",
       "1                0           1          0          0          0          0   \n",
       "2                0           0          1          0          0          0   \n",
       "3                0           0          1          0          0          0   \n",
       "4                0           0          1          0          0          0   \n",
       "...            ...         ...        ...        ...        ...        ...   \n",
       "1455             0           0          1          0          0          0   \n",
       "1456             0           0          1          0          0          0   \n",
       "1457             0           0          1          0          0          0   \n",
       "1458             0           0          1          0          0          0   \n",
       "1459             0           0          1          0          0          0   \n",
       "\n",
       "      Co1__RRAn  Co2__Norm  Foun__CBlock  Foun__PConc  Foun__Slab  MSub__30  \\\n",
       "0             0          1             0            1           0         0   \n",
       "1             0          1             1            0           0         0   \n",
       "2             0          1             0            1           0         0   \n",
       "3             0          1             0            0           0         0   \n",
       "4             0          1             0            1           0         0   \n",
       "...         ...        ...           ...          ...         ...       ...   \n",
       "1455          0          1             0            1           0         0   \n",
       "1456          0          1             1            0           0         0   \n",
       "1457          0          1             0            0           0         0   \n",
       "1458          0          1             1            0           0         0   \n",
       "1459          0          1             1            0           0         0   \n",
       "\n",
       "      MSub__45  MSub__50  MSub__60  MSub__70  MSub__75  MSub__80  MSub__85  \\\n",
       "0            0         0         1         0         0         0         0   \n",
       "1            0         0         0         0         0         0         0   \n",
       "2            0         0         1         0         0         0         0   \n",
       "3            0         0         0         1         0         0         0   \n",
       "4            0         0         1         0         0         0         0   \n",
       "...        ...       ...       ...       ...       ...       ...       ...   \n",
       "1455         0         0         1         0         0         0         0   \n",
       "1456         0         0         0         0         0         0         0   \n",
       "1457         0         0         0         1         0         0         0   \n",
       "1458         0         0         0         0         0         0         0   \n",
       "1459         0         0         0         0         0         0         0   \n",
       "\n",
       "      MSub__90  MSub__120  MSub__160  MSub__180  MSub__190  Total_Bathrooms  \\\n",
       "0            0          0          0          0          0              3.5   \n",
       "1            0          0          0          0          0              2.5   \n",
       "2            0          0          0          0          0              3.5   \n",
       "3            0          0          0          0          0              2.0   \n",
       "4            0          0          0          0          0              3.5   \n",
       "...        ...        ...        ...        ...        ...              ...   \n",
       "1455         0          0          0          0          0              2.5   \n",
       "1456         0          0          0          0          0              3.0   \n",
       "1457         0          0          0          0          0              2.0   \n",
       "1458         0          0          0          0          0              2.0   \n",
       "1459         0          0          0          0          0              2.5   \n",
       "\n",
       "      Total_porch_sf  Total_SF  richNeigh  \n",
       "0                 61      2566          3  \n",
       "1                298      2524          3  \n",
       "2                 42      2706          3  \n",
       "3                307      2473          3  \n",
       "4                276      3343          4  \n",
       "...              ...       ...        ...  \n",
       "1455              40      2600          3  \n",
       "1456             349      3615          3  \n",
       "1457              60      3492          3  \n",
       "1458             478      2156          2  \n",
       "1459             804      2512          2  \n",
       "\n",
       "[1458 rows x 135 columns]"
      ]
     },
     "execution_count": 1067,
     "metadata": {},
     "output_type": "execute_result"
    }
   ],
   "source": [
    "df_train"
   ]
  },
  {
   "cell_type": "code",
   "execution_count": 1277,
   "metadata": {},
   "outputs": [],
   "source": [
    "a = pd.DataFrame(df_train.skew(), columns = ['skewness'])"
   ]
  },
  {
   "cell_type": "code",
   "execution_count": 1281,
   "metadata": {},
   "outputs": [
    {
     "data": {
      "text/plain": [
       "Index(['MSSubClass', 'LotFrontage', 'LotArea', 'OverallQual', 'OverallCond',\n",
       "       'YearBuilt', 'YearRemodAdd', 'MasVnrArea', 'BsmtFinSF1', 'BsmtFinSF2',\n",
       "       'BsmtUnfSF', 'TotalBsmtSF', '1stFlrSF', '2ndFlrSF', 'LowQualFinSF',\n",
       "       'GrLivArea', 'BsmtFullBath', 'BsmtHalfBath', 'FullBath', 'HalfBath',\n",
       "       'BedroomAbvGr', 'KitchenAbvGr', 'TotRmsAbvGrd', 'Fireplaces',\n",
       "       'GarageYrBlt', 'GarageCars', 'GarageArea', 'WoodDeckSF', 'OpenPorchSF',\n",
       "       'EnclosedPorch', '3SsnPorch', 'ScreenPorch', 'PoolArea', 'MiscVal',\n",
       "       'MoSold', 'YrSold', 'SalePrice', 'Total_porch_sf', 'Total_Bathrooms',\n",
       "       'Total_SF'],\n",
       "      dtype='object')"
      ]
     },
     "execution_count": 1281,
     "metadata": {},
     "output_type": "execute_result"
    }
   ],
   "source": [
    "a.index"
   ]
  },
  {
   "cell_type": "code",
   "execution_count": 1287,
   "metadata": {},
   "outputs": [
    {
     "data": {
      "text/plain": [
       "[Text(0.5, 1.0, 'skewness plot')]"
      ]
     },
     "execution_count": 1287,
     "metadata": {},
     "output_type": "execute_result"
    },
    {
     "data": {
      "image/png": "[encoded data removed]",
      "text/plain": [
       "<Figure size 864x576 with 1 Axes>"
      ]
     },
     "metadata": {},
     "output_type": "display_data"
    }
   ],
   "source": [
    "f, ax = plt.subplots(figsize=(12, 8))\n",
    "skew_plot = sns.barplot(y = a.index, x = \"skewness\", data = a, ax = ax)\n",
    "plt.axvline(x = 1, color='red')\n",
    "plt.axvline(x = -1, color='red')\n",
    "skew_plot.set(title = \"skewness plot\")"
   ]
  },
  {
   "cell_type": "code",
   "execution_count": 1290,
   "metadata": {},
   "outputs": [
    {
     "data": {
      "text/plain": [
       "[Text(0.5, 1.0, 'SalePrice before log transform')]"
      ]
     },
     "execution_count": 1290,
     "metadata": {},
     "output_type": "execute_result"
    },
    {
     "data": {
      "image/png": "[encoded data removed]",
      "text/plain": [
       "<Figure size 432x288 with 1 Axes>"
      ]
     },
     "metadata": {},
     "output_type": "display_data"
    }
   ],
   "source": [
    "sp_before = sns.distplot(df_train.SalePrice)\n",
    "sp_before.set(title = \"SalePrice before log transform\")"
   ]
  },
  {
   "cell_type": "code",
   "execution_count": 1291,
   "metadata": {},
   "outputs": [
    {
     "data": {
      "text/plain": [
       "[Text(0.5, 1.0, 'SalePrice after log transform')]"
      ]
     },
     "execution_count": 1291,
     "metadata": {},
     "output_type": "execute_result"
    },
    {
     "data": {
      "image/png": "[encoded data removed]",
      "text/plain": [
       "<Figure size 432x288 with 1 Axes>"
      ]
     },
     "metadata": {},
     "output_type": "display_data"
    }
   ],
   "source": [
    "sp_after = sns.distplot(np.log1p(df_train.SalePrice))\n",
    "sp_after.set(title = \"SalePrice after log transform\")"
   ]
  },
  {
   "cell_type": "code",
   "execution_count": 1297,
   "metadata": {},
   "outputs": [
    {
     "data": {
      "image/png": "[encoded data removed]",
      "text/plain": [
       "<Figure size 432x288 with 1 Axes>"
      ]
     },
     "metadata": {},
     "output_type": "display_data"
    }
   ],
   "source": [
    "import statsmodels.api as sm \n",
    "qq = sm.qqplot(np.log1p(df_train.SalePrice), line ='s')\n",
    "plt.show()"
   ]
  },
  {
   "cell_type": "code",
   "execution_count": null,
   "metadata": {},
   "outputs": [],
   "source": []
  }
 ],
 "metadata": {
  "kernelspec": {
   "display_name": "Python 3",
   "language": "python",
   "name": "python3"
  },
  "language_info": {
   "codemirror_mode": {
    "name": "ipython",
    "version": 3
   },
   "file_extension": ".py",
   "mimetype": "text/x-python",
   "name": "python",
   "nbconvert_exporter": "python",
   "pygments_lexer": "ipython3",
   "version": "3.7.4"
  }
 },
 "nbformat": 4,
 "nbformat_minor": 2
}
