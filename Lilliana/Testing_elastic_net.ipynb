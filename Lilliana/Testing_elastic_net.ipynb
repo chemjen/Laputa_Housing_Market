{
 "cells": [
  {
   "cell_type": "code",
   "execution_count": 129,
   "metadata": {},
   "outputs": [],
   "source": [
    "import pandas as pd\n",
    "import numpy as np\n",
    "\n",
    "#datadir = \"../house-prices-advanced-regression-techniques/\"\n",
    "train = pd.read_csv(\"train.csv\")\n",
    "test = pd.read_csv(\"test.csv\")\n",
    "\n",
    "train = train.loc[train['GrLivArea'] < 4500] # outlier removal\n",
    "\n",
    "for df in [train, test]:\n",
    "\n",
    "    df.set_index(\"Id\", inplace=True)\n",
    "    df['KitchenQual'] = df['KitchenQual'].fillna('TA')\n",
    "    df['MasVnrArea'] = df['MasVnrArea'].fillna(0)\n",
    "    df['BsmtFullBath'] = df['BsmtFullBath'].fillna(0)\n",
    "    df['BsmtHalfBath'] = df['BsmtHalfBath'].fillna(0)\n",
    "    df['GarageArea'] = df['GarageArea'].fillna(0)\n",
    "    df['TotalBsmtSF'] = df['TotalBsmtSF'].fillna(0)\n",
    "    df['Total_porch_sf'] = (df['OpenPorchSF'] + df['3SsnPorch'] +df['EnclosedPorch'] + df['ScreenPorch'] + df['WoodDeckSF'])\n",
    "    df['FullBath']  = df['FullBath'] + df['BsmtFullBath']\n",
    "    df['HalfBath'] = df['HalfBath'] + df['BsmtHalfBath']\n",
    "    \n",
    "    df['TotSF'] = df['GrLivArea']-df['LowQualFinSF'] + df['TotalBsmtSF']\n",
    "\n",
    "    df.drop(['FireplaceQu', 'Street', 'Utilities', 'LandContour', \n",
    "        'MasVnrType', 'Condition2', 'PoolArea', 'LotFrontage', 'CentralAir',\n",
    "        'Functional', 'LandSlope', 'LotConfig', 'Fence', 'BldgType', 'Street',\n",
    "        'Electrical', 'Alley', 'RoofStyle', 'KitchenAbvGr', 'BsmtFinType2',\n",
    "        'Heating', 'PavedDrive', 'LandContour', 'Condition1', 'GarageCond', \n",
    "        'ExterCond', 'MSZoning', 'MiscFeature', 'SaleCondition', 'BsmtFinSF2',\n",
    "        'SaleType', 'BsmtCond', 'MiscVal', 'GarageQual','EnclosedPorch',\n",
    "        '3SsnPorch', 'RoofMatl', 'ScreenPorch', 'LowQualFinSF', 'Condition2',\n",
    "        'PoolQC', 'PoolArea', 'BsmtHalfBath', 'BsmtFullBath', 'BsmtQual',\n",
    "        'BsmtExposure','BsmtFinType1', 'BsmtFinSF1', 'BsmtUnfSF', '1stFlrSF', \n",
    "        '2ndFlrSF', 'MSSubClass', 'LotShape', 'Neighborhood', 'YearRemodAdd',\n",
    "        'Exterior1st', 'Exterior2nd', 'GarageType', 'GarageYrBlt', 'Foundation',\n",
    "        'GarageFinish', 'GarageCars','GrLivArea','TotalBsmtSF','OpenPorchSF',\\\n",
    "             'EnclosedPorch','3SsnPorch','WoodDeckSF','ScreenPorch',\\\n",
    "            'TotalBsmtSF'], axis=1, inplace=True) \n",
    "\n",
    "    \n",
    "\n",
    "## performed a log transform of SalePrice\n",
    "## https://www.kaggle.com/jesucristo/1-house-prices-solution-top-1\n",
    "# train['LogSalePrice'] = np.log1p(train['SalePrice'])\n",
    "train.to_csv('train_clean.csv', index=False)\n",
    "test.to_csv('test_clean.csv', index=False)\n",
    "\n",
    "\n",
    "\n"
   ]
  },
  {
   "cell_type": "code",
   "execution_count": 130,
   "metadata": {},
   "outputs": [],
   "source": [
    "test_df = pd.read_csv('test_clean.csv')"
   ]
  },
  {
   "cell_type": "code",
   "execution_count": 131,
   "metadata": {},
   "outputs": [
    {
     "data": {
      "text/plain": [
       "pandas.core.indexes.base.Index"
      ]
     },
     "execution_count": 131,
     "metadata": {},
     "output_type": "execute_result"
    }
   ],
   "source": [
    "type(test_df.columns)"
   ]
  },
  {
   "cell_type": "code",
   "execution_count": 138,
   "metadata": {
    "scrolled": true
   },
   "outputs": [
    {
     "data": {
      "text/plain": [
       "(1459, 27)"
      ]
     },
     "execution_count": 138,
     "metadata": {},
     "output_type": "execute_result"
    }
   ],
   "source": [
    "test_df.shape"
   ]
  },
  {
   "cell_type": "code",
   "execution_count": 133,
   "metadata": {},
   "outputs": [],
   "source": [
    "#Dummify\n",
    "HS_dummy = pd.get_dummies(test_df['HouseStyle'], prefix='HS', prefix_sep='__', drop_first = True)\n",
    "test_df = pd.concat([test_df.drop('HouseStyle', axis=1), HS_dummy], axis=1)\n",
    "EQ_dummy = pd.get_dummies(test_df['ExterQual'], prefix='EQ', prefix_sep='__', drop_first = True)\n",
    "test_df = pd.concat([test_df.drop('ExterQual', axis=1), EQ_dummy], axis=1)\n",
    "HQC_dummy = pd.get_dummies(test_df['HeatingQC'], prefix='HQC', prefix_sep='__',drop_first = True)\n",
    "test_df = pd.concat([test_df.drop('HeatingQC', axis=1), HQC_dummy], axis=1)\n",
    "KQ_dummy = pd.get_dummies(test_df['KitchenQual'], prefix='KQ', prefix_sep='__',drop_first = True)\n",
    "test_df = pd.concat([test_df.drop('KitchenQual', axis=1), KQ_dummy], axis=1)"
   ]
  },
  {
   "cell_type": "code",
   "execution_count": 134,
   "metadata": {},
   "outputs": [
    {
     "data": {
      "text/plain": [
       "Index(['LotArea', 'OverallQual', 'OverallCond', 'YearBuilt', 'MasVnrArea',\n",
       "       'FullBath', 'HalfBath', 'BedroomAbvGr', 'TotRmsAbvGrd', 'Fireplaces',\n",
       "       'GarageArea', 'MoSold', 'YrSold', 'Total_porch_sf', 'TotSF',\n",
       "       'HS__1.5Unf', 'HS__1Story', 'HS__2.5Unf', 'HS__2Story', 'HS__SFoyer',\n",
       "       'HS__SLvl', 'EQ__Fa', 'EQ__Gd', 'EQ__TA', 'HQC__Fa', 'HQC__Gd',\n",
       "       'HQC__Po', 'HQC__TA', 'KQ__Fa', 'KQ__Gd', 'KQ__TA'],\n",
       "      dtype='object')"
      ]
     },
     "execution_count": 134,
     "metadata": {},
     "output_type": "execute_result"
    }
   ],
   "source": [
    "test_df.columns"
   ]
  },
  {
   "cell_type": "code",
   "execution_count": 135,
   "metadata": {},
   "outputs": [],
   "source": [
    "test_df.drop(['HS__1.5Unf','HQC__Po','EQ__Gd','HS__1Story'],axis=1,inplace=True)"
   ]
  },
  {
   "cell_type": "code",
   "execution_count": 136,
   "metadata": {},
   "outputs": [],
   "source": [
    "test_df.to_csv('test_clean.csv', index=False)"
   ]
  },
  {
   "cell_type": "code",
   "execution_count": 137,
   "metadata": {},
   "outputs": [
    {
     "data": {
      "text/plain": [
       "Index(['LotArea', 'OverallQual', 'OverallCond', 'YearBuilt', 'MasVnrArea',\n",
       "       'FullBath', 'HalfBath', 'BedroomAbvGr', 'TotRmsAbvGrd', 'Fireplaces',\n",
       "       'GarageArea', 'MoSold', 'YrSold', 'Total_porch_sf', 'TotSF',\n",
       "       'HS__2.5Unf', 'HS__2Story', 'HS__SFoyer', 'HS__SLvl', 'EQ__Fa',\n",
       "       'EQ__TA', 'HQC__Fa', 'HQC__Gd', 'HQC__TA', 'KQ__Fa', 'KQ__Gd',\n",
       "       'KQ__TA'],\n",
       "      dtype='object')"
      ]
     },
     "execution_count": 137,
     "metadata": {},
     "output_type": "execute_result"
    }
   ],
   "source": [
    "test_df.columns"
   ]
  },
  {
   "cell_type": "code",
   "execution_count": null,
   "metadata": {},
   "outputs": [],
   "source": []
  },
  {
   "cell_type": "code",
   "execution_count": null,
   "metadata": {},
   "outputs": [],
   "source": []
  },
  {
   "cell_type": "code",
   "execution_count": null,
   "metadata": {},
   "outputs": [],
   "source": []
  }
 ],
 "metadata": {
  "kernelspec": {
   "display_name": "Python 3",
   "language": "python",
   "name": "python3"
  },
  "language_info": {
   "codemirror_mode": {
    "name": "ipython",
    "version": 3
   },
   "file_extension": ".py",
   "mimetype": "text/x-python",
   "name": "python",
   "nbconvert_exporter": "python",
   "pygments_lexer": "ipython3",
   "version": "3.7.3"
  }
 },
 "nbformat": 4,
 "nbformat_minor": 2
}
